{
  "nbformat": 4,
  "nbformat_minor": 0,
  "metadata": {
    "colab": {
      "name": "tp1_parte1_3.ipynb",
      "provenance": [],
      "mount_file_id": "1bL4PaHTWWb3zhXqqHNrIwYAUEELic7eg",
      "authorship_tag": "ABX9TyN0Mg6AT+ozdFlFIpvtX18s",
      "include_colab_link": true
    },
    "kernelspec": {
      "name": "python3",
      "display_name": "Python 3"
    },
    "language_info": {
      "name": "python"
    }
  },
  "cells": [
    {
      "cell_type": "markdown",
      "metadata": {
        "id": "view-in-github",
        "colab_type": "text"
      },
      "source": [
        "<a href=\"https://colab.research.google.com/github/ilitteri/7506-Datos/blob/main/tp1_parte1_3.ipynb\" target=\"_parent\"><img src=\"https://colab.research.google.com/assets/colab-badge.svg\" alt=\"Open In Colab\"/></a>"
      ]
    },
    {
      "cell_type": "code",
      "execution_count": 2,
      "metadata": {
        "id": "gCdBUhxk63e0"
      },
      "outputs": [],
      "source": [
        "import pandas as pd"
      ]
    },
    {
      "cell_type": "code",
      "source": [
        "def path_for(dataset: str) -> str:\n",
        "    return f'/content/drive/MyDrive/{dataset}.csv'\n",
        "\n",
        "business = pd.read_csv(path_for(\"Dataset/business\"))\n",
        "review = pd.read_csv(path_for(\"Dataset/review\"))"
      ],
      "metadata": {
        "id": "rxuCMDEw65Z6"
      },
      "execution_count": 7,
      "outputs": []
    },
    {
      "cell_type": "markdown",
      "source": [
        "#  P13\n",
        "\n",
        "Nos vamos a quedar dos días en New Orleans por una meetup de data science. Queremos visitar la ciudad pero no tenemos mucho tiempo así que visitaremos sus mejores lugares. Vamos a calcular el score de review promedio para cada lugar, pero para tener en cuenta la varianza vamos a restarle a cada promedio su desviación estándar y solo usar lugares con más de 10 reviews.\n",
        "\n",
        "- Nos han dicho que la ciudad tiene un barrio francés con muy buena gastronomía. ¿Cúal es el mejor lugar para comer con la categoría “French”?\n",
        "- Después de comer queremos ir a un bar a tomar tragos, ¿cuál es el mejor de la categoría “Bars”?\n",
        "- ¿Cuál es el mejor museo (categoría “Museums”)? ¿De qué trata?\n"
      ],
      "metadata": {
        "id": "M6qezpwz7FgY"
      }
    },
    {
      "cell_type": "code",
      "source": [
        "cantidad_de_reviews_por_lugar = review[['business_id', 'stars']].groupby('business_id').count()\n",
        "lugares_con_mas_de_10_reviews = cantidad_de_reviews_por_lugar[cantidad_de_reviews_por_lugar['stars'] > 10].reset_index()['business_id']\n",
        "estrellas_de_reviews_agrupadas_por_lugares = review.merge(lugares_con_mas_de_10_reviews)[['business_id', 'stars']].groupby('business_id')\n",
        "score_de_estrellas_promedio = estrellas_de_reviews_agrupadas_por_lugares.mean() - estrellas_de_reviews_agrupadas_por_lugares.std()\n",
        "score_de_estrellas_promedio.columns = ['score']\n",
        "score_de_estrellas_promedio = score_de_estrellas_promedio.reset_index()\n",
        "lugares_con_score = business.merge(score_de_estrellas_promedio)\n",
        "lugares_con_score.categories = lugares_con_score.categories.map(lambda c: str(c) if not type(c) == str else c)\n",
        "\n",
        "def es_de_categoria(categoria: str, categorias: str):\n",
        "    return categoria in categorias.split(', ')\n",
        "\n",
        "def encontrar_mejor_lugar_para_categoria(categoria: str, df):\n",
        "    return df[df['categories'].notnull() & df.categories.map(lambda categorias: es_de_categoria(categoria, categorias))].sort_values('score', ascending=False).head(1)\n",
        "\n",
        "\n",
        "mejor_museo = encontrar_mejor_lugar_para_categoria(categoria='Museums', df=lugares_con_score).reset_index()\n",
        "otras_categorias_de_mejor_museo = business[business['business_id'] == mejor_museo['business_id'][0]]['categories'].str.split(', ').tolist()[0]\n",
        "otras_categorias_de_mejor_museo.remove('Museums')\n",
        "\n",
        "print(f\"El mejor lugar para comer con la categoría “French” es: {encontrar_mejor_lugar_para_categoria(categoria='French', df=lugares_con_score).reset_index()['name'][0]}\")\n",
        "print(f\"El mejor lugar para ir a tomar algo con la categoría “Bars” es: {encontrar_mejor_lugar_para_categoria(categoria='Bars', df=lugares_con_score).reset_index()['name'][0]}\")\n",
        "print(f\"El mejor museo es: {mejor_museo['name'][0]} y también pertenece a las categorías de:\", *otras_categorias_de_mejor_museo)"
      ],
      "metadata": {
        "colab": {
          "base_uri": "https://localhost:8080/"
        },
        "id": "_4hvBF4Z7GKW",
        "outputId": "9350fdb4-ce17-4e9c-db62-a4fa32c7d86a"
      },
      "execution_count": 28,
      "outputs": [
        {
          "output_type": "stream",
          "name": "stdout",
          "text": [
            "El mejor lugar para comer con la categoría “French” es: Bistro La Bête\n",
            "El mejor lugar para ir a tomar algo con la categoría “Bars” es: Jerry's Cigars\n",
            "El mejor museo es: Lower Ninth Ward Living Museum y también pertenece a las categorías de: Arts & Entertainment\n"
          ]
        }
      ]
    }
  ]
}