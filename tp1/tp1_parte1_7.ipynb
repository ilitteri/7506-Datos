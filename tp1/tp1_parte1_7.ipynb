{
  "nbformat": 4,
  "nbformat_minor": 0,
  "metadata": {
    "colab": {
      "name": "tp1_parte1_7.ipynb",
      "provenance": [],
      "mount_file_id": "1m6_fAaQJ5jTdjQALG2hDT2lsWgRR-ycO",
      "authorship_tag": "ABX9TyM6WxCVbmM0iSi3/AahnXer",
      "include_colab_link": true
    },
    "kernelspec": {
      "name": "python3",
      "display_name": "Python 3"
    },
    "language_info": {
      "name": "python"
    }
  },
  "cells": [
    {
      "cell_type": "markdown",
      "metadata": {
        "id": "view-in-github",
        "colab_type": "text"
      },
      "source": [
        "<a href=\"https://colab.research.google.com/github/ilitteri/7506-Datos/blob/main/tp1_parte1_7.ipynb\" target=\"_parent\"><img src=\"https://colab.research.google.com/assets/colab-badge.svg\" alt=\"Open In Colab\"/></a>"
      ]
    },
    {
      "cell_type": "code",
      "execution_count": 1,
      "metadata": {
        "id": "ADG2eVITAGR4"
      },
      "outputs": [],
      "source": [
        "import pandas as pd"
      ]
    },
    {
      "cell_type": "code",
      "source": [
        "def path_for(dataset: str) -> str:\n",
        "    return f'/content/drive/MyDrive/Dataset/{dataset}.csv'\n",
        "\n",
        "review = pd.read_csv(path_for(\"review\"))\n",
        "user = pd.read_csv(path_for(\"user\"))"
      ],
      "metadata": {
        "id": "M9KOeYFaAItT"
      },
      "execution_count": 2,
      "outputs": []
    },
    {
      "cell_type": "markdown",
      "source": [
        "# P29\n",
        "\n",
        "Queremos recomendarle lugares al usuario ‘bNnBwW5kNO77KTgMeVhxKg’. Para esto vamos a decir que a un usuario le gusto un lugar si le dio 3 estrellas o más y tomamos sólo los usuarios que hayan realizado más de 10 reviews. Vamos a buscar al usuario que más lugares le gusten en común y recomendarle todos aquellos que a ese le gustaran y le falte hacer review."
      ],
      "metadata": {
        "id": "OzIUVSe-ANsl"
      }
    },
    {
      "cell_type": "code",
      "source": [
        "USUARIO_A_RECOMENDAR = \"bNnBwW5kNO77KTgMeVhxKg\"\n",
        "MINIMO_DE_ESTRELLAS_PARA_QUE_UN_NEGOCIO_SEA_CONSIDERADO_GUSTADO = 3.0\n",
        "\n",
        "reviews_de_usuarios_con_mas_de_10_reviews_de_3_estrellas_o_mas = review[(review['stars'] >= 3.0)].merge(user[(user['review_count'] > 10.0) & (user['user_id'] != USUARIO_A_RECOMENDAR)]['user_id'])\n",
        "\n",
        "negocios_que_le_gustaron_a_usuario_a_recomendar = review[(review['stars'] >= 3.0) & (review['user_id'] == USUARIO_A_RECOMENDAR)]['business_id']\n",
        "\n",
        "usuario_con_mas_lugares_gustados_en_comun_con_usuario_a_recomendar = reviews_de_usuarios_con_mas_de_10_reviews_de_3_estrellas_o_mas.merge(negocios_que_le_gustaron_a_usuario_a_recomendar, left_on='business_id', right_on='business_id').groupby(\"user_id\")[\"business_id\"].count().reset_index().sort_values(\"business_id\", ascending=False).iloc[0][\"user_id\"]\n",
        "\n",
        "lugares_por_calificar_a_usuario_a_recomendar = pd.DataFrame(set(reviews_de_usuarios_con_mas_de_10_reviews_de_3_estrellas_o_mas[reviews_de_usuarios_con_mas_de_10_reviews_de_3_estrellas_o_mas[\"user_id\"] == usuario_con_mas_lugares_gustados_en_comun_con_usuario_a_recomendar][\"business_id\"]) - set(negocios_que_le_gustaron_a_usuario_a_recomendar), columns=[\"business_id\"])\n",
        "\n",
        "lugares_por_calificar_a_usuario_a_recomendar"
      ],
      "metadata": {
        "colab": {
          "base_uri": "https://localhost:8080/",
          "height": 424
        },
        "id": "zmUwVWwRANYi",
        "outputId": "d48617cb-9022-440a-949d-5ad305d4a47c"
      },
      "execution_count": 3,
      "outputs": [
        {
          "output_type": "execute_result",
          "data": {
            "text/plain": [
              "                 business_id\n",
              "0     LkmyxPN4L99fSZR76tV7CA\n",
              "1     r9tKxi7rkUyZTp1F4mNovw\n",
              "2     DdXHwMvFa_vlWwOfgxUNVA\n",
              "3     6Rn21FbTa5EUmDh668laNA\n",
              "4     S9ggMHDj2PnvOKNAFIm8pw\n",
              "...                      ...\n",
              "1085  D1s6HS9bAYRENT9N5QQodw\n",
              "1086  K4hv9AlOMl8fYYUkefM7pw\n",
              "1087  cwHoYlBw7QRZLSbu9hLcbg\n",
              "1088  kQSIyrBeeXarRZzovJn-rg\n",
              "1089  IHkPrqEwrZ4JQFBpRQNsqg\n",
              "\n",
              "[1090 rows x 1 columns]"
            ],
            "text/html": [
              "\n",
              "  <div id=\"df-eb23ba32-2974-4c98-bb88-e9a9d02b9e87\">\n",
              "    <div class=\"colab-df-container\">\n",
              "      <div>\n",
              "<style scoped>\n",
              "    .dataframe tbody tr th:only-of-type {\n",
              "        vertical-align: middle;\n",
              "    }\n",
              "\n",
              "    .dataframe tbody tr th {\n",
              "        vertical-align: top;\n",
              "    }\n",
              "\n",
              "    .dataframe thead th {\n",
              "        text-align: right;\n",
              "    }\n",
              "</style>\n",
              "<table border=\"1\" class=\"dataframe\">\n",
              "  <thead>\n",
              "    <tr style=\"text-align: right;\">\n",
              "      <th></th>\n",
              "      <th>business_id</th>\n",
              "    </tr>\n",
              "  </thead>\n",
              "  <tbody>\n",
              "    <tr>\n",
              "      <th>0</th>\n",
              "      <td>LkmyxPN4L99fSZR76tV7CA</td>\n",
              "    </tr>\n",
              "    <tr>\n",
              "      <th>1</th>\n",
              "      <td>r9tKxi7rkUyZTp1F4mNovw</td>\n",
              "    </tr>\n",
              "    <tr>\n",
              "      <th>2</th>\n",
              "      <td>DdXHwMvFa_vlWwOfgxUNVA</td>\n",
              "    </tr>\n",
              "    <tr>\n",
              "      <th>3</th>\n",
              "      <td>6Rn21FbTa5EUmDh668laNA</td>\n",
              "    </tr>\n",
              "    <tr>\n",
              "      <th>4</th>\n",
              "      <td>S9ggMHDj2PnvOKNAFIm8pw</td>\n",
              "    </tr>\n",
              "    <tr>\n",
              "      <th>...</th>\n",
              "      <td>...</td>\n",
              "    </tr>\n",
              "    <tr>\n",
              "      <th>1085</th>\n",
              "      <td>D1s6HS9bAYRENT9N5QQodw</td>\n",
              "    </tr>\n",
              "    <tr>\n",
              "      <th>1086</th>\n",
              "      <td>K4hv9AlOMl8fYYUkefM7pw</td>\n",
              "    </tr>\n",
              "    <tr>\n",
              "      <th>1087</th>\n",
              "      <td>cwHoYlBw7QRZLSbu9hLcbg</td>\n",
              "    </tr>\n",
              "    <tr>\n",
              "      <th>1088</th>\n",
              "      <td>kQSIyrBeeXarRZzovJn-rg</td>\n",
              "    </tr>\n",
              "    <tr>\n",
              "      <th>1089</th>\n",
              "      <td>IHkPrqEwrZ4JQFBpRQNsqg</td>\n",
              "    </tr>\n",
              "  </tbody>\n",
              "</table>\n",
              "<p>1090 rows × 1 columns</p>\n",
              "</div>\n",
              "      <button class=\"colab-df-convert\" onclick=\"convertToInteractive('df-eb23ba32-2974-4c98-bb88-e9a9d02b9e87')\"\n",
              "              title=\"Convert this dataframe to an interactive table.\"\n",
              "              style=\"display:none;\">\n",
              "        \n",
              "  <svg xmlns=\"http://www.w3.org/2000/svg\" height=\"24px\"viewBox=\"0 0 24 24\"\n",
              "       width=\"24px\">\n",
              "    <path d=\"M0 0h24v24H0V0z\" fill=\"none\"/>\n",
              "    <path d=\"M18.56 5.44l.94 2.06.94-2.06 2.06-.94-2.06-.94-.94-2.06-.94 2.06-2.06.94zm-11 1L8.5 8.5l.94-2.06 2.06-.94-2.06-.94L8.5 2.5l-.94 2.06-2.06.94zm10 10l.94 2.06.94-2.06 2.06-.94-2.06-.94-.94-2.06-.94 2.06-2.06.94z\"/><path d=\"M17.41 7.96l-1.37-1.37c-.4-.4-.92-.59-1.43-.59-.52 0-1.04.2-1.43.59L10.3 9.45l-7.72 7.72c-.78.78-.78 2.05 0 2.83L4 21.41c.39.39.9.59 1.41.59.51 0 1.02-.2 1.41-.59l7.78-7.78 2.81-2.81c.8-.78.8-2.07 0-2.86zM5.41 20L4 18.59l7.72-7.72 1.47 1.35L5.41 20z\"/>\n",
              "  </svg>\n",
              "      </button>\n",
              "      \n",
              "  <style>\n",
              "    .colab-df-container {\n",
              "      display:flex;\n",
              "      flex-wrap:wrap;\n",
              "      gap: 12px;\n",
              "    }\n",
              "\n",
              "    .colab-df-convert {\n",
              "      background-color: #E8F0FE;\n",
              "      border: none;\n",
              "      border-radius: 50%;\n",
              "      cursor: pointer;\n",
              "      display: none;\n",
              "      fill: #1967D2;\n",
              "      height: 32px;\n",
              "      padding: 0 0 0 0;\n",
              "      width: 32px;\n",
              "    }\n",
              "\n",
              "    .colab-df-convert:hover {\n",
              "      background-color: #E2EBFA;\n",
              "      box-shadow: 0px 1px 2px rgba(60, 64, 67, 0.3), 0px 1px 3px 1px rgba(60, 64, 67, 0.15);\n",
              "      fill: #174EA6;\n",
              "    }\n",
              "\n",
              "    [theme=dark] .colab-df-convert {\n",
              "      background-color: #3B4455;\n",
              "      fill: #D2E3FC;\n",
              "    }\n",
              "\n",
              "    [theme=dark] .colab-df-convert:hover {\n",
              "      background-color: #434B5C;\n",
              "      box-shadow: 0px 1px 3px 1px rgba(0, 0, 0, 0.15);\n",
              "      filter: drop-shadow(0px 1px 2px rgba(0, 0, 0, 0.3));\n",
              "      fill: #FFFFFF;\n",
              "    }\n",
              "  </style>\n",
              "\n",
              "      <script>\n",
              "        const buttonEl =\n",
              "          document.querySelector('#df-eb23ba32-2974-4c98-bb88-e9a9d02b9e87 button.colab-df-convert');\n",
              "        buttonEl.style.display =\n",
              "          google.colab.kernel.accessAllowed ? 'block' : 'none';\n",
              "\n",
              "        async function convertToInteractive(key) {\n",
              "          const element = document.querySelector('#df-eb23ba32-2974-4c98-bb88-e9a9d02b9e87');\n",
              "          const dataTable =\n",
              "            await google.colab.kernel.invokeFunction('convertToInteractive',\n",
              "                                                     [key], {});\n",
              "          if (!dataTable) return;\n",
              "\n",
              "          const docLinkHtml = 'Like what you see? Visit the ' +\n",
              "            '<a target=\"_blank\" href=https://colab.research.google.com/notebooks/data_table.ipynb>data table notebook</a>'\n",
              "            + ' to learn more about interactive tables.';\n",
              "          element.innerHTML = '';\n",
              "          dataTable['output_type'] = 'display_data';\n",
              "          await google.colab.output.renderOutput(dataTable, element);\n",
              "          const docLink = document.createElement('div');\n",
              "          docLink.innerHTML = docLinkHtml;\n",
              "          element.appendChild(docLink);\n",
              "        }\n",
              "      </script>\n",
              "    </div>\n",
              "  </div>\n",
              "  "
            ]
          },
          "metadata": {},
          "execution_count": 3
        }
      ]
    }
  ]
}