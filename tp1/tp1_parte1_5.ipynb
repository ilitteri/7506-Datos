{
  "nbformat": 4,
  "nbformat_minor": 0,
  "metadata": {
    "colab": {
      "name": "tp1_parte1_5.ipynb",
      "provenance": [],
      "mount_file_id": "18fSljdKbqZcsZbfKKcRkGUxYhl1605U6",
      "authorship_tag": "ABX9TyMKZTaTpJ1qsa8KTLegCLkZ",
      "include_colab_link": true
    },
    "kernelspec": {
      "name": "python3",
      "display_name": "Python 3"
    },
    "language_info": {
      "name": "python"
    }
  },
  "cells": [
    {
      "cell_type": "markdown",
      "metadata": {
        "id": "view-in-github",
        "colab_type": "text"
      },
      "source": [
        "<a href=\"https://colab.research.google.com/github/ilitteri/7506-Datos/blob/main/tp1_parte1_5.ipynb\" target=\"_parent\"><img src=\"https://colab.research.google.com/assets/colab-badge.svg\" alt=\"Open In Colab\"/></a>"
      ]
    },
    {
      "cell_type": "code",
      "execution_count": 10,
      "metadata": {
        "id": "Viy1V6L_Fkf-"
      },
      "outputs": [],
      "source": [
        "import pandas as pd\n",
        "from datetime import datetime, time\n",
        "import random\n",
        "import json"
      ]
    },
    {
      "cell_type": "code",
      "source": [
        "def path_for(dataset: str) -> str:\n",
        "    return f'/content/drive/MyDrive/Dataset/{dataset}.csv'\n",
        "\n",
        "def nan_count_in_series(column: pd.Series) -> int:\n",
        "    return column.isna().sum()"
      ],
      "metadata": {
        "id": "XHT2XKwhHQE9"
      },
      "execution_count": 6,
      "outputs": []
    },
    {
      "cell_type": "code",
      "source": [
        "businesses = pd.read_csv(path_for(\"business\"))\n",
        "review = pd.read_csv(path_for(\"review\"))"
      ],
      "metadata": {
        "id": "l5-XojIrGhpx"
      },
      "execution_count": 7,
      "outputs": []
    },
    {
      "cell_type": "markdown",
      "source": [
        "# P19\n",
        "\n",
        "Fernando quiere festejar su cumpleaños, que cae jueves, al salir de la oficina a las 19 hs. Sus amigos viven distribuidos en la ciudad de Philadelphia, por lo que es indiferente la ubicación del lugar, siempre y cuando esté en la ciudad. Quiere que le ofrezcamos el top 3 de lugares de comida italiana, generando el ranking según la cantidad de reviews de 5 estrellas que hayan recibido. Devolver algunas referencias (al azar) de cada uno de ellos, para ayudarlo a decidir en cual realizar la reserva."
      ],
      "metadata": {
        "id": "S6CVp0nuHFzq"
      }
    },
    {
      "cell_type": "code",
      "source": [
        "def trasnocha(hora_de_apertura, hora_de_cierre):\n",
        "    return hora_de_apertura > hora_de_cierre\n",
        "\n",
        "def hora_esta_entre(hora_de_apertura: datetime.time, hora_de_cierre: datetime.time, hora_a_verificar: datetime.time):\n",
        "    return hora_de_apertura <= hora_a_verificar < hora_de_cierre if not trasnocha(hora_de_apertura, hora_de_cierre) else hora_a_verificar >= hora_de_apertura or hora_a_verificar <= hora_de_cierre\n",
        "\n",
        "def transformar_a_tiempo(a_time: str):\n",
        "    return time(*list(map(int, a_time.split(':'))))\n",
        "\n",
        "def esta_abierto_a_las_19(rango: str):\n",
        "    hora_de_apertura, hora_de_cierre = rango.split('-')\n",
        "    return hora_esta_entre(transformar_a_tiempo(hora_de_apertura), transformar_a_tiempo(hora_de_cierre), time(19, 0))\n",
        "\n",
        "def mezclar_reviews(id_de_lugar_en_top, df):\n",
        "    recomendaciones = df.loc[df['business_id'] == id_de_lugar_en_top]['text'].tolist()\n",
        "    random.shuffle(recomendaciones)\n",
        "    return recomendaciones\n",
        "\n",
        "lugares_accesibles_para_fernando = businesses[(businesses['city'] == 'Philadelphia') & businesses['hours'].notnull() & businesses['hours'].str.contains('Thursday') & businesses['categories'].str.contains('Italian')]\n",
        "lugares_accesibles_para_fernando['hours'] = lugares_accesibles_para_fernando['hours'].map(lambda horario: esta_abierto_a_las_19(json.loads(horario.replace(\"'\", '\"'))['Thursday']))\n",
        "lugares_accesibles_para_fernando[lugares_accesibles_para_fernando['hours'] == True]\n",
        "\n",
        "foo = review[review['stars'] == 5.0].merge(lugares_accesibles_para_fernando, left_on='business_id', right_on='business_id')\n",
        "\n",
        "ids_de_top_3_lugares_de_comida_italiana_en_philadelphia = foo.groupby('business_id')['review_id'].count().sort_values(ascending=False)[:3].index\n",
        "\n",
        "top_3_lugares_de_comida_italiana_en_philadelphia = ids_de_top_3_lugares_de_comida_italiana_en_philadelphia.map(lambda business_id: businesses[businesses['business_id'] == business_id]['name'].values[0]).to_list()\n",
        "\n",
        "reviews_random_por_lugar_en_top = [mezclar_reviews(id_de_lugar_en_top, foo) for id_de_lugar_en_top in ids_de_top_3_lugares_de_comida_italiana_en_philadelphia]\n",
        "\n",
        "print('TOP 3 LUGARES DE COMIDA ITALIANA EN PHILADELPHIA PARA RECOMENDAR A FERNANDO')\n",
        "print('===========================================================================')\n",
        "print()\n",
        "for i, reviews_de_lugar in enumerate(reviews_random_por_lugar_en_top):\n",
        "    print(f'({i+1}°) {top_3_lugares_de_comida_italiana_en_philadelphia[i]}')\n",
        "    print()\n",
        "    print(f'Review 1: {reviews_de_lugar[0]}')\n",
        "    print(f'Review 2: {reviews_de_lugar[1]}')\n",
        "    print(f'Review 3: {reviews_de_lugar[2]}')\n",
        "    print()"
      ],
      "metadata": {
        "colab": {
          "base_uri": "https://localhost:8080/"
        },
        "id": "_ucnLpo5Gfco",
        "outputId": "55f35c4e-28af-4214-e081-e2b8b4d9903e"
      },
      "execution_count": 11,
      "outputs": [
        {
          "output_type": "stream",
          "name": "stderr",
          "text": [
            "/usr/local/lib/python3.7/dist-packages/ipykernel_launcher.py:20: SettingWithCopyWarning: \n",
            "A value is trying to be set on a copy of a slice from a DataFrame.\n",
            "Try using .loc[row_indexer,col_indexer] = value instead\n",
            "\n",
            "See the caveats in the documentation: https://pandas.pydata.org/pandas-docs/stable/user_guide/indexing.html#returning-a-view-versus-a-copy\n"
          ]
        },
        {
          "output_type": "stream",
          "name": "stdout",
          "text": [
            "TOP 3 LUGARES DE COMIDA ITALIANA EN PHILADELPHIA PARA RECOMENDAR A FERNANDO\n",
            "===========================================================================\n",
            "\n",
            "(1°) Barbuzzo\n",
            "\n",
            "Review 1: SO GOOD. One of my favorite restaurants in philly so far. The appetizers, mains, and desserts were all amazing.\n",
            "\n",
            "Appetizers:\n",
            "1. Charcuterie board - delicious and highly recommend to share with a group; not as big of a fan of the bread that came with it\n",
            "2. Whipped ricotta - the ricotta and bread were both so good (the bread was soft but toasted so crunch in all the right parts!!)\n",
            "\n",
            "Uovo pizza is a YES.\n",
            "\n",
            "Desserts - by then I was too full, but my friend definitely had foodgasm with the tiramisu. I preferred the caramel dessert, but would recommend both!\n",
            "Review 2: I had one night in Philly and I choose Barbuzzo!\n",
            "The Gayborhood is just full of amazing restaurants and Barbuzza just adds another to the list.  I sat at the bar and enjoyed the row home feel of the restaurant by looking down the long galley.  I started with the smoked trout tartine which was phenomenal. The basil and dill just paired perfectly with the crusty bread.  My main was the lemon ricotta pasta.  I liked the texture but think it lacked in the ricotta.  Even still, the sauce and fresh lemon made for an interesting flavor.  Great service complimented it all perfectly.\n",
            "Review 3: Excellent food and vibe. Sat down at the chefs counter for dinner and wine after work. Loved watching the chefs in action. I had the roasted beets with goat cheese salad and the grilled octopus. Will definitely be back to this place.\n",
            "\n",
            "(2°) Jim's South St\n",
            "\n",
            "Review 1: First, the Philly Cheese Steak Sandwich scent pulled me into the house right away. The service was great. All the staff were very kind and energetic. It was really nice to see the process of the cheese steak sandwich making. My order was ready in 1 minute. There is a counter area to eat on the first floor, and on the second floor there are lots of tables to sit and dine. The food, let me say, was so delicious. I think I ate it without breathing. The jalapeno that came with it was a great addition to the meal. Philly cheese steak sandwiches can be greasy and heavy, but the jalapeno got rid of all of that. I would definitely visit again if I am back in Philly!\n",
            "Review 2: Visiting Philly work, a friend recommended Jim's. Came in, friendly staff helped me build my cheese steak. No line, available seating. It was perfect.\n",
            "Review 3: Came here late one evening on the recommendation of the doorman at my hotel while I was visiting Philly.  The staff were upbeat and friendly while dancing, listening to music and bantering amongst themselves and with their customers.  They suggested I try the peppers in my sandwich which I did.  Excellent eats.  Better than Geno's or Pat's, and a lively, fun atmosphere.  I'd like to visit Philadelphia again some day and if I do, I'll come back to Jim's.\n",
            "\n",
            "(3°) Gran Caffe L'Aquila\n",
            "\n",
            "Review 1: Wow.  This place was just absolutely amazing!!!  I wish I still had the menu with me so I could remember some of the names of the dishes but can't !  I really just wanted to give this spot 5 stars for everything!  Food, Service, Ambiance.  Their menu is so different from your typical Italian spot.  \n",
            "\n",
            "Finish more next time...\n",
            "Review 2: Never posted before so I'm going to the trouble to say that this was a great experience. We shared several true Italian dishes followed by gelato which left us all with a big smile and a great memory. We will be back. - Dennis\n",
            "Review 3: Great service. Great food. Great atmosphere. My server was Carlos I believe. Thank you for your service. \n",
            "I will be coming back for delicious food, wine, and gelato.\n",
            "\n"
          ]
        }
      ]
    }
  ]
}