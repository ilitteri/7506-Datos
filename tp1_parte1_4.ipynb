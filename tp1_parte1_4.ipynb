{
  "nbformat": 4,
  "nbformat_minor": 0,
  "metadata": {
    "colab": {
      "name": "tp1_parte1_4.ipynb",
      "provenance": [],
      "mount_file_id": "1wtxyl_EMc5WuejNZ6dtr3G2ClOewIibL",
      "authorship_tag": "ABX9TyPSKPSZcd16A5V8mA1yNWX4",
      "include_colab_link": true
    },
    "kernelspec": {
      "name": "python3",
      "display_name": "Python 3"
    },
    "language_info": {
      "name": "python"
    }
  },
  "cells": [
    {
      "cell_type": "markdown",
      "metadata": {
        "id": "view-in-github",
        "colab_type": "text"
      },
      "source": [
        "<a href=\"https://colab.research.google.com/github/ilitteri/7506-Datos/blob/main/tp1_parte1_4.ipynb\" target=\"_parent\"><img src=\"https://colab.research.google.com/assets/colab-badge.svg\" alt=\"Open In Colab\"/></a>"
      ]
    },
    {
      "cell_type": "code",
      "execution_count": 1,
      "metadata": {
        "id": "r6hrEnsB-pv-"
      },
      "outputs": [],
      "source": [
        "import pandas as pd\n",
        "from scipy.stats import entropy"
      ]
    },
    {
      "cell_type": "code",
      "source": [
        "def path_for(dataset: str) -> str:\n",
        "    return f'/content/drive/MyDrive/{dataset}.csv'\n",
        "\n",
        "business = pd.read_csv(path_for(\"Dataset/business\"))"
      ],
      "metadata": {
        "id": "rbnO0eOU-2ce"
      },
      "execution_count": 2,
      "outputs": []
    },
    {
      "cell_type": "markdown",
      "source": [
        "# C2\n",
        "\n",
        "Calcule la entropía de Shannon (base 2) de la pertenencia a las categorías de los negocios."
      ],
      "metadata": {
        "id": "cO3CUi21-yXu"
      }
    },
    {
      "cell_type": "code",
      "source": [
        "valid_categories = business['categories'].dropna().map(lambda categories: categories.split(','))\n",
        "\n",
        "categories_count = dict()\n",
        "\n",
        "for categories in valid_categories:\n",
        "    for categorie in categories:\n",
        "        if categorie not in categories_count:\n",
        "            categories_count[categorie] = 0\n",
        "        categories_count[categorie] += 1\n",
        "\n",
        "categorie_belonging_probability = {categorie: categorie_ocurrence_count/sum(categories_count.values()) for categorie, categorie_ocurrence_count in categories_count.items()}\n",
        "\n",
        "print(\"La entropía de Shannon (base 2) de la pertenencia a las categorías de los negocios es:\", entropy(list(categorie_belonging_probability.values()), base=2))"
      ],
      "metadata": {
        "colab": {
          "base_uri": "https://localhost:8080/"
        },
        "id": "WNuuczJh-yK8",
        "outputId": "fea596ad-d0b8-4d21-90e4-f8953ffbb32e"
      },
      "execution_count": 3,
      "outputs": [
        {
          "output_type": "stream",
          "name": "stdout",
          "text": [
            "La entropía de Shannon (base 2) de la pertenencia a las categorías de los negocios es: 8.512658567129858\n"
          ]
        }
      ]
    }
  ]
}