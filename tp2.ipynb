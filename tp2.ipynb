{
  "nbformat": 4,
  "nbformat_minor": 0,
  "metadata": {
    "colab": {
      "name": "tp2.ipynb",
      "provenance": [],
      "collapsed_sections": [],
      "mount_file_id": "17rWfUhI7HmEadcTdF0hIbHvI4HOCk_Je",
      "authorship_tag": "ABX9TyNTL8aCAoK17MCp/XYrikZY",
      "include_colab_link": true
    },
    "kernelspec": {
      "name": "python3",
      "display_name": "Python 3"
    },
    "language_info": {
      "name": "python"
    }
  },
  "cells": [
    {
      "cell_type": "markdown",
      "metadata": {
        "id": "view-in-github",
        "colab_type": "text"
      },
      "source": [
        "<a href=\"https://colab.research.google.com/github/ilitteri/7506-Datos/blob/main/tp2.ipynb\" target=\"_parent\"><img src=\"https://colab.research.google.com/assets/colab-badge.svg\" alt=\"Open In Colab\"/></a>"
      ]
    },
    {
      "cell_type": "code",
      "execution_count": 1,
      "metadata": {
        "colab": {
          "base_uri": "https://localhost:8080/"
        },
        "id": "_T-NFySN8o6D",
        "outputId": "ef0265e5-6011-4f15-b4d2-4ea5a304e75f"
      },
      "outputs": [
        {
          "output_type": "stream",
          "name": "stdout",
          "text": [
            "Requirement already satisfied: pyspark in /usr/local/lib/python3.7/dist-packages (3.2.1)\n",
            "Requirement already satisfied: py4j==0.10.9.3 in /usr/local/lib/python3.7/dist-packages (from pyspark) (0.10.9.3)\n",
            "openjdk-8-jdk-headless is already the newest version (8u312-b07-0ubuntu1~18.04).\n",
            "The following package was automatically installed and is no longer required:\n",
            "  libnvidia-common-460\n",
            "Use 'apt autoremove' to remove it.\n",
            "0 upgraded, 0 newly installed, 0 to remove and 42 not upgraded.\n"
          ]
        }
      ],
      "source": [
        "!pip install pyspark\n",
        "!pip install -U -q PyDrive\n",
        "!apt install openjdk-8-jdk-headless -qq\n",
        "import os\n",
        "os.environ[\"JAVA_HOME\"] = \"/usr/lib/jvm/java-8-openjdk-amd64\""
      ]
    },
    {
      "cell_type": "code",
      "source": [
        "from pydrive.auth import GoogleAuth\n",
        "from pydrive.drive import GoogleDrive\n",
        "from google.colab import auth\n",
        "from oauth2client.client import GoogleCredentials\n",
        "from pyspark.sql import *\n",
        "#from pyspark.sql.functions import *\n",
        "from pyspark import SparkContext\n",
        "from pyspark.sql import SQLContext\n",
        "import pandas as pd"
      ],
      "metadata": {
        "id": "xcatGhFa8skp"
      },
      "execution_count": 2,
      "outputs": []
    },
    {
      "cell_type": "code",
      "source": [
        "df_business = pd.read_csv('/content/drive/MyDrive/Dataset/business.csv')"
      ],
      "metadata": {
        "id": "Ish4QS_OTRNJ"
      },
      "execution_count": 3,
      "outputs": []
    },
    {
      "cell_type": "code",
      "source": [
        "df_business.to_parquet('business.parquet')"
      ],
      "metadata": {
        "id": "6XTMc8GbWt7q"
      },
      "execution_count": 4,
      "outputs": []
    },
    {
      "cell_type": "code",
      "source": [
        "del(df_business)"
      ],
      "metadata": {
        "id": "Z1tL6kciW5sX"
      },
      "execution_count": 5,
      "outputs": []
    },
    {
      "cell_type": "code",
      "source": [
        "df_review = pd.read_csv('/content/drive/MyDrive/Dataset/review.csv')\n",
        "df_review = df_review.sample(frac=.3)"
      ],
      "metadata": {
        "id": "r42ggMVSU_zK"
      },
      "execution_count": 6,
      "outputs": []
    },
    {
      "cell_type": "code",
      "source": [
        "df_review.to_parquet('review.parquet')"
      ],
      "metadata": {
        "id": "44PkmwyTW7Yo"
      },
      "execution_count": 7,
      "outputs": []
    },
    {
      "cell_type": "code",
      "source": [
        "del(df_review)"
      ],
      "metadata": {
        "id": "_a7OPK0UW9kd"
      },
      "execution_count": 8,
      "outputs": []
    },
    {
      "cell_type": "code",
      "source": [
        "df_user = pd.read_csv('/content/drive/MyDrive/Dataset/user.csv')\n",
        "df_user = df_user.sample(frac=.3)"
      ],
      "metadata": {
        "id": "aDzb-aY2VCNY"
      },
      "execution_count": 9,
      "outputs": []
    },
    {
      "cell_type": "code",
      "source": [
        "df_user.to_parquet('user.parquet')"
      ],
      "metadata": {
        "id": "veSAO_nVTgMe"
      },
      "execution_count": 10,
      "outputs": []
    },
    {
      "cell_type": "code",
      "source": [
        "del(df_user)"
      ],
      "metadata": {
        "id": "55SPh1fMXAfx"
      },
      "execution_count": 11,
      "outputs": []
    },
    {
      "cell_type": "code",
      "source": [
        "spark = SparkSession.builder.getOrCreate()\n",
        "spark_context = spark.sparkContext\n",
        "sql_context = SQLContext(spark_context)"
      ],
      "metadata": {
        "id": "rIJ5ZU_T88di",
        "colab": {
          "base_uri": "https://localhost:8080/"
        },
        "outputId": "dd2d6547-2343-4509-a361-46e9db3fc996"
      },
      "execution_count": 12,
      "outputs": [
        {
          "output_type": "stream",
          "name": "stderr",
          "text": [
            "/usr/local/lib/python3.7/dist-packages/pyspark/sql/context.py:79: FutureWarning: Deprecated in 3.0.0. Use SparkSession.builder.getOrCreate() instead.\n",
            "  FutureWarning\n"
          ]
        }
      ]
    },
    {
      "cell_type": "code",
      "source": [
        "df_business = sql_context.read.parquet('/content/business.parquet')\n",
        "df_review = sql_context.read.parquet('/content/review.parquet')\n",
        "df_user = sql_context.read.parquet('/content/user.parquet')"
      ],
      "metadata": {
        "id": "okg4wAPVU9qz"
      },
      "execution_count": 13,
      "outputs": []
    },
    {
      "cell_type": "code",
      "source": [
        "rdd_business = df_business.rdd\n",
        "rdd_review = df_review.rdd\n",
        "rdd_review = df_review.rdd"
      ],
      "metadata": {
        "id": "03unrmEFTEDJ"
      },
      "execution_count": 14,
      "outputs": []
    },
    {
      "cell_type": "markdown",
      "source": [
        "# S13\n",
        "\n",
        "¿Cuál es el restaurante mexicano más cercano a FIUBA? Datos ubicación FIUBA: Latitud:-34.61748 – Longitud:-58.36824."
      ],
      "metadata": {
        "id": "GxhXW1NeSv9j"
      }
    },
    {
      "cell_type": "markdown",
      "source": [
        "Notas: para éste ejercicio me topé con la opción de ordenar a con `.takeOrdered()` o `.reduce()` enviándole una función lambda para la comparación. Y ante la duda consulté con mi corrector para ver cuál era mejor. Resolvimos que cualquiera de las dos servía para el caso, y para demostrar ésto corrí `%%timeit` para ambos casos, siendo el resultado el siguiente. Me quedé con `.reduce()` porque vi que Damian en un video dijo que era mejor que usar un `.takeOrdered()`.\n",
        "\n",
        "<figure>\n",
        "    <img src=\"https://i.imgur.com/yn3XSZq.png\">\n",
        "</figure>"
      ],
      "metadata": {
        "id": "r3-q8yU49WwJ"
      }
    },
    {
      "cell_type": "code",
      "source": [
        "import math\n",
        "\n",
        "from math import radians, cos, sin, asin, sqrt\n",
        "def distance(lat1, lon1, lat2, lon2):\n",
        "     \n",
        "    # The math module contains a function named\n",
        "    # radians which converts from degrees to radians.\n",
        "    lon1 = math.radians(lon1)\n",
        "    lon2 = math.radians(lon2)\n",
        "    lat1 = math.radians(lat1)\n",
        "    lat2 = math.radians(lat2)\n",
        "      \n",
        "    # Haversine formula\n",
        "    dlon = lon2 - lon1\n",
        "    dlat = lat2 - lat1\n",
        "    a = math.sin(dlat / 2)**2 + math.cos(lat1) * math.cos(lat2) * math.sin(dlon / 2)**2\n",
        " \n",
        "    c = 2 * asin(sqrt(a))\n",
        "    \n",
        "    # Radius of earth in kilometers. Use 3956 for miles\n",
        "    r = 6371\n",
        "      \n",
        "    # calculate the result\n",
        "    return(c * r)\n",
        "\n",
        "fiuba = (-34.61748, -58.36824)\n",
        "\n",
        "locations = rdd_business \\\n",
        "    .filter(lambda row: row.categories and 'Mexican' in row.categories) \\\n",
        "    .map(lambda row: (row.name, distance(fiuba[0], fiuba[1], float(row.latitude), float(row.longitude)))) \\\n",
        "    .reduce(lambda x, y: x if x[1] < y[1] else y)\n",
        "\n",
        "print(\"El restaurante mexicano más cercano a FIUBA es:\", locations[0])"
      ],
      "metadata": {
        "id": "TOejUb0T-Oow",
        "colab": {
          "base_uri": "https://localhost:8080/"
        },
        "outputId": "c5b82880-23a7-4535-c6fb-d3d678c31d2e"
      },
      "execution_count": 15,
      "outputs": [
        {
          "output_type": "stream",
          "name": "stdout",
          "text": [
            "El restaurante mexicano más cercano a FIUBA es: Waypoint Bar and Grill\n"
          ]
        }
      ]
    },
    {
      "cell_type": "markdown",
      "source": [
        "# S20"
      ],
      "metadata": {
        "id": "rxG0WtpHTiKk"
      }
    },
    {
      "cell_type": "code",
      "source": [
        "a = rdd_business \\\n",
        "    .filter(lambda row: row.state == 'LA' and row.name == \"McDonald's\") \\\n",
        "    .distinct() \\\n",
        "    .map(lambda row: ((row.address, row.city), (row.latitude, row.longitude))) \\\n",
        "    .cache()\n",
        "''' Me di cuenta que se podia hacer cartesian de un RDD consigo mismo\n",
        "b = rdd \\\n",
        "    .filter(lambda row: row.state == 'LA' and row.name == \"McDonald's\") \\\n",
        "    .distinct() \\\n",
        "    .map(lambda row: ((row.address, row.city), (row.latitude, row.longitude))) \\\n",
        "    .cache()\n",
        "'''\n",
        "\n",
        "cartesian_rdd_between_mcdonalds = a.cartesian(a)"
      ],
      "metadata": {
        "id": "uqP2XfyM18Ex"
      },
      "execution_count": 16,
      "outputs": []
    },
    {
      "cell_type": "code",
      "source": [
        "closest_mcdonalds = cartesian_rdd_between_mcdonalds \\\n",
        "    .map(lambda x: ((x[0][0], x[1][0]), distance(x[0][1][0], x[0][1][1], x[1][1][0], x[1][1][1]))) \\\n",
        "    .filter(lambda x: x[0][0] != x[0][1]) \\\n",
        "    .reduce(lambda x, y: x if x[1] < y[1] else y)\n",
        "closest_mcdonalds"
      ],
      "metadata": {
        "colab": {
          "base_uri": "https://localhost:8080/"
        },
        "id": "7vpSGmlP4c94",
        "outputId": "757a727f-0c8f-42f5-ed10-27198907c2e2"
      },
      "execution_count": 17,
      "outputs": [
        {
          "output_type": "execute_result",
          "data": {
            "text/plain": [
              "((('1212 Stumpf Blvd', 'Gretna'), ('501 Westbank Expy', 'Gretna')),\n",
              " 1.1585254095849085)"
            ]
          },
          "metadata": {},
          "execution_count": 17
        }
      ]
    },
    {
      "cell_type": "code",
      "source": [
        "print(f\"Los locales de McDonald's más cercanos en LA tienen dirección {closest_mcdonalds[0][0][0]} y {closest_mcdonalds[0][1][0]} y se encuentran en la ciudad de {closest_mcdonalds[0][0][1]}\")"
      ],
      "metadata": {
        "colab": {
          "base_uri": "https://localhost:8080/"
        },
        "id": "5HJsj3THAJmK",
        "outputId": "4f7fd1c8-23bd-4d12-d63c-afe172b342d8"
      },
      "execution_count": 18,
      "outputs": [
        {
          "output_type": "stream",
          "name": "stdout",
          "text": [
            "Los locales de McDonald's más cercanos en LA tienen dirección 1212 Stumpf Blvd y 501 Westbank Expy y se encuentran en la ciudad de Gretna\n"
          ]
        }
      ]
    },
    {
      "cell_type": "markdown",
      "source": [
        "# S17"
      ],
      "metadata": {
        "id": "oARpru8r2Jm7"
      }
    },
    {
      "cell_type": "code",
      "source": [
        "df_user_mod = df_user.withColumn(\"yelping_since\", df_user.yelping_since.cast(\"date\"))\n",
        "rdd_user_mod = df_user_mod.rdd"
      ],
      "metadata": {
        "id": "eRGzu5BXzeae"
      },
      "execution_count": 20,
      "outputs": []
    },
    {
      "cell_type": "code",
      "source": [
        "PRESENT_YEAR = 2022\n",
        "antiguedades = rdd_user_mod \\\n",
        "    .map(lambda row: (row.user_id, (row.name, row.yelping_since))) \\\n",
        "    .cache()"
      ],
      "metadata": {
        "id": "WGA8sVvr2vHo"
      },
      "execution_count": 21,
      "outputs": []
    },
    {
      "cell_type": "code",
      "source": [
        "usuarios_cuya_review_mas_reciente_contiene_la_palabra_pizza = rdd_review \\\n",
        "    .filter(lambda row: row.text and row.date and 'pizza' in row.text.lower()) \\\n",
        "    .map(lambda row: (row.user_id, row.date)) \\\n",
        "    .reduceByKey(lambda a, b: a if a > b else b) \\\n",
        "    .cache()"
      ],
      "metadata": {
        "id": "r7smppYqMTvo"
      },
      "execution_count": 22,
      "outputs": []
    },
    {
      "cell_type": "code",
      "source": [
        "usuario_con_mas_antiguedad_cuya_review_mas_reciente_contiene_la_palabra_pizza = \\\n",
        "    antiguedades.join(usuarios_cuya_review_mas_reciente_contiene_la_palabra_pizza).reduce(lambda x, y: x if x[1][0][1] < y[1][0][1] else y)"
      ],
      "metadata": {
        "id": "GKJkUrM3NAm4"
      },
      "execution_count": 23,
      "outputs": []
    },
    {
      "cell_type": "code",
      "source": [
        "anios_de_antiguedad_respecto_al_anio_actual = \\\n",
        "    antiguedades \\\n",
        "        .map(lambda row: 2022 - row[1][1].year) \\\n",
        "        .cache()"
      ],
      "metadata": {
        "id": "wo7TF8JaJN63"
      },
      "execution_count": 24,
      "outputs": []
    },
    {
      "cell_type": "code",
      "source": [
        "print(\"La antigüedad promedio de los usuarios (en años) es:\", anios_de_antiguedad_respecto_al_anio_actual.mean())"
      ],
      "metadata": {
        "colab": {
          "base_uri": "https://localhost:8080/"
        },
        "id": "CTGg-2UmSSNc",
        "outputId": "dfce0d0a-2cf2-44ca-f243-05278ab60732"
      },
      "execution_count": 25,
      "outputs": [
        {
          "output_type": "stream",
          "name": "stdout",
          "text": [
            "La antigüedad promedio de los usuarios (en años) es: 7.71877981585226\n"
          ]
        }
      ]
    },
    {
      "cell_type": "code",
      "source": [
        "print(\"El usuario más antiguo cuya review más reciente contiene la palabra pizza se llama\", usuario_con_mas_antiguedad_cuya_review_mas_reciente_contiene_la_palabra_pizza[1][0][0])"
      ],
      "metadata": {
        "colab": {
          "base_uri": "https://localhost:8080/"
        },
        "id": "zofz3gBZSwbF",
        "outputId": "8063c7a9-9981-47e9-dac1-5b739bf26a60"
      },
      "execution_count": 26,
      "outputs": [
        {
          "output_type": "stream",
          "name": "stdout",
          "text": [
            "El usuario más antiguo cuya review más reciente contiene la palabra pizza se llama Hafiz\n"
          ]
        }
      ]
    },
    {
      "cell_type": "markdown",
      "source": [
        "# S36"
      ],
      "metadata": {
        "id": "m2UbKM6vnJ_e"
      }
    },
    {
      "cell_type": "code",
      "source": [
        "users_with_more_than_10_reviews = rdd_review \\\n",
        "    .filter(lambda row: row.user_id and len(row.user_id) == 22 and row.business_id and len(row.business_id) == 22) \\\n",
        "    .map(lambda row: (row.user_id, 1)) \\\n",
        "    .reduceByKey(lambda a, b: a + b) \\\n",
        "    .filter(lambda row: row[1] > 10) \\\n",
        "    .cache()\n",
        "\n",
        "user_with_businesses_reviewed = rdd_review \\\n",
        "    .filter(lambda row: row.user_id and len(row.user_id) == 22 and row.business_id and len(row.business_id) == 22) \\\n",
        "    .map(lambda row: (row.user_id, row.business_id)) \\\n",
        "    .cache()"
      ],
      "metadata": {
        "id": "GQlzHmEJNcNn"
      },
      "execution_count": 27,
      "outputs": []
    },
    {
      "cell_type": "markdown",
      "source": [
        "En este paso el resultado del join que era de la forma (user_id, (user_review_count, reviewed_business_id)) lo transformo a la forma (business_id, (user_id, user_review_count))"
      ],
      "metadata": {
        "id": "tKOXyFnvo_mI"
      }
    },
    {
      "cell_type": "code",
      "source": [
        "a = users_with_more_than_10_reviews \\\n",
        "    .join(user_with_businesses_reviewed) \\\n",
        "    .map(lambda row: (row[1][1], (row[0], row[1][0]))) \\\n",
        "    .cache()"
      ],
      "metadata": {
        "id": "AGaTt68IsceA"
      },
      "execution_count": 28,
      "outputs": []
    },
    {
      "cell_type": "code",
      "source": [
        "businesses_with_locations = rdd_business \\\n",
        "    .map(lambda row: (row.business_id, (row.latitude, row.longitude))) \\\n",
        "    .cache()"
      ],
      "metadata": {
        "id": "EC_yykHxw2u7"
      },
      "execution_count": 30,
      "outputs": []
    },
    {
      "cell_type": "markdown",
      "source": [
        "En este paso luego del join los registros resultan de la forma `(business_id, ((user_id, user_review_count), (business_latitude, business_longitude))`"
      ],
      "metadata": {
        "id": "Y6IvuuSCsR31"
      }
    },
    {
      "cell_type": "code",
      "source": [
        "c = a \\\n",
        "    .join(businesses_with_locations) \\\n",
        "    .cache()"
      ],
      "metadata": {
        "id": "qbqNBFAQwfp7"
      },
      "execution_count": 31,
      "outputs": []
    },
    {
      "cell_type": "code",
      "source": [
        "# Acá en el primer map me quedo con el registro ((user_id, user_review_count), (latitude, longitude)).\n",
        "# En el reduceByKey sumo las latitudes y las longitudes por una misma key (user_id, user_review_count).\n",
        "# En el último map divido la sumatoria por el user_review_count para lograr el promedio y así obtener la ubicación del usuario.\n",
        "users_locations = c \\\n",
        "    .map(lambda row: row[1]) \\\n",
        "    .reduceByKey(lambda a, b: (a[0]+b[0], a[1]+b[1])) \\\n",
        "    .map(lambda row: (row[0][0], (row[1][0]/row[0][1], row[1][1]/row[0][1]))) \\\n",
        "    .cache()"
      ],
      "metadata": {
        "id": "rY4TdGDPyDYu"
      },
      "execution_count": 33,
      "outputs": []
    },
    {
      "cell_type": "code",
      "source": [
        "# Los registros de éste RDD son de la forma ((user_id_1, (lat_1, long_1)), (user_id_2, (lat_2, long_2)))\n",
        "cartesian_rdd_users_locations = users_locations.cartesian(users_locations).cache()"
      ],
      "metadata": {
        "id": "EGskX8NP1yxZ"
      },
      "execution_count": 35,
      "outputs": []
    },
    {
      "cell_type": "code",
      "source": [
        "# Acá en el primer map transformo los registros a ((user_id_1, user_id_2), distance_between_user_1_and_user_2)).\n",
        "# Luego filtro a los registros cuyos usuarios sean distintos (sino me queda el caso de user_id_1 con user_id_1 por culpa del cartesian).\n",
        "# Luego me quedo con los más cercanos\n",
        "closest_users = cartesian_rdd_users_locations \\\n",
        "    .map(lambda x: ((x[0][0], x[1][0]), distance(x[0][1][0], x[0][1][1], x[1][1][0], x[1][1][1]))) \\\n",
        "    .filter(lambda x: x[0][0] != x[0][1]) \\\n",
        "    .reduce(lambda x, y: x if x[1] < y[1] else y)"
      ],
      "metadata": {
        "id": "Ul_fFi4a2eEe"
      },
      "execution_count": 37,
      "outputs": []
    },
    {
      "cell_type": "code",
      "source": [
        "print(f\"Los usuarios (que hicieron más de 10 reviews) más cercanos son (sus id): {closest_users[0][0]} y {closest_users[0][1]}\")"
      ],
      "metadata": {
        "colab": {
          "base_uri": "https://localhost:8080/"
        },
        "id": "tMs3fLHu-LTW",
        "outputId": "caaaf7a2-b52c-4638-e5bf-3bbf6c9868e7"
      },
      "execution_count": 39,
      "outputs": [
        {
          "output_type": "stream",
          "name": "stdout",
          "text": [
            "Los usuarios (que hicieron más de 10 reviews) más cercanos son (sus id): xfSiMtuhrlZNszvU2q_bCQ y v8NMBO2ZyL_-sNL0uKneAQ\n"
          ]
        }
      ]
    }
  ]
}