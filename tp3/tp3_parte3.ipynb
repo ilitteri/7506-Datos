{
 "cells": [
  {
   "cell_type": "code",
   "execution_count": 343,
   "metadata": {},
   "outputs": [],
   "source": [
    "import warnings\n",
    "warnings.filterwarnings('ignore')\n",
    "import pandas as pd\n",
    "from sklearn.linear_model import LogisticRegression\n",
    "from sklearn.model_selection import train_test_split\n",
    "from sklearn.metrics import roc_auc_score, classification_report\n",
    "\n",
    "from typing import Dict, Any\n",
    "\n",
    "SEED = 7"
   ]
  },
  {
   "cell_type": "code",
   "execution_count": 344,
   "metadata": {},
   "outputs": [],
   "source": [
    "# Funciones auxiliares\n",
    "\n",
    "def drop_features(train, valid, *features):\n",
    "    for feature in features:\n",
    "        train = train.drop(feature, axis=1)\n",
    "        valid = valid.drop(feature, axis=1)\n",
    "    return train, valid\n",
    "\n",
    "def fit_and_score(model, x_train, x_valid, y_train, y_valid):\n",
    "    model.fit(x_train, y_train)\n",
    "    return roc_auc_score(y_valid, model.predict_proba(x_valid)[:,1])\n",
    "\n",
    "def encode(feature, withEncother, onTrain, onValid):\n",
    "    return withEncother.fit_transform(onTrain[feature]), withEncother.transform(onValid[feature])"
   ]
  },
  {
   "cell_type": "code",
   "execution_count": 345,
   "metadata": {},
   "outputs": [],
   "source": [
    "test = pd.read_parquet('test')\n",
    "train = pd.read_parquet('train')"
   ]
  },
  {
   "cell_type": "code",
   "execution_count": 346,
   "metadata": {},
   "outputs": [],
   "source": [
    "train = train.sort_values('timedelta', ascending=False)"
   ]
  },
  {
   "cell_type": "code",
   "execution_count": 347,
   "metadata": {},
   "outputs": [],
   "source": [
    "x_train, x_valid, y_train, y_valid = train_test_split(\n",
    "    train, \n",
    "    train[['popular']], \n",
    "    test_size=0.2, \n",
    "    random_state=SEED\n",
    ")"
   ]
  },
  {
   "cell_type": "code",
   "execution_count": 348,
   "metadata": {},
   "outputs": [],
   "source": [
    "from sklearn.preprocessing import OneHotEncoder, LabelEncoder, MultiLabelBinarizer\n",
    "\n",
    "one_hot_encoder = OneHotEncoder()\n",
    "label_encoder = LabelEncoder()\n",
    "multilabel_binarizer = MultiLabelBinarizer()"
   ]
  },
  {
   "cell_type": "code",
   "execution_count": 350,
   "metadata": {},
   "outputs": [],
   "source": [
    "surprise1_mean_encoding = lambda dataset: dataset.groupby('surprise1')['popular'].mean().to_dict()\n",
    "\n",
    "x_train['surprise1'] = x_train['surprise1'].map(surprise1_mean_encoding(x_train))\n",
    "x_valid['surprise1'] = x_valid['surprise1'].map(surprise1_mean_encoding(x_valid))"
   ]
  },
  {
   "cell_type": "code",
   "execution_count": 351,
   "metadata": {},
   "outputs": [
    {
     "data": {
      "text/plain": [
       "{'',\n",
       " 'amusement',\n",
       " 'anger',\n",
       " 'annoyance',\n",
       " 'disappointment',\n",
       " 'disgust',\n",
       " 'embarrassment',\n",
       " 'fear',\n",
       " 'gratitude',\n",
       " 'joy',\n",
       " 'love',\n",
       " 'nervousness',\n",
       " 'neutral',\n",
       " 'optimism',\n",
       " 'relief',\n",
       " 'sadness'}"
      ]
     },
     "execution_count": 351,
     "metadata": {},
     "output_type": "execute_result"
    }
   ],
   "source": [
    "# multilabel_binarizer.fit_transform(train.surprise2)\n",
    "unique_emotions = set()\n",
    "for register in train.surprise2.map(lambda x: x.split(',')):\n",
    "    unique_emotions.update(set(register))\n",
    "unique_emotions"
   ]
  },
  {
   "cell_type": "code",
   "execution_count": 352,
   "metadata": {},
   "outputs": [],
   "source": [
    "x_train['surprise2'] = x_train['surprise2'].map(lambda x: 'unknown' if x == '' else x)\n",
    "x_valid['surprise2'] = x_valid['surprise2'].map(lambda x: 'unknown' if x == '' else x)\n",
    "\n",
    "encoded_surprise2_train = multilabel_binarizer.fit_transform(x_train['surprise2'])\n",
    "encoded_surprise2_valid = multilabel_binarizer.transform(x_valid['surprise2'])\n",
    "\n",
    "x_train['surprise2'] = encoded_surprise2_train\n",
    "x_valid['surprise2'] = encoded_surprise2_valid"
   ]
  },
  {
   "cell_type": "code",
   "execution_count": 353,
   "metadata": {},
   "outputs": [],
   "source": [
    "encoded_y_train, encoded_y_valid = encode(\n",
    "    feature='popular', withEncother=label_encoder,\n",
    "    onTrain=y_train, onValid=y_valid\n",
    ")\n",
    "\n",
    "y_train['popular'] = encoded_y_train\n",
    "y_valid['popular'] = encoded_y_valid"
   ]
  },
  {
   "cell_type": "code",
   "execution_count": 354,
   "metadata": {},
   "outputs": [],
   "source": [
    "from sklearn.feature_extraction.text import CountVectorizer\n",
    "\n",
    "count_vectorizer = CountVectorizer(analyzer='word', stop_words='english', max_features=15)"
   ]
  },
  {
   "cell_type": "code",
   "execution_count": 355,
   "metadata": {},
   "outputs": [],
   "source": [
    "x_train['content'] = x_train['content'].fillna('')\n",
    "x_valid['content'] = x_valid['content'].fillna('')\n",
    "\n",
    "vectorized_x_train_content = count_vectorizer.fit_transform(x_train['content'].tolist()).toarray()\n",
    "x_train_content_word_count = pd.DataFrame(vectorized_x_train_content, columns=count_vectorizer.get_feature_names())\n",
    "\n",
    "vectorized_x_valid_content = count_vectorizer.transform(x_valid['content'].tolist()).toarray()\n",
    "x_valid_content_word_count = pd.DataFrame(vectorized_x_valid_content, columns=count_vectorizer.get_feature_names())\n",
    "\n",
    "x_train['content'] = vectorized_x_train_content\n",
    "x_valid['content'] = vectorized_x_valid_content\n",
    "\n",
    "x_train = pd.concat([x_train.reset_index(), x_train_content_word_count.reset_index()], axis=1)\n",
    "x_valid = pd.concat([x_valid.reset_index(), x_valid_content_word_count.reset_index()], axis=1)"
   ]
  },
  {
   "cell_type": "code",
   "execution_count": 356,
   "metadata": {},
   "outputs": [],
   "source": [
    "x_train = x_train.fillna(0.0)\n",
    "x_valid = x_valid.fillna(0.0)"
   ]
  },
  {
   "cell_type": "code",
   "execution_count": 357,
   "metadata": {},
   "outputs": [],
   "source": [
    "x_train, x_valid = drop_features(\n",
    "    x_train, x_valid,\n",
    "    'url', 'popular', 'shares', 'timedelta', 'index'\n",
    ")"
   ]
  },
  {
   "cell_type": "markdown",
   "metadata": {},
   "source": [
    "# Modelos"
   ]
  },
  {
   "cell_type": "markdown",
   "metadata": {},
   "source": [
    "## Model: XGBClassifier"
   ]
  },
  {
   "cell_type": "markdown",
   "metadata": {},
   "source": [
    "### Iteraciones"
   ]
  },
  {
   "cell_type": "markdown",
   "metadata": {},
   "source": [
    "#### Baseline -> Score: 0.7002464768524228"
   ]
  },
  {
   "cell_type": "code",
   "execution_count": 359,
   "metadata": {},
   "outputs": [
    {
     "data": {
      "text/plain": [
       "0.7002464768524228"
      ]
     },
     "execution_count": 359,
     "metadata": {},
     "output_type": "execute_result"
    }
   ],
   "source": [
    "xgbc = XGBClassifier(n_jobs=-1, random_state=SEED)\n",
    "fit_and_score(xgbc, x_train, x_valid, y_train.popular, y_valid.popular)"
   ]
  },
  {
   "cell_type": "markdown",
   "metadata": {},
   "source": [
    "#### Iterando sobre feature importance"
   ]
  },
  {
   "cell_type": "markdown",
   "metadata": {},
   "source": [
    "##### Iteración 1: Feature Importance -> Score: 0.7002464768524228"
   ]
  },
  {
   "cell_type": "code",
   "execution_count": 360,
   "metadata": {},
   "outputs": [
    {
     "data": {
      "image/png": "[encoded data removed]",
      "text/plain": [
       "<Figure size 1152x1152 with 1 Axes>"
      ]
     },
     "metadata": {
      "needs_background": "light"
     },
     "output_type": "display_data"
    }
   ],
   "source": [
    "import matplotlib.pyplot as plt\n",
    "\n",
    "sorted_idx = xgbc.feature_importances_.argsort()\n",
    "\n",
    "plt.figure(figsize=(16,16))\n",
    "plt.barh(xgbc.feature_names_in_[sorted_idx], xgbc.feature_importances_[sorted_idx])\n",
    "plt.xlabel(\"XGBoost Feature Importance\");"
   ]
  },
  {
   "cell_type": "markdown",
   "metadata": {},
   "source": [
    "Elimino features que no tienen importancia"
   ]
  },
  {
   "cell_type": "code",
   "execution_count": 366,
   "metadata": {},
   "outputs": [],
   "source": [
    "x_train, x_valid = drop_features(\n",
    "    x_train, x_valid,\n",
    "    'n_non_stop_words'\n",
    ")"
   ]
  },
  {
   "cell_type": "code",
   "execution_count": 368,
   "metadata": {},
   "outputs": [
    {
     "data": {
      "text/plain": [
       "0.7002464768524228"
      ]
     },
     "execution_count": 368,
     "metadata": {},
     "output_type": "execute_result"
    }
   ],
   "source": [
    "fit_and_score(xgbc, x_train, x_valid, y_train.popular, y_valid.popular)"
   ]
  },
  {
   "cell_type": "markdown",
   "metadata": {},
   "source": [
    "##### Iteración 2: Permutation Importance -> Score: 0.7003086913465073"
   ]
  },
  {
   "cell_type": "code",
   "execution_count": 369,
   "metadata": {},
   "outputs": [
    {
     "data": {
      "image/png": "[encoded data removed]",
      "text/plain": [
       "<Figure size 1152x1152 with 1 Axes>"
      ]
     },
     "metadata": {
      "needs_background": "light"
     },
     "output_type": "display_data"
    }
   ],
   "source": [
    "from sklearn.inspection import permutation_importance\n",
    "\n",
    "perm_importance = permutation_importance(xgbc, x_valid, y_valid['popular'], random_state=SEED)\n",
    "\n",
    "sorted_idx = perm_importance.importances_mean.argsort()\n",
    "\n",
    "plt.figure(figsize=(16,16))\n",
    "plt.barh(xgbc.feature_names_in_[sorted_idx], perm_importance.importances_mean[sorted_idx])\n",
    "plt.xlabel(\"XGBoost Permutation Importance\");"
   ]
  },
  {
   "cell_type": "markdown",
   "metadata": {},
   "source": [
    "En esta iteración salió que `users` y `week_is_wednesday` no tienen importancia, pero solo quito `users` porque quitando `week_is_wednesday` baja el score."
   ]
  },
  {
   "cell_type": "code",
   "execution_count": 378,
   "metadata": {},
   "outputs": [],
   "source": [
    "x_train, x_valid = drop_features(\n",
    "    x_train, x_valid,\n",
    "    'users'\n",
    ")"
   ]
  },
  {
   "cell_type": "code",
   "execution_count": 379,
   "metadata": {},
   "outputs": [
    {
     "data": {
      "text/plain": [
       "0.7003086913465073"
      ]
     },
     "execution_count": 379,
     "metadata": {},
     "output_type": "execute_result"
    }
   ],
   "source": [
    "fit_and_score(xgbc, x_train, x_valid, y_train.popular, y_valid.popular)"
   ]
  },
  {
   "cell_type": "markdown",
   "metadata": {},
   "source": [
    "#### Iterando sobre búsqueda de hiperparámetros"
   ]
  },
  {
   "cell_type": "markdown",
   "metadata": {},
   "source": [
    "##### Iteración 1 -> Score: 0.7218208637740692\n",
    "\n",
    "```python\n",
    "hyperparameter_grid = {\n",
    "    'n_estimators': [100, 150, 200],\n",
    "    'max_depth': [3, 6, 9],\n",
    "    'learning_rate': [0.05, 0.1, 0.20],\n",
    "    'min_child_weight': [1, 10, 100]\n",
    "}\n",
    "```"
   ]
  },
  {
   "cell_type": "code",
   "execution_count": 382,
   "metadata": {},
   "outputs": [
    {
     "name": "stdout",
     "output_type": "stream",
     "text": [
      "Fitting 5 folds for each of 50 candidates, totalling 250 fits\n",
      "[CV 1/5] END learning_rate=0.2, max_depth=3, min_child_weight=100, n_estimators=200;, score=0.706 total time=  13.3s\n",
      "[CV 5/5] END learning_rate=0.2, max_depth=3, min_child_weight=100, n_estimators=200;, score=0.691 total time=  13.3s\n",
      "[CV 3/5] END learning_rate=0.2, max_depth=3, min_child_weight=100, n_estimators=200;, score=0.717 total time=  13.5s\n",
      "[CV 2/5] END learning_rate=0.2, max_depth=3, min_child_weight=100, n_estimators=200;, score=0.700 total time=  13.4s\n",
      "[CV 4/5] END learning_rate=0.2, max_depth=3, min_child_weight=100, n_estimators=200;, score=0.710 total time=  13.7s\n",
      "[CV 3/5] END learning_rate=0.1, max_depth=6, min_child_weight=1, n_estimators=100;, score=0.716 total time=  14.6s\n",
      "[CV 2/5] END learning_rate=0.1, max_depth=6, min_child_weight=1, n_estimators=100;, score=0.701 total time=  14.7s\n",
      "[CV 1/5] END learning_rate=0.1, max_depth=6, min_child_weight=1, n_estimators=100;, score=0.699 total time=  14.8s\n",
      "[CV 1/5] END learning_rate=0.2, max_depth=3, min_child_weight=100, n_estimators=100;, score=0.711 total time=   7.2s\n",
      "[CV 2/5] END learning_rate=0.2, max_depth=3, min_child_weight=100, n_estimators=100;, score=0.700 total time=   7.5s\n",
      "[CV 3/5] END learning_rate=0.2, max_depth=3, min_child_weight=100, n_estimators=100;, score=0.718 total time=   7.3s\n",
      "[CV 5/5] END learning_rate=0.2, max_depth=3, min_child_weight=100, n_estimators=100;, score=0.694 total time=   7.0s\n",
      "[CV 4/5] END learning_rate=0.2, max_depth=3, min_child_weight=100, n_estimators=100;, score=0.713 total time=   7.3s\n",
      "[CV 4/5] END learning_rate=0.1, max_depth=6, min_child_weight=1, n_estimators=100;, score=0.712 total time=  15.2s\n",
      "[CV 5/5] END learning_rate=0.1, max_depth=6, min_child_weight=1, n_estimators=100;, score=0.691 total time=  15.8s\n",
      "[CV 1/5] END learning_rate=0.05, max_depth=6, min_child_weight=100, n_estimators=200;, score=0.713 total time=  29.7s\n",
      "[CV 2/5] END learning_rate=0.05, max_depth=6, min_child_weight=100, n_estimators=200;, score=0.704 total time=  30.0s\n",
      "[CV 3/5] END learning_rate=0.05, max_depth=6, min_child_weight=100, n_estimators=200;, score=0.723 total time=  29.8s\n",
      "[CV 4/5] END learning_rate=0.05, max_depth=6, min_child_weight=100, n_estimators=200;, score=0.713 total time=  29.7s\n",
      "[CV 5/5] END learning_rate=0.05, max_depth=6, min_child_weight=100, n_estimators=200;, score=0.698 total time=  29.7s\n",
      "[CV 1/5] END learning_rate=0.1, max_depth=6, min_child_weight=10, n_estimators=200;, score=0.700 total time=  31.7s\n",
      "[CV 2/5] END learning_rate=0.1, max_depth=6, min_child_weight=10, n_estimators=200;, score=0.698 total time=  31.4s\n",
      "[CV 3/5] END learning_rate=0.1, max_depth=6, min_child_weight=10, n_estimators=200;, score=0.712 total time=  32.0s\n",
      "[CV 1/5] END learning_rate=0.05, max_depth=6, min_child_weight=10, n_estimators=100;, score=0.713 total time=  16.9s\n",
      "[CV 2/5] END learning_rate=0.05, max_depth=6, min_child_weight=10, n_estimators=100;, score=0.700 total time=  17.1s\n",
      "[CV 3/5] END learning_rate=0.05, max_depth=6, min_child_weight=10, n_estimators=100;, score=0.718 total time=  17.2s\n",
      "[CV 1/5] END learning_rate=0.1, max_depth=3, min_child_weight=1, n_estimators=100;, score=0.710 total time=   8.4s\n",
      "[CV 4/5] END learning_rate=0.05, max_depth=6, min_child_weight=10, n_estimators=100;, score=0.712 total time=  17.0s\n",
      "[CV 2/5] END learning_rate=0.1, max_depth=3, min_child_weight=1, n_estimators=100;, score=0.696 total time=   8.4s\n",
      "[CV 3/5] END learning_rate=0.1, max_depth=3, min_child_weight=1, n_estimators=100;, score=0.716 total time=   8.2s\n",
      "[CV 5/5] END learning_rate=0.05, max_depth=6, min_child_weight=10, n_estimators=100;, score=0.694 total time=  17.2s\n",
      "[CV 4/5] END learning_rate=0.1, max_depth=3, min_child_weight=1, n_estimators=100;, score=0.711 total time=   8.4s\n",
      "[CV 5/5] END learning_rate=0.1, max_depth=3, min_child_weight=1, n_estimators=100;, score=0.693 total time=   8.1s\n",
      "[CV 4/5] END learning_rate=0.1, max_depth=6, min_child_weight=10, n_estimators=200;, score=0.704 total time=  33.1s\n",
      "[CV 5/5] END learning_rate=0.1, max_depth=6, min_child_weight=10, n_estimators=200;, score=0.685 total time=  33.7s\n",
      "[CV 1/5] END learning_rate=0.05, max_depth=6, min_child_weight=100, n_estimators=100;, score=0.713 total time=  16.1s\n",
      "[CV 3/5] END learning_rate=0.05, max_depth=6, min_child_weight=100, n_estimators=100;, score=0.720 total time=  16.3s\n",
      "[CV 2/5] END learning_rate=0.05, max_depth=6, min_child_weight=100, n_estimators=100;, score=0.700 total time=  16.6s\n",
      "[CV 5/5] END learning_rate=0.05, max_depth=6, min_child_weight=100, n_estimators=100;, score=0.695 total time=  16.1s\n",
      "[CV 4/5] END learning_rate=0.05, max_depth=6, min_child_weight=100, n_estimators=100;, score=0.710 total time=  16.4s\n",
      "[CV 2/5] END learning_rate=0.1, max_depth=6, min_child_weight=10, n_estimators=150;, score=0.699 total time=  25.5s\n",
      "[CV 1/5] END learning_rate=0.1, max_depth=6, min_child_weight=10, n_estimators=150;, score=0.702 total time=  26.4s\n",
      "[CV 1/5] END learning_rate=0.05, max_depth=3, min_child_weight=1, n_estimators=200;, score=0.710 total time=  17.6s\n",
      "[CV 2/5] END learning_rate=0.05, max_depth=3, min_child_weight=1, n_estimators=200;, score=0.698 total time=  17.3s\n",
      "[CV 3/5] END learning_rate=0.1, max_depth=6, min_child_weight=10, n_estimators=150;, score=0.714 total time=  26.3s\n",
      "[CV 3/5] END learning_rate=0.05, max_depth=3, min_child_weight=1, n_estimators=200;, score=0.718 total time=  17.4s\n",
      "[CV 4/5] END learning_rate=0.1, max_depth=6, min_child_weight=10, n_estimators=150;, score=0.705 total time=  26.4s\n",
      "[CV 5/5] END learning_rate=0.1, max_depth=6, min_child_weight=10, n_estimators=150;, score=0.688 total time=  26.3s\n",
      "[CV 4/5] END learning_rate=0.05, max_depth=3, min_child_weight=1, n_estimators=200;, score=0.711 total time=  17.9s\n",
      "[CV 5/5] END learning_rate=0.05, max_depth=3, min_child_weight=1, n_estimators=200;, score=0.694 total time=  17.9s\n",
      "[CV 3/5] END learning_rate=0.1, max_depth=6, min_child_weight=1, n_estimators=150;, score=0.712 total time=  27.0s\n",
      "[CV 2/5] END learning_rate=0.1, max_depth=6, min_child_weight=1, n_estimators=150;, score=0.698 total time=  27.4s\n",
      "[CV 4/5] END learning_rate=0.1, max_depth=6, min_child_weight=1, n_estimators=150;, score=0.709 total time=  27.2s\n",
      "[CV 1/5] END learning_rate=0.1, max_depth=6, min_child_weight=1, n_estimators=150;, score=0.696 total time=  27.8s\n",
      "[CV 5/5] END learning_rate=0.1, max_depth=6, min_child_weight=1, n_estimators=150;, score=0.688 total time=  27.3s\n",
      "[CV 1/5] END learning_rate=0.05, max_depth=6, min_child_weight=10, n_estimators=150;, score=0.711 total time=  27.2s\n",
      "[CV 2/5] END learning_rate=0.05, max_depth=6, min_child_weight=10, n_estimators=150;, score=0.701 total time=  27.8s\n",
      "[CV 3/5] END learning_rate=0.05, max_depth=6, min_child_weight=10, n_estimators=150;, score=0.719 total time=  27.5s\n",
      "[CV 1/5] END learning_rate=0.1, max_depth=3, min_child_weight=10, n_estimators=100;, score=0.712 total time=   9.2s\n",
      "[CV 4/5] END learning_rate=0.05, max_depth=6, min_child_weight=10, n_estimators=150;, score=0.713 total time=  27.3s\n",
      "[CV 5/5] END learning_rate=0.05, max_depth=6, min_child_weight=10, n_estimators=150;, score=0.693 total time=  27.2s\n",
      "[CV 1/5] END learning_rate=0.2, max_depth=9, min_child_weight=10, n_estimators=100;, score=0.687 total time=  27.3s\n",
      "[CV 2/5] END learning_rate=0.2, max_depth=9, min_child_weight=10, n_estimators=100;, score=0.682 total time=  28.1s\n",
      "[CV 2/5] END learning_rate=0.1, max_depth=3, min_child_weight=10, n_estimators=100;, score=0.698 total time=   8.8s\n",
      "[CV 3/5] END learning_rate=0.2, max_depth=9, min_child_weight=10, n_estimators=100;, score=0.693 total time=  27.5s\n",
      "[CV 4/5] END learning_rate=0.2, max_depth=9, min_child_weight=10, n_estimators=100;, score=0.690 total time=  27.6s\n",
      "[CV 4/5] END learning_rate=0.1, max_depth=3, min_child_weight=10, n_estimators=100;, score=0.711 total time=   9.0s\n",
      "[CV 3/5] END learning_rate=0.1, max_depth=3, min_child_weight=10, n_estimators=100;, score=0.717 total time=   9.2s\n",
      "[CV 5/5] END learning_rate=0.1, max_depth=3, min_child_weight=10, n_estimators=100;, score=0.694 total time=   9.2s\n",
      "[CV 5/5] END learning_rate=0.2, max_depth=9, min_child_weight=10, n_estimators=100;, score=0.668 total time=  27.7s\n",
      "[CV 1/5] END learning_rate=0.2, max_depth=6, min_child_weight=1, n_estimators=100;, score=0.694 total time=  18.6s\n",
      "[CV 2/5] END learning_rate=0.2, max_depth=6, min_child_weight=1, n_estimators=100;, score=0.686 total time=  18.3s\n",
      "[CV 3/5] END learning_rate=0.2, max_depth=6, min_child_weight=1, n_estimators=100;, score=0.700 total time=  18.6s\n",
      "[CV 1/5] END learning_rate=0.1, max_depth=9, min_child_weight=10, n_estimators=150;, score=0.699 total time=  41.5s\n",
      "[CV 3/5] END learning_rate=0.1, max_depth=9, min_child_weight=10, n_estimators=150;, score=0.705 total time=  41.4s\n",
      "[CV 2/5] END learning_rate=0.1, max_depth=9, min_child_weight=10, n_estimators=150;, score=0.695 total time=  42.1s\n",
      "[CV 4/5] END learning_rate=0.2, max_depth=6, min_child_weight=1, n_estimators=100;, score=0.698 total time=  18.9s\n",
      "[CV 5/5] END learning_rate=0.2, max_depth=6, min_child_weight=1, n_estimators=100;, score=0.679 total time=  18.9s\n",
      "[CV 5/5] END learning_rate=0.1, max_depth=9, min_child_weight=10, n_estimators=150;, score=0.682 total time=  41.6s\n",
      "[CV 4/5] END learning_rate=0.1, max_depth=9, min_child_weight=10, n_estimators=150;, score=0.707 total time=  42.2s\n",
      "[CV 1/5] END learning_rate=0.05, max_depth=9, min_child_weight=1, n_estimators=100;, score=0.709 total time=  30.6s\n",
      "[CV 2/5] END learning_rate=0.05, max_depth=9, min_child_weight=1, n_estimators=100;, score=0.694 total time=  31.2s\n",
      "[CV 3/5] END learning_rate=0.05, max_depth=9, min_child_weight=1, n_estimators=100;, score=0.713 total time=  30.0s\n",
      "[CV 4/5] END learning_rate=0.05, max_depth=9, min_child_weight=1, n_estimators=100;, score=0.710 total time=  31.6s\n",
      "[CV 5/5] END learning_rate=0.05, max_depth=9, min_child_weight=1, n_estimators=100;, score=0.685 total time=  31.0s\n",
      "[CV 1/5] END learning_rate=0.05, max_depth=9, min_child_weight=10, n_estimators=150;, score=0.710 total time=  42.7s\n",
      "[CV 2/5] END learning_rate=0.05, max_depth=9, min_child_weight=10, n_estimators=150;, score=0.697 total time=  42.6s\n",
      "[CV 3/5] END learning_rate=0.05, max_depth=9, min_child_weight=10, n_estimators=150;, score=0.719 total time=  43.3s\n",
      "[CV 4/5] END learning_rate=0.05, max_depth=9, min_child_weight=10, n_estimators=150;, score=0.714 total time=  42.6s\n",
      "[CV 5/5] END learning_rate=0.05, max_depth=9, min_child_weight=10, n_estimators=150;, score=0.694 total time=  43.3s\n",
      "[CV 1/5] END learning_rate=0.2, max_depth=9, min_child_weight=100, n_estimators=100;, score=0.705 total time=  24.6s\n",
      "[CV 2/5] END learning_rate=0.2, max_depth=9, min_child_weight=100, n_estimators=100;, score=0.694 total time=  24.3s\n",
      "[CV 1/5] END learning_rate=0.05, max_depth=9, min_child_weight=1, n_estimators=200;, score=0.706 total time=  59.6s\n",
      "[CV 2/5] END learning_rate=0.05, max_depth=9, min_child_weight=1, n_estimators=200;, score=0.694 total time=  59.7s\n",
      "[CV 3/5] END learning_rate=0.05, max_depth=9, min_child_weight=1, n_estimators=200;, score=0.712 total time=  58.8s\n",
      "[CV 3/5] END learning_rate=0.2, max_depth=9, min_child_weight=100, n_estimators=100;, score=0.710 total time=  24.8s\n",
      "[CV 4/5] END learning_rate=0.2, max_depth=9, min_child_weight=100, n_estimators=100;, score=0.706 total time=  24.7s\n",
      "[CV 4/5] END learning_rate=0.05, max_depth=9, min_child_weight=1, n_estimators=200;, score=0.707 total time=  59.9s\n",
      "[CV 1/5] END learning_rate=0.2, max_depth=6, min_child_weight=100, n_estimators=100;, score=0.707 total time=  17.6s\n",
      "[CV 5/5] END learning_rate=0.2, max_depth=9, min_child_weight=100, n_estimators=100;, score=0.694 total time=  24.6s\n",
      "[CV 2/5] END learning_rate=0.2, max_depth=6, min_child_weight=100, n_estimators=100;, score=0.700 total time=  17.3s\n",
      "[CV 5/5] END learning_rate=0.05, max_depth=9, min_child_weight=1, n_estimators=200;, score=0.685 total time=  59.9s\n",
      "[CV 3/5] END learning_rate=0.2, max_depth=6, min_child_weight=100, n_estimators=100;, score=0.713 total time=  17.5s\n",
      "[CV 4/5] END learning_rate=0.2, max_depth=6, min_child_weight=100, n_estimators=100;, score=0.709 total time=  17.4s\n",
      "[CV 5/5] END learning_rate=0.2, max_depth=6, min_child_weight=100, n_estimators=100;, score=0.694 total time=  17.2s\n",
      "[CV 1/5] END learning_rate=0.1, max_depth=6, min_child_weight=100, n_estimators=150;, score=0.710 total time=  26.1s\n",
      "[CV 2/5] END learning_rate=0.1, max_depth=6, min_child_weight=100, n_estimators=150;, score=0.702 total time=  26.7s\n",
      "[CV 3/5] END learning_rate=0.1, max_depth=6, min_child_weight=100, n_estimators=150;, score=0.722 total time=  25.9s\n",
      "[CV 4/5] END learning_rate=0.1, max_depth=6, min_child_weight=100, n_estimators=150;, score=0.709 total time=  26.3s\n",
      "[CV 5/5] END learning_rate=0.1, max_depth=6, min_child_weight=100, n_estimators=150;, score=0.695 total time=  26.5s\n",
      "[CV 1/5] END learning_rate=0.2, max_depth=9, min_child_weight=100, n_estimators=200;, score=0.693 total time=  49.5s\n",
      "[CV 1/5] END learning_rate=0.05, max_depth=9, min_child_weight=10, n_estimators=100;, score=0.713 total time=  29.0s\n",
      "[CV 3/5] END learning_rate=0.05, max_depth=9, min_child_weight=10, n_estimators=100;, score=0.720 total time=  28.9s\n",
      "[CV 2/5] END learning_rate=0.2, max_depth=9, min_child_weight=100, n_estimators=200;, score=0.686 total time=  49.6s\n",
      "[CV 2/5] END learning_rate=0.05, max_depth=9, min_child_weight=10, n_estimators=100;, score=0.695 total time=  29.5s\n",
      "[CV 3/5] END learning_rate=0.2, max_depth=9, min_child_weight=100, n_estimators=200;, score=0.694 total time=  49.9s\n",
      "[CV 4/5] END learning_rate=0.2, max_depth=9, min_child_weight=100, n_estimators=200;, score=0.698 total time=  49.8s\n",
      "[CV 5/5] END learning_rate=0.2, max_depth=9, min_child_weight=100, n_estimators=200;, score=0.687 total time=  49.6s\n",
      "[CV 4/5] END learning_rate=0.05, max_depth=9, min_child_weight=10, n_estimators=100;, score=0.714 total time=  29.5s\n",
      "[CV 2/5] END learning_rate=0.1, max_depth=9, min_child_weight=100, n_estimators=100;, score=0.702 total time=  24.5s\n",
      "[CV 1/5] END learning_rate=0.1, max_depth=9, min_child_weight=100, n_estimators=100;, score=0.710 total time=  24.9s\n",
      "[CV 3/5] END learning_rate=0.1, max_depth=9, min_child_weight=100, n_estimators=100;, score=0.721 total time=  24.6s\n",
      "[CV 4/5] END learning_rate=0.1, max_depth=9, min_child_weight=100, n_estimators=100;, score=0.712 total time=  24.8s\n",
      "[CV 5/5] END learning_rate=0.05, max_depth=9, min_child_weight=10, n_estimators=100;, score=0.694 total time=  29.9s\n",
      "[CV 5/5] END learning_rate=0.1, max_depth=9, min_child_weight=100, n_estimators=100;, score=0.699 total time=  24.8s\n",
      "[CV 1/5] END learning_rate=0.1, max_depth=3, min_child_weight=10, n_estimators=200;, score=0.711 total time=  18.2s\n",
      "[CV 2/5] END learning_rate=0.1, max_depth=3, min_child_weight=10, n_estimators=200;, score=0.701 total time=  18.1s\n",
      "[CV 3/5] END learning_rate=0.1, max_depth=3, min_child_weight=10, n_estimators=200;, score=0.717 total time=  18.1s\n",
      "[CV 4/5] END learning_rate=0.1, max_depth=3, min_child_weight=10, n_estimators=200;, score=0.712 total time=  18.3s\n",
      "[CV 5/5] END learning_rate=0.1, max_depth=3, min_child_weight=10, n_estimators=200;, score=0.693 total time=  18.6s\n",
      "[CV 1/5] END learning_rate=0.1, max_depth=3, min_child_weight=100, n_estimators=100;, score=0.712 total time=   9.2s\n",
      "[CV 1/5] END learning_rate=0.05, max_depth=9, min_child_weight=100, n_estimators=200;, score=0.711 total time=  49.8s\n",
      "[CV 2/5] END learning_rate=0.1, max_depth=3, min_child_weight=100, n_estimators=100;, score=0.697 total time=   8.9s\n",
      "[CV 3/5] END learning_rate=0.1, max_depth=3, min_child_weight=100, n_estimators=100;, score=0.718 total time=   9.1s\n",
      "[CV 3/5] END learning_rate=0.05, max_depth=9, min_child_weight=100, n_estimators=200;, score=0.724 total time=  49.8s\n",
      "[CV 4/5] END learning_rate=0.05, max_depth=9, min_child_weight=100, n_estimators=200;, score=0.713 total time=  50.0s\n",
      "[CV 2/5] END learning_rate=0.05, max_depth=9, min_child_weight=100, n_estimators=200;, score=0.701 total time=  50.4s\n",
      "[CV 5/5] END learning_rate=0.05, max_depth=9, min_child_weight=100, n_estimators=200;, score=0.698 total time=  50.8s\n",
      "[CV 4/5] END learning_rate=0.1, max_depth=3, min_child_weight=100, n_estimators=100;, score=0.711 total time=   9.0s\n",
      "[CV 5/5] END learning_rate=0.1, max_depth=3, min_child_weight=100, n_estimators=100;, score=0.693 total time=   9.2s\n",
      "[CV 1/5] END learning_rate=0.2, max_depth=3, min_child_weight=1, n_estimators=100;, score=0.707 total time=   9.5s\n",
      "[CV 3/5] END learning_rate=0.2, max_depth=3, min_child_weight=1, n_estimators=100;, score=0.718 total time=   9.4s\n",
      "[CV 2/5] END learning_rate=0.2, max_depth=3, min_child_weight=1, n_estimators=100;, score=0.698 total time=   9.4s\n",
      "[CV 4/5] END learning_rate=0.2, max_depth=3, min_child_weight=1, n_estimators=100;, score=0.712 total time=   9.4s\n",
      "[CV 5/5] END learning_rate=0.2, max_depth=3, min_child_weight=1, n_estimators=100;, score=0.693 total time=   9.6s\n",
      "[CV 1/5] END learning_rate=0.2, max_depth=6, min_child_weight=100, n_estimators=200;, score=0.696 total time=  35.6s\n",
      "[CV 2/5] END learning_rate=0.2, max_depth=6, min_child_weight=100, n_estimators=200;, score=0.694 total time=  35.4s\n",
      "[CV 3/5] END learning_rate=0.2, max_depth=6, min_child_weight=100, n_estimators=200;, score=0.703 total time=  35.4s\n",
      "[CV 2/5] END learning_rate=0.1, max_depth=9, min_child_weight=1, n_estimators=100;, score=0.692 total time=  30.2s\n",
      "[CV 1/5] END learning_rate=0.1, max_depth=9, min_child_weight=1, n_estimators=100;, score=0.696 total time=  31.1s\n",
      "[CV 3/5] END learning_rate=0.1, max_depth=9, min_child_weight=1, n_estimators=100;, score=0.711 total time=  30.9s\n",
      "[CV 4/5] END learning_rate=0.2, max_depth=6, min_child_weight=100, n_estimators=200;, score=0.699 total time=  36.5s\n",
      "[CV 5/5] END learning_rate=0.2, max_depth=6, min_child_weight=100, n_estimators=200;, score=0.687 total time=  35.8s\n",
      "[CV 1/5] END learning_rate=0.2, max_depth=3, min_child_weight=100, n_estimators=150;, score=0.708 total time=  13.8s\n",
      "[CV 4/5] END learning_rate=0.1, max_depth=9, min_child_weight=1, n_estimators=100;, score=0.708 total time=  31.4s\n",
      "[CV 1/5] END learning_rate=0.05, max_depth=6, min_child_weight=1, n_estimators=150;, score=0.707 total time=  30.4s\n",
      "[CV 3/5] END learning_rate=0.05, max_depth=6, min_child_weight=1, n_estimators=150;, score=0.718 total time=  29.4s\n",
      "[CV 2/5] END learning_rate=0.05, max_depth=6, min_child_weight=1, n_estimators=150;, score=0.699 total time=  30.0s\n",
      "[CV 4/5] END learning_rate=0.05, max_depth=6, min_child_weight=1, n_estimators=150;, score=0.715 total time=  29.4s\n",
      "[CV 5/5] END learning_rate=0.1, max_depth=9, min_child_weight=1, n_estimators=100;, score=0.677 total time=  32.1s\n",
      "[CV 2/5] END learning_rate=0.2, max_depth=3, min_child_weight=100, n_estimators=150;, score=0.700 total time=  13.8s\n",
      "[CV 5/5] END learning_rate=0.05, max_depth=6, min_child_weight=1, n_estimators=150;, score=0.692 total time=  29.8s\n",
      "[CV 3/5] END learning_rate=0.2, max_depth=3, min_child_weight=100, n_estimators=150;, score=0.718 total time=  13.8s\n",
      "[CV 4/5] END learning_rate=0.2, max_depth=3, min_child_weight=100, n_estimators=150;, score=0.713 total time=  13.8s\n",
      "[CV 5/5] END learning_rate=0.2, max_depth=3, min_child_weight=100, n_estimators=150;, score=0.692 total time=  14.0s\n",
      "[CV 1/5] END learning_rate=0.2, max_depth=6, min_child_weight=10, n_estimators=100;, score=0.695 total time=  18.9s\n",
      "[CV 2/5] END learning_rate=0.2, max_depth=6, min_child_weight=10, n_estimators=100;, score=0.694 total time=  19.3s\n",
      "[CV 3/5] END learning_rate=0.2, max_depth=6, min_child_weight=10, n_estimators=100;, score=0.700 total time=  19.2s\n",
      "[CV 4/5] END learning_rate=0.2, max_depth=6, min_child_weight=10, n_estimators=100;, score=0.696 total time=  19.2s\n",
      "[CV 5/5] END learning_rate=0.2, max_depth=6, min_child_weight=10, n_estimators=100;, score=0.677 total time=  19.4s\n",
      "[CV 1/5] END learning_rate=0.1, max_depth=3, min_child_weight=1, n_estimators=150;, score=0.710 total time=  14.5s\n",
      "[CV 2/5] END learning_rate=0.1, max_depth=3, min_child_weight=1, n_estimators=150;, score=0.699 total time=  14.6s\n",
      "[CV 3/5] END learning_rate=0.1, max_depth=3, min_child_weight=1, n_estimators=150;, score=0.718 total time=  14.3s\n",
      "[CV 4/5] END learning_rate=0.1, max_depth=3, min_child_weight=1, n_estimators=150;, score=0.712 total time=  14.4s\n",
      "[CV 5/5] END learning_rate=0.1, max_depth=3, min_child_weight=1, n_estimators=150;, score=0.695 total time=  13.8s\n",
      "[CV 1/5] END learning_rate=0.1, max_depth=3, min_child_weight=1, n_estimators=200;, score=0.709 total time=  19.2s\n",
      "[CV 2/5] END learning_rate=0.1, max_depth=3, min_child_weight=1, n_estimators=200;, score=0.700 total time=  18.8s\n",
      "[CV 3/5] END learning_rate=0.1, max_depth=3, min_child_weight=1, n_estimators=200;, score=0.716 total time=  18.8s\n",
      "[CV 1/5] END learning_rate=0.1, max_depth=3, min_child_weight=10, n_estimators=150;, score=0.712 total time=  14.3s\n",
      "[CV 4/5] END learning_rate=0.1, max_depth=3, min_child_weight=1, n_estimators=200;, score=0.713 total time=  19.1s\n",
      "[CV 5/5] END learning_rate=0.1, max_depth=3, min_child_weight=1, n_estimators=200;, score=0.695 total time=  19.2s\n",
      "[CV 2/5] END learning_rate=0.1, max_depth=3, min_child_weight=10, n_estimators=150;, score=0.700 total time=  14.4s\n",
      "[CV 3/5] END learning_rate=0.1, max_depth=3, min_child_weight=10, n_estimators=150;, score=0.718 total time=  14.2s\n",
      "[CV 4/5] END learning_rate=0.1, max_depth=3, min_child_weight=10, n_estimators=150;, score=0.712 total time=  14.2s\n",
      "[CV 5/5] END learning_rate=0.1, max_depth=3, min_child_weight=10, n_estimators=150;, score=0.693 total time=  14.4s\n",
      "[CV 1/5] END learning_rate=0.05, max_depth=6, min_child_weight=100, n_estimators=150;, score=0.712 total time=  27.4s\n",
      "[CV 2/5] END learning_rate=0.05, max_depth=6, min_child_weight=100, n_estimators=150;, score=0.702 total time=  26.9s\n",
      "[CV 3/5] END learning_rate=0.05, max_depth=6, min_child_weight=100, n_estimators=150;, score=0.723 total time=  26.4s\n",
      "[CV 4/5] END learning_rate=0.05, max_depth=6, min_child_weight=100, n_estimators=150;, score=0.713 total time=  27.0s\n",
      "[CV 5/5] END learning_rate=0.05, max_depth=6, min_child_weight=100, n_estimators=150;, score=0.698 total time=  26.5s\n",
      "[CV 1/5] END learning_rate=0.1, max_depth=9, min_child_weight=100, n_estimators=150;, score=0.707 total time=  38.2s\n",
      "[CV 1/5] END learning_rate=0.05, max_depth=3, min_child_weight=1, n_estimators=150;, score=0.710 total time=  14.4s\n",
      "[CV 2/5] END learning_rate=0.05, max_depth=3, min_child_weight=1, n_estimators=150;, score=0.696 total time=  14.1s\n",
      "[CV 3/5] END learning_rate=0.05, max_depth=3, min_child_weight=1, n_estimators=150;, score=0.716 total time=  14.4s\n",
      "[CV 2/5] END learning_rate=0.1, max_depth=9, min_child_weight=100, n_estimators=150;, score=0.701 total time=  38.8s\n",
      "[CV 3/5] END learning_rate=0.1, max_depth=9, min_child_weight=100, n_estimators=150;, score=0.720 total time=  38.2s\n",
      "[CV 4/5] END learning_rate=0.05, max_depth=3, min_child_weight=1, n_estimators=150;, score=0.709 total time=  14.3s\n",
      "[CV 5/5] END learning_rate=0.05, max_depth=3, min_child_weight=1, n_estimators=150;, score=0.692 total time=  14.3s\n",
      "[CV 1/5] END learning_rate=0.2, max_depth=3, min_child_weight=10, n_estimators=200;, score=0.704 total time=  18.7s\n",
      "[CV 4/5] END learning_rate=0.1, max_depth=9, min_child_weight=100, n_estimators=150;, score=0.711 total time=  38.3s\n",
      "[CV 2/5] END learning_rate=0.2, max_depth=3, min_child_weight=10, n_estimators=200;, score=0.692 total time=  18.9s\n",
      "[CV 5/5] END learning_rate=0.1, max_depth=9, min_child_weight=100, n_estimators=150;, score=0.697 total time=  38.7s\n",
      "[CV 3/5] END learning_rate=0.2, max_depth=3, min_child_weight=10, n_estimators=200;, score=0.714 total time=  19.0s\n",
      "[CV 4/5] END learning_rate=0.2, max_depth=3, min_child_weight=10, n_estimators=200;, score=0.709 total time=  19.2s\n",
      "[CV 5/5] END learning_rate=0.2, max_depth=3, min_child_weight=10, n_estimators=200;, score=0.690 total time=  19.4s\n",
      "[CV 1/5] END learning_rate=0.05, max_depth=3, min_child_weight=10, n_estimators=100;, score=0.709 total time=   9.6s\n",
      "[CV 2/5] END learning_rate=0.05, max_depth=3, min_child_weight=10, n_estimators=100;, score=0.691 total time=   9.7s\n",
      "[CV 1/5] END learning_rate=0.2, max_depth=6, min_child_weight=100, n_estimators=150;, score=0.699 total time=  27.3s\n",
      "[CV 3/5] END learning_rate=0.05, max_depth=3, min_child_weight=10, n_estimators=100;, score=0.711 total time=   9.7s\n",
      "[CV 4/5] END learning_rate=0.05, max_depth=3, min_child_weight=10, n_estimators=100;, score=0.704 total time=   9.6s\n",
      "[CV 5/5] END learning_rate=0.05, max_depth=3, min_child_weight=10, n_estimators=100;, score=0.688 total time=   9.6s\n",
      "[CV 2/5] END learning_rate=0.2, max_depth=6, min_child_weight=100, n_estimators=150;, score=0.695 total time=  27.0s\n",
      "[CV 3/5] END learning_rate=0.2, max_depth=6, min_child_weight=100, n_estimators=150;, score=0.710 total time=  27.0s\n",
      "[CV 4/5] END learning_rate=0.2, max_depth=6, min_child_weight=100, n_estimators=150;, score=0.705 total time=  27.3s\n",
      "[CV 5/5] END learning_rate=0.2, max_depth=6, min_child_weight=100, n_estimators=150;, score=0.688 total time=  27.1s\n",
      "[CV 1/5] END learning_rate=0.1, max_depth=3, min_child_weight=100, n_estimators=200;, score=0.711 total time=  18.7s\n",
      "[CV 2/5] END learning_rate=0.1, max_depth=3, min_child_weight=100, n_estimators=200;, score=0.702 total time=  18.7s\n",
      "[CV 3/5] END learning_rate=0.1, max_depth=3, min_child_weight=100, n_estimators=200;, score=0.720 total time=  18.8s\n",
      "[CV 4/5] END learning_rate=0.1, max_depth=3, min_child_weight=100, n_estimators=200;, score=0.713 total time=  19.1s\n",
      "[CV 5/5] END learning_rate=0.1, max_depth=3, min_child_weight=100, n_estimators=200;, score=0.696 total time=  19.1s\n",
      "[CV 2/5] END learning_rate=0.2, max_depth=9, min_child_weight=1, n_estimators=150;, score=0.673 total time=  46.9s\n",
      "[CV 1/5] END learning_rate=0.2, max_depth=9, min_child_weight=1, n_estimators=150;, score=0.679 total time=  47.4s\n",
      "[CV 3/5] END learning_rate=0.2, max_depth=9, min_child_weight=1, n_estimators=150;, score=0.690 total time=  47.5s\n",
      "[CV 4/5] END learning_rate=0.2, max_depth=9, min_child_weight=1, n_estimators=150;, score=0.693 total time=  47.1s\n",
      "[CV 5/5] END learning_rate=0.2, max_depth=9, min_child_weight=1, n_estimators=150;, score=0.664 total time=  46.7s\n",
      "[CV 1/5] END learning_rate=0.1, max_depth=9, min_child_weight=10, n_estimators=200;, score=0.694 total time=  58.2s\n",
      "[CV 2/5] END learning_rate=0.1, max_depth=9, min_child_weight=10, n_estimators=200;, score=0.694 total time=  58.1s\n",
      "[CV 3/5] END learning_rate=0.1, max_depth=9, min_child_weight=10, n_estimators=200;, score=0.700 total time=  58.2s\n",
      "[CV 1/5] END learning_rate=0.05, max_depth=3, min_child_weight=10, n_estimators=150;, score=0.711 total time=  14.0s\n",
      "[CV 1/5] END learning_rate=0.1, max_depth=9, min_child_weight=1, n_estimators=150;, score=0.694 total time=  45.6s\n",
      "[CV 5/5] END learning_rate=0.1, max_depth=9, min_child_weight=10, n_estimators=200;, score=0.681 total time=  57.2s\n",
      "[CV 2/5] END learning_rate=0.1, max_depth=9, min_child_weight=1, n_estimators=150;, score=0.690 total time=  45.1s\n",
      "[CV 4/5] END learning_rate=0.1, max_depth=9, min_child_weight=10, n_estimators=200;, score=0.706 total time=  57.3s\n",
      "[CV 2/5] END learning_rate=0.05, max_depth=3, min_child_weight=10, n_estimators=150;, score=0.696 total time=  14.0s\n",
      "[CV 3/5] END learning_rate=0.1, max_depth=9, min_child_weight=1, n_estimators=150;, score=0.706 total time=  45.1s\n",
      "[CV 3/5] END learning_rate=0.05, max_depth=3, min_child_weight=10, n_estimators=150;, score=0.716 total time=  13.9s\n",
      "[CV 5/5] END learning_rate=0.05, max_depth=3, min_child_weight=10, n_estimators=150;, score=0.692 total time=  14.3s\n",
      "[CV 4/5] END learning_rate=0.05, max_depth=3, min_child_weight=10, n_estimators=150;, score=0.710 total time=  14.4s\n",
      "[CV 4/5] END learning_rate=0.1, max_depth=9, min_child_weight=1, n_estimators=150;, score=0.707 total time=  45.9s\n",
      "[CV 5/5] END learning_rate=0.1, max_depth=9, min_child_weight=1, n_estimators=150;, score=0.676 total time=  45.8s\n",
      "[CV 1/5] END learning_rate=0.1, max_depth=6, min_child_weight=1, n_estimators=200;, score=0.695 total time=  38.8s\n",
      "[CV 2/5] END learning_rate=0.1, max_depth=6, min_child_weight=1, n_estimators=200;, score=0.695 total time=  38.7s\n",
      "[CV 3/5] END learning_rate=0.1, max_depth=6, min_child_weight=1, n_estimators=200;, score=0.707 total time=  38.4s\n",
      "[CV 4/5] END learning_rate=0.1, max_depth=6, min_child_weight=1, n_estimators=200;, score=0.704 total time=  38.3s\n",
      "[CV 5/5] END learning_rate=0.1, max_depth=6, min_child_weight=1, n_estimators=200;, score=0.687 total time=  36.6s\n",
      "[CV 2/5] END learning_rate=0.2, max_depth=9, min_child_weight=1, n_estimators=200;, score=0.672 total time=  54.7s\n",
      "[CV 1/5] END learning_rate=0.2, max_depth=9, min_child_weight=1, n_estimators=200;, score=0.680 total time=  54.7s\n",
      "[CV 3/5] END learning_rate=0.2, max_depth=9, min_child_weight=1, n_estimators=200;, score=0.693 total time=  54.3s\n",
      "[CV 5/5] END learning_rate=0.2, max_depth=9, min_child_weight=1, n_estimators=200;, score=0.665 total time=  43.8s\n",
      "[CV 4/5] END learning_rate=0.2, max_depth=9, min_child_weight=1, n_estimators=200;, score=0.694 total time=  44.1s\n"
     ]
    },
    {
     "data": {
      "text/plain": [
       "{'n_estimators': 200,\n",
       " 'min_child_weight': 100,\n",
       " 'max_depth': 6,\n",
       " 'learning_rate': 0.05}"
      ]
     },
     "execution_count": 382,
     "metadata": {},
     "output_type": "execute_result"
    }
   ],
   "source": [
    "from sklearn.model_selection import RandomizedSearchCV\n",
    "\n",
    "hyperparameter_grid = {\n",
    "    'n_estimators': [100, 150, 200],\n",
    "    'max_depth': [3, 6, 9],\n",
    "    'learning_rate': [0.05, 0.1, 0.20],\n",
    "    'min_child_weight': [1, 10, 100]\n",
    "}\n",
    "\n",
    "rscv_xgb = RandomizedSearchCV(\n",
    "    estimator=xgbc,\n",
    "    param_distributions=hyperparameter_grid,\n",
    "    cv=5, n_iter=50,\n",
    "    scoring = 'roc_auc', n_jobs=-1,\n",
    "    verbose = 5, \n",
    "    random_state=SEED\n",
    ")\n",
    "\n",
    "rscv_xgb.fit(x_train ,y_train.popular)\n",
    "rscv_xgb.best_params_"
   ]
  },
  {
   "cell_type": "code",
   "execution_count": 383,
   "metadata": {},
   "outputs": [
    {
     "data": {
      "text/plain": [
       "0.7218208637740692"
      ]
     },
     "execution_count": 383,
     "metadata": {},
     "output_type": "execute_result"
    }
   ],
   "source": [
    "xgbc = XGBClassifier(\n",
    "    n_estimators=200,\n",
    "    min_child_weight=100,\n",
    "    max_depth=6,\n",
    "    learning_rate=0.05\n",
    ")\n",
    "fit_and_score(xgbc, x_train, x_valid, y_train.popular, y_valid.popular)"
   ]
  },
  {
   "cell_type": "markdown",
   "metadata": {},
   "source": [
    "##### Iteración 2 -> Score: 0.7221223506943724\n",
    "\n",
    "```py\n",
    "hyperparameter_grid = {\n",
    "    'alpha': [0, 2, 4, 6, 8, 10],\n",
    "    'gamma': [0, 2, 4, 6, 8, 10],\n",
    "    'lambda': [1, 3, 5, 7, 9],\n",
    "}\n",
    "```"
   ]
  },
  {
   "cell_type": "code",
   "execution_count": 384,
   "metadata": {},
   "outputs": [
    {
     "name": "stdout",
     "output_type": "stream",
     "text": [
      "Fitting 3 folds for each of 50 candidates, totalling 150 fits\n",
      "[CV 3/3] END ........alpha=8, gamma=6, lambda=7;, score=0.702 total time=  22.1s\n",
      "[CV 1/3] END .......alpha=10, gamma=6, lambda=9;, score=0.698 total time=  22.1s\n",
      "[CV 2/3] END ........alpha=2, gamma=2, lambda=3;, score=0.717 total time=  22.2s\n",
      "[CV 3/3] END ........alpha=2, gamma=2, lambda=3;, score=0.703 total time=  22.3s\n",
      "[CV 2/3] END ........alpha=8, gamma=6, lambda=7;, score=0.718 total time=  22.4s\n",
      "[CV 2/3] END .......alpha=10, gamma=6, lambda=9;, score=0.718 total time=  22.4s\n",
      "[CV 1/3] END ........alpha=2, gamma=2, lambda=3;, score=0.700 total time=  22.7s\n",
      "[CV 1/3] END ........alpha=8, gamma=6, lambda=7;, score=0.698 total time=  22.9s\n",
      "[CV 3/3] END .......alpha=10, gamma=6, lambda=9;, score=0.702 total time=  24.7s\n",
      "[CV 3/3] END ........alpha=8, gamma=8, lambda=7;, score=0.700 total time=  24.9s\n",
      "[CV 3/3] END ........alpha=8, gamma=2, lambda=3;, score=0.703 total time=  24.8s\n",
      "[CV 1/3] END ........alpha=8, gamma=8, lambda=7;, score=0.701 total time=  25.3s\n",
      "[CV 1/3] END ........alpha=8, gamma=2, lambda=3;, score=0.700 total time=  25.1s\n",
      "[CV 2/3] END ........alpha=8, gamma=2, lambda=3;, score=0.717 total time=  25.2s\n",
      "[CV 2/3] END ........alpha=8, gamma=8, lambda=7;, score=0.716 total time=  25.5s\n",
      "[CV 1/3] END ........alpha=8, gamma=4, lambda=7;, score=0.700 total time=  25.5s\n",
      "[CV 2/3] END ........alpha=8, gamma=4, lambda=7;, score=0.717 total time=  26.7s\n",
      "[CV 3/3] END ........alpha=8, gamma=4, lambda=7;, score=0.701 total time=  26.9s\n",
      "[CV 3/3] END ........alpha=6, gamma=4, lambda=5;, score=0.701 total time=  26.7s\n",
      "[CV 2/3] END ........alpha=2, gamma=0, lambda=5;, score=0.717 total time=  26.8s\n",
      "[CV 2/3] END ........alpha=6, gamma=4, lambda=5;, score=0.717 total time=  27.1s\n",
      "[CV 1/3] END ........alpha=2, gamma=0, lambda=5;, score=0.701 total time=  27.2s\n",
      "[CV 1/3] END ........alpha=6, gamma=4, lambda=5;, score=0.700 total time=  27.4s\n",
      "[CV 3/3] END ........alpha=2, gamma=0, lambda=5;, score=0.703 total time=  27.1s\n",
      "[CV 1/3] END ........alpha=8, gamma=0, lambda=1;, score=0.701 total time=  28.4s\n",
      "[CV 2/3] END ........alpha=8, gamma=0, lambda=1;, score=0.717 total time=  28.0s\n",
      "[CV 3/3] END ........alpha=8, gamma=0, lambda=1;, score=0.703 total time=  28.3s\n",
      "[CV 1/3] END .......alpha=8, gamma=10, lambda=1;, score=0.700 total time=  28.1s\n",
      "[CV 2/3] END .......alpha=8, gamma=10, lambda=1;, score=0.714 total time=  28.0s\n",
      "[CV 3/3] END .......alpha=8, gamma=10, lambda=1;, score=0.699 total time=  27.9s\n",
      "[CV 1/3] END ........alpha=0, gamma=8, lambda=5;, score=0.701 total time=  28.4s\n",
      "[CV 2/3] END ........alpha=0, gamma=8, lambda=5;, score=0.716 total time=  28.0s\n",
      "[CV 1/3] END .......alpha=6, gamma=10, lambda=1;, score=0.700 total time=  28.3s\n",
      "[CV 2/3] END .......alpha=6, gamma=10, lambda=1;, score=0.714 total time=  28.4s\n",
      "[CV 3/3] END ........alpha=0, gamma=8, lambda=5;, score=0.700 total time=  29.2s\n",
      "[CV 3/3] END .......alpha=6, gamma=10, lambda=1;, score=0.699 total time=  28.5s\n",
      "[CV 2/3] END .......alpha=10, gamma=4, lambda=7;, score=0.717 total time=  28.6s\n",
      "[CV 1/3] END .......alpha=10, gamma=4, lambda=7;, score=0.700 total time=  28.8s\n",
      "[CV 1/3] END .......alpha=6, gamma=10, lambda=9;, score=0.700 total time=  28.3s\n",
      "[CV 3/3] END .......alpha=10, gamma=4, lambda=7;, score=0.701 total time=  28.5s\n",
      "[CV 2/3] END .......alpha=6, gamma=10, lambda=9;, score=0.714 total time=  28.1s\n",
      "[CV 3/3] END .......alpha=6, gamma=10, lambda=9;, score=0.699 total time=  28.2s\n",
      "[CV 1/3] END .......alpha=4, gamma=10, lambda=1;, score=0.700 total time=  28.4s\n",
      "[CV 3/3] END .......alpha=4, gamma=10, lambda=1;, score=0.699 total time=  28.2s\n",
      "[CV 2/3] END .......alpha=4, gamma=10, lambda=1;, score=0.714 total time=  28.6s\n",
      "[CV 1/3] END ........alpha=6, gamma=8, lambda=3;, score=0.701 total time=  28.6s\n",
      "[CV 2/3] END ........alpha=6, gamma=8, lambda=3;, score=0.716 total time=  28.5s\n",
      "[CV 3/3] END ........alpha=6, gamma=8, lambda=3;, score=0.700 total time=  28.7s\n",
      "[CV 1/3] END ........alpha=6, gamma=6, lambda=9;, score=0.698 total time=  28.6s\n",
      "[CV 2/3] END ........alpha=6, gamma=6, lambda=9;, score=0.718 total time=  28.5s\n",
      "[CV 3/3] END ........alpha=6, gamma=6, lambda=9;, score=0.702 total time=  28.5s\n",
      "[CV 1/3] END .......alpha=10, gamma=4, lambda=3;, score=0.700 total time=  28.6s\n",
      "[CV 3/3] END .......alpha=10, gamma=4, lambda=3;, score=0.701 total time=  28.9s\n",
      "[CV 2/3] END .......alpha=10, gamma=4, lambda=3;, score=0.717 total time=  29.2s\n",
      "[CV 2/3] END ........alpha=2, gamma=8, lambda=3;, score=0.716 total time=  28.6s\n",
      "[CV 1/3] END ........alpha=2, gamma=8, lambda=3;, score=0.701 total time=  28.8s\n",
      "[CV 1/3] END ........alpha=2, gamma=6, lambda=1;, score=0.698 total time=  28.2s\n",
      "[CV 3/3] END ........alpha=2, gamma=6, lambda=1;, score=0.702 total time=  28.2s\n",
      "[CV 3/3] END ........alpha=2, gamma=8, lambda=3;, score=0.700 total time=  29.3s\n",
      "[CV 2/3] END ........alpha=2, gamma=6, lambda=1;, score=0.718 total time=  28.7s\n",
      "[CV 2/3] END ........alpha=4, gamma=4, lambda=9;, score=0.717 total time=  28.9s\n",
      "[CV 1/3] END ........alpha=4, gamma=2, lambda=3;, score=0.700 total time=  28.8s\n",
      "[CV 3/3] END ........alpha=4, gamma=4, lambda=9;, score=0.701 total time=  28.9s\n",
      "[CV 1/3] END ........alpha=4, gamma=4, lambda=9;, score=0.700 total time=  29.6s\n",
      "[CV 2/3] END ........alpha=4, gamma=2, lambda=3;, score=0.717 total time=  29.2s\n",
      "[CV 3/3] END ........alpha=4, gamma=2, lambda=3;, score=0.703 total time=  28.8s\n",
      "[CV 1/3] END ........alpha=8, gamma=0, lambda=5;, score=0.701 total time=  28.9s\n",
      "[CV 2/3] END ........alpha=8, gamma=0, lambda=5;, score=0.717 total time=  29.4s\n",
      "[CV 3/3] END ........alpha=8, gamma=0, lambda=5;, score=0.703 total time=  28.9s\n",
      "[CV 1/3] END ........alpha=6, gamma=2, lambda=3;, score=0.700 total time=  29.2s\n",
      "[CV 2/3] END ........alpha=6, gamma=2, lambda=3;, score=0.717 total time=  29.2s\n",
      "[CV 3/3] END ........alpha=6, gamma=2, lambda=3;, score=0.703 total time=  29.1s\n",
      "[CV 2/3] END ........alpha=0, gamma=4, lambda=7;, score=0.717 total time=  28.9s\n",
      "[CV 1/3] END ........alpha=0, gamma=4, lambda=7;, score=0.700 total time=  29.0s\n",
      "[CV 3/3] END ........alpha=0, gamma=4, lambda=7;, score=0.701 total time=  29.0s\n",
      "[CV 2/3] END .......alpha=10, gamma=6, lambda=3;, score=0.718 total time=  28.6s\n",
      "[CV 1/3] END .......alpha=10, gamma=6, lambda=3;, score=0.698 total time=  29.3s\n",
      "[CV 3/3] END .......alpha=10, gamma=6, lambda=3;, score=0.702 total time=  28.5s\n",
      "[CV 2/3] END .......alpha=4, gamma=10, lambda=3;, score=0.714 total time=  28.2s\n",
      "[CV 1/3] END .......alpha=4, gamma=10, lambda=3;, score=0.700 total time=  28.8s\n",
      "[CV 3/3] END .......alpha=4, gamma=10, lambda=3;, score=0.699 total time=  28.9s\n",
      "[CV 1/3] END ......alpha=10, gamma=10, lambda=7;, score=0.700 total time=  29.0s\n",
      "[CV 2/3] END ......alpha=10, gamma=10, lambda=7;, score=0.714 total time=  29.4s\n",
      "[CV 3/3] END ......alpha=10, gamma=10, lambda=7;, score=0.699 total time=  28.7s\n",
      "[CV 1/3] END .......alpha=10, gamma=2, lambda=1;, score=0.700 total time=  28.9s\n",
      "[CV 3/3] END .......alpha=10, gamma=2, lambda=1;, score=0.703 total time=  29.0s\n",
      "[CV 2/3] END .......alpha=10, gamma=2, lambda=1;, score=0.717 total time=  29.2s\n",
      "[CV 1/3] END ........alpha=8, gamma=4, lambda=9;, score=0.700 total time=  29.0s\n",
      "[CV 2/3] END ........alpha=8, gamma=4, lambda=9;, score=0.717 total time=  29.1s\n",
      "[CV 3/3] END ........alpha=8, gamma=4, lambda=9;, score=0.701 total time=  29.1s\n",
      "[CV 2/3] END ........alpha=8, gamma=2, lambda=7;, score=0.717 total time=  28.7s\n",
      "[CV 3/3] END ........alpha=8, gamma=2, lambda=7;, score=0.703 total time=  29.0s\n",
      "[CV 1/3] END ........alpha=8, gamma=2, lambda=7;, score=0.700 total time=  29.4s\n",
      "[CV 2/3] END ........alpha=0, gamma=8, lambda=9;, score=0.716 total time=  29.1s\n",
      "[CV 1/3] END ........alpha=0, gamma=8, lambda=9;, score=0.701 total time=  29.4s\n",
      "[CV 3/3] END ........alpha=0, gamma=8, lambda=9;, score=0.700 total time=  29.2s\n",
      "[CV 1/3] END .......alpha=10, gamma=6, lambda=5;, score=0.698 total time=  28.8s\n",
      "[CV 2/3] END .......alpha=10, gamma=6, lambda=5;, score=0.718 total time=  29.1s\n",
      "[CV 3/3] END .......alpha=10, gamma=6, lambda=5;, score=0.702 total time=  28.9s\n",
      "[CV 2/3] END ........alpha=8, gamma=2, lambda=1;, score=0.717 total time=  29.0s\n",
      "[CV 1/3] END ........alpha=8, gamma=2, lambda=1;, score=0.700 total time=  29.2s\n",
      "[CV 2/3] END ........alpha=6, gamma=2, lambda=5;, score=0.717 total time=  28.8s\n",
      "[CV 3/3] END ........alpha=8, gamma=2, lambda=1;, score=0.703 total time=  29.5s\n",
      "[CV 1/3] END ........alpha=6, gamma=2, lambda=5;, score=0.700 total time=  29.6s\n",
      "[CV 3/3] END ........alpha=6, gamma=2, lambda=5;, score=0.703 total time=  29.0s\n",
      "[CV 3/3] END ........alpha=4, gamma=6, lambda=7;, score=0.702 total time=  28.6s\n",
      "[CV 1/3] END ........alpha=4, gamma=6, lambda=7;, score=0.698 total time=  29.5s\n",
      "[CV 2/3] END ........alpha=4, gamma=6, lambda=7;, score=0.718 total time=  29.5s\n",
      "[CV 1/3] END .......alpha=10, gamma=6, lambda=1;, score=0.698 total time=  29.2s\n",
      "[CV 2/3] END .......alpha=10, gamma=6, lambda=1;, score=0.718 total time=  28.8s\n",
      "[CV 3/3] END .......alpha=10, gamma=6, lambda=1;, score=0.702 total time=  29.0s\n",
      "[CV 1/3] END ......alpha=10, gamma=10, lambda=9;, score=0.700 total time=  28.7s\n",
      "[CV 2/3] END ......alpha=10, gamma=10, lambda=9;, score=0.714 total time=  28.9s\n",
      "[CV 3/3] END ......alpha=10, gamma=10, lambda=9;, score=0.699 total time=  28.6s\n",
      "[CV 2/3] END ........alpha=0, gamma=4, lambda=3;, score=0.717 total time=  29.1s\n",
      "[CV 1/3] END ........alpha=0, gamma=4, lambda=3;, score=0.700 total time=  29.5s\n",
      "[CV 3/3] END ........alpha=0, gamma=4, lambda=3;, score=0.701 total time=  29.5s\n",
      "[CV 1/3] END .......alpha=10, gamma=8, lambda=1;, score=0.701 total time=  29.4s\n",
      "[CV 2/3] END .......alpha=10, gamma=8, lambda=1;, score=0.716 total time=  29.1s\n",
      "[CV 3/3] END .......alpha=10, gamma=8, lambda=1;, score=0.700 total time=  29.5s\n",
      "[CV 1/3] END .......alpha=0, gamma=10, lambda=5;, score=0.700 total time=  29.1s\n",
      "[CV 3/3] END .......alpha=0, gamma=10, lambda=5;, score=0.699 total time=  28.6s\n",
      "[CV 2/3] END .......alpha=0, gamma=10, lambda=5;, score=0.714 total time=  29.3s\n",
      "[CV 1/3] END ........alpha=6, gamma=2, lambda=1;, score=0.700 total time=  29.1s\n",
      "[CV 2/3] END ........alpha=6, gamma=2, lambda=1;, score=0.717 total time=  29.0s\n",
      "[CV 3/3] END ........alpha=6, gamma=2, lambda=1;, score=0.703 total time=  29.1s\n",
      "[CV 1/3] END .......alpha=10, gamma=0, lambda=9;, score=0.701 total time=  29.6s\n",
      "[CV 2/3] END .......alpha=10, gamma=0, lambda=9;, score=0.717 total time=  29.5s\n",
      "[CV 3/3] END .......alpha=10, gamma=0, lambda=9;, score=0.703 total time=  29.4s\n",
      "[CV 1/3] END ........alpha=8, gamma=6, lambda=9;, score=0.698 total time=  29.5s\n",
      "[CV 2/3] END ........alpha=8, gamma=6, lambda=9;, score=0.718 total time=  29.4s\n",
      "[CV 3/3] END ........alpha=8, gamma=6, lambda=9;, score=0.702 total time=  29.0s\n",
      "[CV 2/3] END ........alpha=6, gamma=6, lambda=3;, score=0.718 total time=  29.2s\n",
      "[CV 1/3] END ........alpha=6, gamma=6, lambda=3;, score=0.698 total time=  29.8s\n",
      "[CV 3/3] END ........alpha=6, gamma=6, lambda=3;, score=0.702 total time=  29.0s\n",
      "[CV 1/3] END ........alpha=2, gamma=2, lambda=5;, score=0.700 total time=  29.5s\n",
      "[CV 2/3] END ........alpha=2, gamma=2, lambda=5;, score=0.717 total time=  29.1s\n",
      "[CV 1/3] END .......alpha=0, gamma=10, lambda=7;, score=0.700 total time=  29.4s\n",
      "[CV 2/3] END .......alpha=0, gamma=10, lambda=7;, score=0.714 total time=  29.2s\n",
      "[CV 3/3] END ........alpha=2, gamma=2, lambda=5;, score=0.703 total time=  29.6s\n",
      "[CV 3/3] END .......alpha=0, gamma=10, lambda=7;, score=0.699 total time=  28.9s\n",
      "[CV 1/3] END ........alpha=4, gamma=0, lambda=7;, score=0.701 total time=  29.0s\n",
      "[CV 2/3] END ........alpha=4, gamma=0, lambda=7;, score=0.717 total time=  29.0s\n",
      "[CV 3/3] END ........alpha=4, gamma=0, lambda=7;, score=0.703 total time=  29.1s\n",
      "[CV 1/3] END ........alpha=4, gamma=8, lambda=5;, score=0.701 total time=  26.2s\n",
      "[CV 2/3] END ........alpha=4, gamma=8, lambda=5;, score=0.716 total time=  25.8s\n",
      "[CV 1/3] END ........alpha=4, gamma=2, lambda=1;, score=0.700 total time=  25.8s\n",
      "[CV 3/3] END ........alpha=4, gamma=8, lambda=5;, score=0.700 total time=  25.9s\n",
      "[CV 2/3] END ........alpha=4, gamma=2, lambda=1;, score=0.717 total time=  25.5s\n",
      "[CV 3/3] END ........alpha=4, gamma=2, lambda=1;, score=0.703 total time=  25.2s\n"
     ]
    },
    {
     "data": {
      "text/plain": [
       "{'lambda': 5, 'gamma': 0, 'alpha': 2}"
      ]
     },
     "execution_count": 384,
     "metadata": {},
     "output_type": "execute_result"
    }
   ],
   "source": [
    "hyperparameter_grid = {\n",
    "    'alpha': [0, 2, 4, 6, 8, 10],\n",
    "    'gamma': [0, 2, 4, 6, 8, 10],\n",
    "    'lambda': [1, 3, 5, 7, 9],\n",
    "}\n",
    "\n",
    "random_cv = RandomizedSearchCV(\n",
    "    estimator=xgbc,\n",
    "    param_distributions=hyperparameter_grid,\n",
    "    cv=3, n_iter=50,\n",
    "    scoring = 'roc_auc', n_jobs=-1,\n",
    "    verbose = 5, \n",
    "    random_state=SEED\n",
    ")\n",
    "\n",
    "random_cv.fit(x_train ,y_train.popular)\n",
    "random_cv.best_params_"
   ]
  },
  {
   "cell_type": "code",
   "execution_count": 388,
   "metadata": {},
   "outputs": [
    {
     "data": {
      "text/plain": [
       "0.7221223506943724"
      ]
     },
     "execution_count": 388,
     "metadata": {},
     "output_type": "execute_result"
    }
   ],
   "source": [
    "xgbc2 = XGBClassifier(\n",
    "    reg_lambda=5, \n",
    "    gamma=0, \n",
    "    alpha=2,\n",
    "    n_estimators=200,\n",
    "    min_child_weight=100,\n",
    "    max_depth=6,\n",
    "    learning_rate=0.05,\n",
    "    random_state=SEED\n",
    ")\n",
    "\n",
    "fit_and_score(xgbc2, x_train, x_valid, y_train.popular, y_valid.popular)"
   ]
  },
  {
   "cell_type": "markdown",
   "metadata": {},
   "source": [
    "Bajó el score así que me quedo con la iteración 1."
   ]
  },
  {
   "cell_type": "markdown",
   "metadata": {},
   "source": [
    "### Modelo Final -> Score: 0.7221223506943724"
   ]
  },
  {
   "cell_type": "code",
   "execution_count": 390,
   "metadata": {},
   "outputs": [
    {
     "data": {
      "text/plain": [
       "0.7221223506943724"
      ]
     },
     "execution_count": 390,
     "metadata": {},
     "output_type": "execute_result"
    }
   ],
   "source": [
    "from xgboost import XGBClassifier\n",
    "\n",
    "xgbc_final = XGBClassifier(\n",
    "    reg_lambda=5, \n",
    "    gamma=0, \n",
    "    alpha=2,\n",
    "    n_estimators=200,\n",
    "    min_child_weight=100,\n",
    "    max_depth=6,\n",
    "    learning_rate=0.05,\n",
    "    random_state=SEED\n",
    ")\n",
    "fit_and_score(xgbc_final, x_train, x_valid, y_train.popular, y_valid.popular)"
   ]
  },
  {
   "cell_type": "markdown",
   "metadata": {},
   "source": [
    "### Test"
   ]
  },
  {
   "cell_type": "code",
   "execution_count": 52,
   "metadata": {},
   "outputs": [
    {
     "ename": "ValueError",
     "evalue": "Found unknown categories ['sports', 'the world', 'business', 'science/tech'] in column 0 during transform",
     "output_type": "error",
     "traceback": [
      "\u001b[0;31m---------------------------------------------------------------------------\u001b[0m",
      "\u001b[0;31mValueError\u001b[0m                                Traceback (most recent call last)",
      "\u001b[1;32m/Users/ivanlitteri/Projects/datos/tp3/tp3_parte3.ipynb Cell 41'\u001b[0m in \u001b[0;36m<cell line: 11>\u001b[0;34m()\u001b[0m\n\u001b[1;32m      <a href='vscode-notebook-cell:/Users/ivanlitteri/Projects/datos/tp3/tp3_parte3.ipynb#ch0000060?line=7'>8</a>\u001b[0m y_test \u001b[39m=\u001b[39m test[Y_FEATURES]\n\u001b[1;32m     <a href='vscode-notebook-cell:/Users/ivanlitteri/Projects/datos/tp3/tp3_parte3.ipynb#ch0000060?line=9'>10</a>\u001b[0m \u001b[39m# Surprise 1\u001b[39;00m\n\u001b[0;32m---> <a href='vscode-notebook-cell:/Users/ivanlitteri/Projects/datos/tp3/tp3_parte3.ipynb#ch0000060?line=10'>11</a>\u001b[0m encoded_surprise1_test\u001b[39m=\u001b[39m one_hot_encoder\u001b[39m.\u001b[39;49mtransform(x_test[[\u001b[39m'\u001b[39;49m\u001b[39msurprise1\u001b[39;49m\u001b[39m'\u001b[39;49m]])\u001b[39m.\u001b[39mtodense()\u001b[39m.\u001b[39mastype(\u001b[39mint\u001b[39m)\n\u001b[1;32m     <a href='vscode-notebook-cell:/Users/ivanlitteri/Projects/datos/tp3/tp3_parte3.ipynb#ch0000060?line=11'>12</a>\u001b[0m x_test[\u001b[39m'\u001b[39m\u001b[39msurprise1\u001b[39m\u001b[39m'\u001b[39m] \u001b[39m=\u001b[39m encoded_surprise1_test\n\u001b[1;32m     <a href='vscode-notebook-cell:/Users/ivanlitteri/Projects/datos/tp3/tp3_parte3.ipynb#ch0000060?line=13'>14</a>\u001b[0m \u001b[39m# Surprise 2\u001b[39;00m\n",
      "File \u001b[0;32m/opt/homebrew/lib/python3.9/site-packages/sklearn/preprocessing/_encoders.py:882\u001b[0m, in \u001b[0;36mOneHotEncoder.transform\u001b[0;34m(self, X)\u001b[0m\n\u001b[1;32m    877\u001b[0m \u001b[39m# validation of X happens in _check_X called by _transform\u001b[39;00m\n\u001b[1;32m    878\u001b[0m warn_on_unknown \u001b[39m=\u001b[39m \u001b[39mself\u001b[39m\u001b[39m.\u001b[39mdrop \u001b[39mis\u001b[39;00m \u001b[39mnot\u001b[39;00m \u001b[39mNone\u001b[39;00m \u001b[39mand\u001b[39;00m \u001b[39mself\u001b[39m\u001b[39m.\u001b[39mhandle_unknown \u001b[39min\u001b[39;00m {\n\u001b[1;32m    879\u001b[0m     \u001b[39m\"\u001b[39m\u001b[39mignore\u001b[39m\u001b[39m\"\u001b[39m,\n\u001b[1;32m    880\u001b[0m     \u001b[39m\"\u001b[39m\u001b[39minfrequent_if_exist\u001b[39m\u001b[39m\"\u001b[39m,\n\u001b[1;32m    881\u001b[0m }\n\u001b[0;32m--> 882\u001b[0m X_int, X_mask \u001b[39m=\u001b[39m \u001b[39mself\u001b[39;49m\u001b[39m.\u001b[39;49m_transform(\n\u001b[1;32m    883\u001b[0m     X,\n\u001b[1;32m    884\u001b[0m     handle_unknown\u001b[39m=\u001b[39;49m\u001b[39mself\u001b[39;49m\u001b[39m.\u001b[39;49mhandle_unknown,\n\u001b[1;32m    885\u001b[0m     force_all_finite\u001b[39m=\u001b[39;49m\u001b[39m\"\u001b[39;49m\u001b[39mallow-nan\u001b[39;49m\u001b[39m\"\u001b[39;49m,\n\u001b[1;32m    886\u001b[0m     warn_on_unknown\u001b[39m=\u001b[39;49mwarn_on_unknown,\n\u001b[1;32m    887\u001b[0m )\n\u001b[1;32m    888\u001b[0m \u001b[39mself\u001b[39m\u001b[39m.\u001b[39m_map_infrequent_categories(X_int, X_mask)\n\u001b[1;32m    890\u001b[0m n_samples, n_features \u001b[39m=\u001b[39m X_int\u001b[39m.\u001b[39mshape\n",
      "File \u001b[0;32m/opt/homebrew/lib/python3.9/site-packages/sklearn/preprocessing/_encoders.py:160\u001b[0m, in \u001b[0;36m_BaseEncoder._transform\u001b[0;34m(self, X, handle_unknown, force_all_finite, warn_on_unknown)\u001b[0m\n\u001b[1;32m    155\u001b[0m \u001b[39mif\u001b[39;00m handle_unknown \u001b[39m==\u001b[39m \u001b[39m\"\u001b[39m\u001b[39merror\u001b[39m\u001b[39m\"\u001b[39m:\n\u001b[1;32m    156\u001b[0m     msg \u001b[39m=\u001b[39m (\n\u001b[1;32m    157\u001b[0m         \u001b[39m\"\u001b[39m\u001b[39mFound unknown categories \u001b[39m\u001b[39m{0}\u001b[39;00m\u001b[39m in column \u001b[39m\u001b[39m{1}\u001b[39;00m\u001b[39m\"\u001b[39m\n\u001b[1;32m    158\u001b[0m         \u001b[39m\"\u001b[39m\u001b[39m during transform\u001b[39m\u001b[39m\"\u001b[39m\u001b[39m.\u001b[39mformat(diff, i)\n\u001b[1;32m    159\u001b[0m     )\n\u001b[0;32m--> 160\u001b[0m     \u001b[39mraise\u001b[39;00m \u001b[39mValueError\u001b[39;00m(msg)\n\u001b[1;32m    161\u001b[0m \u001b[39melse\u001b[39;00m:\n\u001b[1;32m    162\u001b[0m     \u001b[39mif\u001b[39;00m warn_on_unknown:\n",
      "\u001b[0;31mValueError\u001b[0m: Found unknown categories ['sports', 'the world', 'business', 'science/tech'] in column 0 during transform"
     ]
    }
   ],
   "source": [
    "test = pd.read_parquet('test')\n",
    "\n",
    "test = test \\\n",
    "    .sort_values('timedelta', ascending=False) \\\n",
    "    .drop('timedelta', axis=1) \n",
    "\n",
    "x_test = test[X_FEATURES]\n",
    "y_test = test[Y_FEATURES]\n",
    "\n",
    "# Surprise 1\n",
    "encoded_surprise1_test= one_hot_encoder.transform(x_test[['surprise1']]).todense().astype(int)\n",
    "x_test['surprise1'] = encoded_surprise1_test\n",
    "\n",
    "# Surprise 2\n",
    "x_test['surprise2'] = x_test['surprise2'].map(lambda x: 'unknown' if x == '' else x)\n",
    "encoded_surprise2_valid = multilabel_binarizer.transform(x_test['surprise2'])\n",
    "x_test['surprise2'] = encoded_surprise2_valid\n",
    "\n",
    "encoded_y_test = one_hot_encoder.transform(y_test[['popular']]).todense().astype(int)\n",
    "y_test['popular'] = encoded_y_test\n",
    "\n",
    "# Content\n",
    "x_test['content'] = x_test['content'].fillna('')\n",
    "\n",
    "vectorized_x_test_content = count_vectorizer.transform(x_test['content'].tolist()).toarray()\n",
    "x_test_content_word_count = pd.DataFrame(vectorized_x_test_content, columns=count_vectorizer.get_feature_names())\n",
    "\n",
    "x_test['content'] = vectorized_x_test_content\n",
    "\n",
    "x_test = pd.concat([x_test.reset_index(), x_test_content_word_count.reset_index()], axis=1)\n",
    "\n",
    "# Final touchs\n",
    "x_test = x_test.fillna(0.0)\n",
    "x_test = x_test.drop('index', axis=1)"
   ]
  },
  {
   "cell_type": "code",
   "execution_count": null,
   "metadata": {},
   "outputs": [],
   "source": []
  },
  {
   "cell_type": "markdown",
   "metadata": {},
   "source": [
    "## Model: RandomForestClassifier"
   ]
  },
  {
   "cell_type": "markdown",
   "metadata": {},
   "source": [
    "### Iteraciones"
   ]
  },
  {
   "cell_type": "markdown",
   "metadata": {},
   "source": [
    "#### Baseline -> Score: 0.7071820802719608"
   ]
  },
  {
   "cell_type": "code",
   "execution_count": 391,
   "metadata": {},
   "outputs": [
    {
     "data": {
      "text/plain": [
       "0.7071820802719608"
      ]
     },
     "execution_count": 391,
     "metadata": {},
     "output_type": "execute_result"
    }
   ],
   "source": [
    "from sklearn.ensemble import RandomForestClassifier\n",
    "\n",
    "rfc = RandomForestClassifier(n_jobs=-1, random_state=SEED)\n",
    "fit_and_score(rfc, x_train, x_valid, y_train.popular, y_valid.popular)"
   ]
  },
  {
   "cell_type": "markdown",
   "metadata": {},
   "source": [
    "#### Iterando sobre búsqueda de hiperparámetros"
   ]
  },
  {
   "cell_type": "markdown",
   "metadata": {},
   "source": [
    "##### Iteración 1 -> Score: 0.718374705870142"
   ]
  },
  {
   "cell_type": "code",
   "execution_count": 392,
   "metadata": {},
   "outputs": [
    {
     "name": "stdout",
     "output_type": "stream",
     "text": [
      "Fitting 3 folds for each of 50 candidates, totalling 150 fits\n",
      "[CV 1/3] END bootstrap=False, max_depth=110, min_samples_leaf=4, min_samples_split=2, n_estimators=130;, score=0.700 total time=  12.4s\n",
      "[CV 2/3] END bootstrap=False, max_depth=110, min_samples_leaf=4, min_samples_split=2, n_estimators=130;, score=0.708 total time=  12.8s\n",
      "[CV 3/3] END bootstrap=False, max_depth=110, min_samples_leaf=4, min_samples_split=2, n_estimators=130;, score=0.701 total time=  13.0s\n",
      "[CV 1/3] END bootstrap=False, max_depth=None, min_samples_leaf=2, min_samples_split=2, n_estimators=130;, score=0.695 total time=  14.2s\n",
      "[CV 2/3] END bootstrap=False, max_depth=None, min_samples_leaf=2, min_samples_split=2, n_estimators=130;, score=0.707 total time=  14.6s\n",
      "[CV 1/3] END bootstrap=True, max_depth=100, min_samples_leaf=1, min_samples_split=2, n_estimators=230;, score=0.690 total time=  16.6s\n",
      "[CV 2/3] END bootstrap=True, max_depth=100, min_samples_leaf=1, min_samples_split=2, n_estimators=230;, score=0.707 total time=  16.7s\n",
      "[CV 3/3] END bootstrap=True, max_depth=100, min_samples_leaf=1, min_samples_split=2, n_estimators=230;, score=0.692 total time=  16.9s\n",
      "[CV 3/3] END bootstrap=False, max_depth=None, min_samples_leaf=2, min_samples_split=2, n_estimators=130;, score=0.697 total time=  14.1s\n",
      "[CV 1/3] END bootstrap=False, max_depth=100, min_samples_leaf=4, min_samples_split=5, n_estimators=180;, score=0.702 total time=  18.4s\n",
      "[CV 2/3] END bootstrap=False, max_depth=100, min_samples_leaf=4, min_samples_split=5, n_estimators=180;, score=0.709 total time=  18.5s\n",
      "[CV 3/3] END bootstrap=False, max_depth=100, min_samples_leaf=4, min_samples_split=5, n_estimators=180;, score=0.702 total time=  18.3s\n",
      "[CV 1/3] END bootstrap=False, max_depth=50, min_samples_leaf=4, min_samples_split=10, n_estimators=230;, score=0.701 total time=  23.4s\n",
      "[CV 2/3] END bootstrap=False, max_depth=50, min_samples_leaf=4, min_samples_split=10, n_estimators=230;, score=0.712 total time=  23.6s\n",
      "[CV 3/3] END bootstrap=False, max_depth=50, min_samples_leaf=4, min_samples_split=10, n_estimators=230;, score=0.701 total time=  23.3s\n",
      "[CV 1/3] END bootstrap=False, max_depth=110, min_samples_leaf=4, min_samples_split=2, n_estimators=230;, score=0.702 total time=  23.6s\n",
      "[CV 1/3] END bootstrap=True, max_depth=30, min_samples_leaf=1, min_samples_split=5, n_estimators=130;, score=0.689 total time=  10.0s\n",
      "[CV 2/3] END bootstrap=True, max_depth=30, min_samples_leaf=1, min_samples_split=5, n_estimators=130;, score=0.699 total time=   9.6s\n",
      "[CV 2/3] END bootstrap=False, max_depth=110, min_samples_leaf=4, min_samples_split=2, n_estimators=230;, score=0.710 total time=  24.1s\n",
      "[CV 3/3] END bootstrap=True, max_depth=30, min_samples_leaf=1, min_samples_split=5, n_estimators=130;, score=0.691 total time=  10.0s\n",
      "[CV 3/3] END bootstrap=False, max_depth=110, min_samples_leaf=4, min_samples_split=2, n_estimators=230;, score=0.702 total time=  24.8s\n",
      "[CV 1/3] END bootstrap=True, max_depth=90, min_samples_leaf=4, min_samples_split=2, n_estimators=180;, score=0.698 total time=  13.0s\n",
      "[CV 2/3] END bootstrap=True, max_depth=90, min_samples_leaf=4, min_samples_split=2, n_estimators=180;, score=0.708 total time=  12.4s\n",
      "[CV 2/3] END bootstrap=False, max_depth=None, min_samples_leaf=2, min_samples_split=2, n_estimators=230;, score=0.709 total time=  26.6s\n",
      "[CV 1/3] END bootstrap=False, max_depth=None, min_samples_leaf=2, min_samples_split=2, n_estimators=230;, score=0.698 total time=  27.3s\n",
      "[CV 3/3] END bootstrap=True, max_depth=90, min_samples_leaf=4, min_samples_split=2, n_estimators=180;, score=0.700 total time=  12.4s\n",
      "[CV 3/3] END bootstrap=False, max_depth=None, min_samples_leaf=2, min_samples_split=2, n_estimators=230;, score=0.699 total time=  26.6s\n",
      "[CV 1/3] END bootstrap=True, max_depth=60, min_samples_leaf=1, min_samples_split=10, n_estimators=130;, score=0.693 total time=  10.0s\n",
      "[CV 3/3] END bootstrap=True, max_depth=60, min_samples_leaf=1, min_samples_split=10, n_estimators=130;, score=0.691 total time=  10.2s\n",
      "[CV 2/3] END bootstrap=True, max_depth=60, min_samples_leaf=1, min_samples_split=10, n_estimators=130;, score=0.705 total time=  10.6s\n",
      "[CV 1/3] END bootstrap=False, max_depth=100, min_samples_leaf=1, min_samples_split=2, n_estimators=180;, score=0.694 total time=  22.5s\n",
      "[CV 1/3] END bootstrap=False, max_depth=None, min_samples_leaf=1, min_samples_split=5, n_estimators=130;, score=0.692 total time=  16.6s\n",
      "[CV 2/3] END bootstrap=False, max_depth=None, min_samples_leaf=1, min_samples_split=5, n_estimators=130;, score=0.699 total time=  16.6s\n",
      "[CV 2/3] END bootstrap=False, max_depth=100, min_samples_leaf=1, min_samples_split=2, n_estimators=180;, score=0.704 total time=  22.4s\n",
      "[CV 3/3] END bootstrap=False, max_depth=100, min_samples_leaf=1, min_samples_split=2, n_estimators=180;, score=0.698 total time=  22.9s\n",
      "[CV 3/3] END bootstrap=False, max_depth=None, min_samples_leaf=1, min_samples_split=5, n_estimators=130;, score=0.695 total time=  16.3s\n",
      "[CV 1/3] END bootstrap=False, max_depth=30, min_samples_leaf=4, min_samples_split=5, n_estimators=230;, score=0.702 total time=  26.5s\n",
      "[CV 2/3] END bootstrap=False, max_depth=30, min_samples_leaf=4, min_samples_split=5, n_estimators=230;, score=0.710 total time=  26.3s\n",
      "[CV 3/3] END bootstrap=False, max_depth=30, min_samples_leaf=4, min_samples_split=5, n_estimators=230;, score=0.702 total time=  26.5s\n",
      "[CV 1/3] END bootstrap=False, max_depth=10, min_samples_leaf=2, min_samples_split=2, n_estimators=230;, score=0.701 total time=  18.0s\n",
      "[CV 2/3] END bootstrap=False, max_depth=10, min_samples_leaf=2, min_samples_split=2, n_estimators=230;, score=0.714 total time=  17.6s\n",
      "[CV 2/3] END bootstrap=False, max_depth=110, min_samples_leaf=2, min_samples_split=2, n_estimators=230;, score=0.709 total time=  28.3s\n",
      "[CV 1/3] END bootstrap=False, max_depth=110, min_samples_leaf=2, min_samples_split=2, n_estimators=230;, score=0.698 total time=  28.4s\n",
      "[CV 1/3] END bootstrap=True, max_depth=50, min_samples_leaf=4, min_samples_split=10, n_estimators=130;, score=0.695 total time=   9.6s\n",
      "[CV 3/3] END bootstrap=False, max_depth=110, min_samples_leaf=2, min_samples_split=2, n_estimators=230;, score=0.699 total time=  28.2s\n",
      "[CV 2/3] END bootstrap=True, max_depth=50, min_samples_leaf=4, min_samples_split=10, n_estimators=130;, score=0.708 total time=   9.4s\n",
      "[CV 3/3] END bootstrap=True, max_depth=50, min_samples_leaf=4, min_samples_split=10, n_estimators=130;, score=0.699 total time=   9.3s\n",
      "[CV 3/3] END bootstrap=False, max_depth=10, min_samples_leaf=2, min_samples_split=2, n_estimators=230;, score=0.700 total time=  17.9s\n",
      "[CV 1/3] END bootstrap=False, max_depth=40, min_samples_leaf=2, min_samples_split=2, n_estimators=130;, score=0.695 total time=  16.7s\n",
      "[CV 1/3] END bootstrap=False, max_depth=50, min_samples_leaf=1, min_samples_split=2, n_estimators=180;, score=0.694 total time=  23.9s\n",
      "[CV 1/3] END bootstrap=True, max_depth=90, min_samples_leaf=1, min_samples_split=5, n_estimators=230;, score=0.695 total time=  19.3s\n",
      "[CV 2/3] END bootstrap=True, max_depth=90, min_samples_leaf=1, min_samples_split=5, n_estimators=230;, score=0.701 total time=  19.5s\n",
      "[CV 3/3] END bootstrap=True, max_depth=90, min_samples_leaf=1, min_samples_split=5, n_estimators=230;, score=0.694 total time=  19.1s\n",
      "[CV 2/3] END bootstrap=False, max_depth=50, min_samples_leaf=1, min_samples_split=2, n_estimators=180;, score=0.704 total time=  23.6s\n",
      "[CV 3/3] END bootstrap=False, max_depth=50, min_samples_leaf=1, min_samples_split=2, n_estimators=180;, score=0.698 total time=  24.3s\n",
      "[CV 2/3] END bootstrap=False, max_depth=40, min_samples_leaf=2, min_samples_split=2, n_estimators=130;, score=0.707 total time=  16.5s\n",
      "[CV 3/3] END bootstrap=False, max_depth=40, min_samples_leaf=2, min_samples_split=2, n_estimators=130;, score=0.697 total time=  16.4s\n",
      "[CV 1/3] END bootstrap=False, max_depth=100, min_samples_leaf=2, min_samples_split=10, n_estimators=130;, score=0.699 total time=  16.4s\n",
      "[CV 2/3] END bootstrap=False, max_depth=100, min_samples_leaf=2, min_samples_split=10, n_estimators=130;, score=0.708 total time=  16.4s\n",
      "[CV 3/3] END bootstrap=False, max_depth=100, min_samples_leaf=2, min_samples_split=10, n_estimators=130;, score=0.700 total time=  16.2s\n",
      "[CV 1/3] END bootstrap=False, max_depth=20, min_samples_leaf=1, min_samples_split=5, n_estimators=180;, score=0.699 total time=  22.6s\n",
      "[CV 1/3] END bootstrap=False, max_depth=60, min_samples_leaf=1, min_samples_split=5, n_estimators=230;, score=0.694 total time=  30.6s\n",
      "[CV 1/3] END bootstrap=True, max_depth=100, min_samples_leaf=1, min_samples_split=10, n_estimators=130;, score=0.693 total time=  11.0s\n",
      "[CV 3/3] END bootstrap=False, max_depth=60, min_samples_leaf=1, min_samples_split=5, n_estimators=230;, score=0.697 total time=  30.3s\n",
      "[CV 2/3] END bootstrap=False, max_depth=60, min_samples_leaf=1, min_samples_split=5, n_estimators=230;, score=0.705 total time=  30.9s\n",
      "[CV 2/3] END bootstrap=True, max_depth=100, min_samples_leaf=1, min_samples_split=10, n_estimators=130;, score=0.705 total time=  10.8s\n",
      "[CV 2/3] END bootstrap=False, max_depth=20, min_samples_leaf=1, min_samples_split=5, n_estimators=180;, score=0.703 total time=  22.4s\n",
      "[CV 3/3] END bootstrap=True, max_depth=100, min_samples_leaf=1, min_samples_split=10, n_estimators=130;, score=0.691 total time=  10.6s\n",
      "[CV 3/3] END bootstrap=False, max_depth=20, min_samples_leaf=1, min_samples_split=5, n_estimators=180;, score=0.698 total time=  22.5s\n",
      "[CV 1/3] END bootstrap=True, max_depth=None, min_samples_leaf=4, min_samples_split=5, n_estimators=230;, score=0.699 total time=  17.7s\n",
      "[CV 2/3] END bootstrap=True, max_depth=None, min_samples_leaf=4, min_samples_split=5, n_estimators=230;, score=0.710 total time=  17.7s\n",
      "[CV 3/3] END bootstrap=True, max_depth=None, min_samples_leaf=4, min_samples_split=5, n_estimators=230;, score=0.699 total time=  17.7s\n",
      "[CV 1/3] END bootstrap=False, max_depth=10, min_samples_leaf=4, min_samples_split=2, n_estimators=180;, score=0.702 total time=  14.3s\n",
      "[CV 2/3] END bootstrap=False, max_depth=10, min_samples_leaf=4, min_samples_split=2, n_estimators=180;, score=0.712 total time=  14.3s\n",
      "[CV 2/3] END bootstrap=False, max_depth=60, min_samples_leaf=1, min_samples_split=10, n_estimators=180;, score=0.706 total time=  23.8s\n",
      "[CV 1/3] END bootstrap=False, max_depth=60, min_samples_leaf=1, min_samples_split=10, n_estimators=180;, score=0.695 total time=  24.0s\n",
      "[CV 3/3] END bootstrap=False, max_depth=60, min_samples_leaf=1, min_samples_split=10, n_estimators=180;, score=0.694 total time=  23.7s\n",
      "[CV 3/3] END bootstrap=False, max_depth=10, min_samples_leaf=4, min_samples_split=2, n_estimators=180;, score=0.700 total time=  14.1s\n",
      "[CV 2/3] END bootstrap=False, max_depth=70, min_samples_leaf=1, min_samples_split=10, n_estimators=130;, score=0.704 total time=  17.3s\n",
      "[CV 1/3] END bootstrap=False, max_depth=70, min_samples_leaf=1, min_samples_split=10, n_estimators=130;, score=0.693 total time=  17.6s\n",
      "[CV 1/3] END bootstrap=False, max_depth=30, min_samples_leaf=4, min_samples_split=2, n_estimators=130;, score=0.701 total time=  16.2s\n",
      "[CV 3/3] END bootstrap=False, max_depth=70, min_samples_leaf=1, min_samples_split=10, n_estimators=130;, score=0.694 total time=  17.4s\n",
      "[CV 3/3] END bootstrap=False, max_depth=30, min_samples_leaf=4, min_samples_split=2, n_estimators=130;, score=0.700 total time=  16.0s\n",
      "[CV 2/3] END bootstrap=False, max_depth=30, min_samples_leaf=4, min_samples_split=2, n_estimators=130;, score=0.709 total time=  16.1s\n",
      "[CV 1/3] END bootstrap=False, max_depth=None, min_samples_leaf=4, min_samples_split=10, n_estimators=130;, score=0.698 total time=  15.7s\n",
      "[CV 2/3] END bootstrap=False, max_depth=None, min_samples_leaf=4, min_samples_split=10, n_estimators=130;, score=0.711 total time=  15.6s\n",
      "[CV 1/3] END bootstrap=False, max_depth=30, min_samples_leaf=1, min_samples_split=5, n_estimators=180;, score=0.694 total time=  24.5s\n",
      "[CV 3/3] END bootstrap=False, max_depth=None, min_samples_leaf=4, min_samples_split=10, n_estimators=130;, score=0.699 total time=  15.4s\n",
      "[CV 2/3] END bootstrap=True, max_depth=50, min_samples_leaf=1, min_samples_split=10, n_estimators=180;, score=0.706 total time=  15.0s\n",
      "[CV 1/3] END bootstrap=True, max_depth=50, min_samples_leaf=1, min_samples_split=10, n_estimators=180;, score=0.695 total time=  15.2s\n",
      "[CV 2/3] END bootstrap=False, max_depth=30, min_samples_leaf=1, min_samples_split=5, n_estimators=180;, score=0.703 total time=  24.0s\n",
      "[CV 3/3] END bootstrap=False, max_depth=30, min_samples_leaf=1, min_samples_split=5, n_estimators=180;, score=0.694 total time=  23.9s\n",
      "[CV 3/3] END bootstrap=True, max_depth=50, min_samples_leaf=1, min_samples_split=10, n_estimators=180;, score=0.692 total time=  14.7s\n",
      "[CV 3/3] END bootstrap=True, max_depth=60, min_samples_leaf=1, min_samples_split=5, n_estimators=230;, score=0.694 total time=  19.7s\n",
      "[CV 1/3] END bootstrap=True, max_depth=60, min_samples_leaf=1, min_samples_split=5, n_estimators=230;, score=0.695 total time=  20.0s\n",
      "[CV 2/3] END bootstrap=True, max_depth=60, min_samples_leaf=1, min_samples_split=5, n_estimators=230;, score=0.701 total time=  20.1s\n",
      "[CV 2/3] END bootstrap=False, max_depth=90, min_samples_leaf=4, min_samples_split=2, n_estimators=230;, score=0.710 total time=  27.8s\n",
      "[CV 1/3] END bootstrap=False, max_depth=90, min_samples_leaf=4, min_samples_split=2, n_estimators=230;, score=0.702 total time=  28.0s\n",
      "[CV 3/3] END bootstrap=False, max_depth=90, min_samples_leaf=4, min_samples_split=2, n_estimators=230;, score=0.702 total time=  27.9s\n",
      "[CV 2/3] END bootstrap=True, max_depth=None, min_samples_leaf=1, min_samples_split=2, n_estimators=130;, score=0.704 total time=  11.1s\n",
      "[CV 1/3] END bootstrap=True, max_depth=None, min_samples_leaf=1, min_samples_split=2, n_estimators=130;, score=0.686 total time=  11.4s\n",
      "[CV 1/3] END bootstrap=False, max_depth=30, min_samples_leaf=1, min_samples_split=5, n_estimators=230;, score=0.695 total time=  31.5s\n",
      "[CV 3/3] END bootstrap=True, max_depth=None, min_samples_leaf=1, min_samples_split=2, n_estimators=130;, score=0.690 total time=  11.2s\n",
      "[CV 2/3] END bootstrap=False, max_depth=30, min_samples_leaf=1, min_samples_split=5, n_estimators=230;, score=0.704 total time=  30.8s\n",
      "[CV 1/3] END bootstrap=True, max_depth=100, min_samples_leaf=4, min_samples_split=2, n_estimators=180;, score=0.698 total time=  13.8s\n",
      "[CV 2/3] END bootstrap=True, max_depth=100, min_samples_leaf=4, min_samples_split=2, n_estimators=180;, score=0.708 total time=  14.0s\n",
      "[CV 3/3] END bootstrap=True, max_depth=100, min_samples_leaf=4, min_samples_split=2, n_estimators=180;, score=0.700 total time=  13.6s\n",
      "[CV 1/3] END bootstrap=False, max_depth=30, min_samples_leaf=1, min_samples_split=10, n_estimators=130;, score=0.695 total time=  17.5s\n",
      "[CV 3/3] END bootstrap=False, max_depth=30, min_samples_leaf=1, min_samples_split=5, n_estimators=230;, score=0.695 total time=  30.4s\n",
      "[CV 2/3] END bootstrap=False, max_depth=30, min_samples_leaf=1, min_samples_split=10, n_estimators=130;, score=0.704 total time=  17.7s\n",
      "[CV 3/3] END bootstrap=False, max_depth=30, min_samples_leaf=1, min_samples_split=10, n_estimators=130;, score=0.694 total time=  17.0s\n",
      "[CV 1/3] END bootstrap=True, max_depth=None, min_samples_leaf=4, min_samples_split=2, n_estimators=180;, score=0.698 total time=  14.2s\n",
      "[CV 2/3] END bootstrap=True, max_depth=None, min_samples_leaf=4, min_samples_split=2, n_estimators=180;, score=0.708 total time=  13.7s\n",
      "[CV 1/3] END bootstrap=False, max_depth=20, min_samples_leaf=4, min_samples_split=2, n_estimators=180;, score=0.701 total time=  21.1s\n",
      "[CV 2/3] END bootstrap=False, max_depth=20, min_samples_leaf=4, min_samples_split=2, n_estimators=180;, score=0.711 total time=  21.3s\n",
      "[CV 3/3] END bootstrap=False, max_depth=20, min_samples_leaf=4, min_samples_split=2, n_estimators=180;, score=0.701 total time=  21.0s\n",
      "[CV 3/3] END bootstrap=True, max_depth=None, min_samples_leaf=4, min_samples_split=2, n_estimators=180;, score=0.700 total time=  13.7s\n",
      "[CV 1/3] END bootstrap=True, max_depth=None, min_samples_leaf=1, min_samples_split=10, n_estimators=230;, score=0.696 total time=  19.7s\n",
      "[CV 2/3] END bootstrap=True, max_depth=None, min_samples_leaf=1, min_samples_split=10, n_estimators=230;, score=0.707 total time=  19.4s\n",
      "[CV 3/3] END bootstrap=True, max_depth=None, min_samples_leaf=1, min_samples_split=10, n_estimators=230;, score=0.693 total time=  20.0s\n",
      "[CV 1/3] END bootstrap=True, max_depth=90, min_samples_leaf=4, min_samples_split=5, n_estimators=230;, score=0.699 total time=  18.4s\n",
      "[CV 2/3] END bootstrap=True, max_depth=90, min_samples_leaf=4, min_samples_split=5, n_estimators=230;, score=0.710 total time=  18.1s\n",
      "[CV 2/3] END bootstrap=False, max_depth=90, min_samples_leaf=4, min_samples_split=5, n_estimators=180;, score=0.709 total time=  22.1s\n",
      "[CV 1/3] END bootstrap=False, max_depth=90, min_samples_leaf=4, min_samples_split=5, n_estimators=180;, score=0.702 total time=  22.4s\n",
      "[CV 3/3] END bootstrap=False, max_depth=90, min_samples_leaf=4, min_samples_split=5, n_estimators=180;, score=0.702 total time=  21.9s\n",
      "[CV 3/3] END bootstrap=True, max_depth=90, min_samples_leaf=4, min_samples_split=5, n_estimators=230;, score=0.699 total time=  18.0s\n",
      "[CV 1/3] END bootstrap=False, max_depth=30, min_samples_leaf=4, min_samples_split=10, n_estimators=180;, score=0.702 total time=  22.0s\n",
      "[CV 1/3] END bootstrap=True, max_depth=None, min_samples_leaf=4, min_samples_split=5, n_estimators=180;, score=0.698 total time=  14.1s\n",
      "[CV 2/3] END bootstrap=False, max_depth=30, min_samples_leaf=4, min_samples_split=10, n_estimators=180;, score=0.712 total time=  21.7s\n",
      "[CV 3/3] END bootstrap=False, max_depth=30, min_samples_leaf=4, min_samples_split=10, n_estimators=180;, score=0.700 total time=  21.5s\n",
      "[CV 2/3] END bootstrap=True, max_depth=None, min_samples_leaf=4, min_samples_split=5, n_estimators=180;, score=0.708 total time=  14.0s\n",
      "[CV 1/3] END bootstrap=False, max_depth=None, min_samples_leaf=2, min_samples_split=10, n_estimators=180;, score=0.700 total time=  23.2s\n",
      "[CV 2/3] END bootstrap=False, max_depth=None, min_samples_leaf=2, min_samples_split=10, n_estimators=180;, score=0.710 total time=  22.4s\n",
      "[CV 3/3] END bootstrap=False, max_depth=None, min_samples_leaf=2, min_samples_split=10, n_estimators=180;, score=0.701 total time=  22.6s\n",
      "[CV 1/3] END bootstrap=True, max_depth=None, min_samples_leaf=2, min_samples_split=2, n_estimators=130;, score=0.698 total time=  10.7s\n",
      "[CV 2/3] END bootstrap=True, max_depth=None, min_samples_leaf=2, min_samples_split=2, n_estimators=130;, score=0.704 total time=  10.6s\n",
      "[CV 3/3] END bootstrap=True, max_depth=None, min_samples_leaf=4, min_samples_split=5, n_estimators=180;, score=0.700 total time=  13.9s\n",
      "[CV 3/3] END bootstrap=True, max_depth=None, min_samples_leaf=2, min_samples_split=2, n_estimators=130;, score=0.690 total time=  10.5s\n",
      "[CV 1/3] END bootstrap=True, max_depth=80, min_samples_leaf=1, min_samples_split=2, n_estimators=230;, score=0.690 total time=  20.8s\n",
      "[CV 2/3] END bootstrap=True, max_depth=80, min_samples_leaf=1, min_samples_split=2, n_estimators=230;, score=0.707 total time=  19.8s\n",
      "[CV 3/3] END bootstrap=True, max_depth=80, min_samples_leaf=1, min_samples_split=2, n_estimators=230;, score=0.692 total time=  20.0s\n",
      "[CV 2/3] END bootstrap=False, max_depth=None, min_samples_leaf=4, min_samples_split=2, n_estimators=230;, score=0.710 total time=  28.0s\n",
      "[CV 1/3] END bootstrap=False, max_depth=None, min_samples_leaf=4, min_samples_split=2, n_estimators=230;, score=0.702 total time=  28.1s\n",
      "[CV 1/3] END bootstrap=False, max_depth=90, min_samples_leaf=4, min_samples_split=2, n_estimators=180;, score=0.702 total time=  22.1s\n",
      "[CV 3/3] END bootstrap=False, max_depth=None, min_samples_leaf=4, min_samples_split=2, n_estimators=230;, score=0.702 total time=  27.3s\n",
      "[CV 2/3] END bootstrap=False, max_depth=90, min_samples_leaf=4, min_samples_split=2, n_estimators=180;, score=0.709 total time=  21.3s\n",
      "[CV 3/3] END bootstrap=False, max_depth=90, min_samples_leaf=4, min_samples_split=2, n_estimators=180;, score=0.702 total time=  13.7s\n",
      "[CV 1/3] END bootstrap=False, max_depth=80, min_samples_leaf=4, min_samples_split=5, n_estimators=230;, score=0.702 total time=  15.2s\n",
      "[CV 2/3] END bootstrap=False, max_depth=80, min_samples_leaf=4, min_samples_split=5, n_estimators=230;, score=0.710 total time=  14.1s\n",
      "[CV 3/3] END bootstrap=False, max_depth=80, min_samples_leaf=4, min_samples_split=5, n_estimators=230;, score=0.702 total time=  12.6s\n"
     ]
    },
    {
     "data": {
      "text/plain": [
       "{'n_estimators': 230,\n",
       " 'min_samples_split': 2,\n",
       " 'min_samples_leaf': 2,\n",
       " 'max_depth': 10,\n",
       " 'bootstrap': False}"
      ]
     },
     "execution_count": 392,
     "metadata": {},
     "output_type": "execute_result"
    }
   ],
   "source": [
    "import numpy as np\n",
    "from sklearn.model_selection import RandomizedSearchCV\n",
    "\n",
    "rfc_hyperparameters = {\n",
    "    'bootstrap': [True, False],\n",
    "    'max_depth': [10, 20, 30, 40, 50, 60, 70, 80, 90, 100, 110, None],\n",
    "    'min_samples_leaf': [1, 2, 4],\n",
    "    'min_samples_split': [2, 5, 10],\n",
    "    'n_estimators': [130, 180, 230]\n",
    "}\n",
    "\n",
    "rscv = RandomizedSearchCV(\n",
    "    estimator=rfc,\n",
    "    param_distributions=rfc_hyperparameters,\n",
    "    cv=3, n_iter=50,\n",
    "    scoring = 'roc_auc', n_jobs=-1,\n",
    "    verbose = 5, \n",
    "    random_state=SEED\n",
    ")\n",
    "\n",
    "rscv.fit(x_train ,y_train.popular)\n",
    "rscv.best_params_"
   ]
  },
  {
   "cell_type": "code",
   "execution_count": 394,
   "metadata": {},
   "outputs": [
    {
     "data": {
      "text/plain": [
       "0.718374705870142"
      ]
     },
     "execution_count": 394,
     "metadata": {},
     "output_type": "execute_result"
    }
   ],
   "source": [
    "rfc2 = RandomForestClassifier(\n",
    "    n_estimators=230,\n",
    "    min_samples_split=2,\n",
    "    min_samples_leaf=2,\n",
    "    max_depth=10,\n",
    "    bootstrap=False,\n",
    "    random_state=SEED\n",
    ")\n",
    "fit_and_score(rfc2, x_train, x_valid, y_train.popular, y_valid.popular)"
   ]
  },
  {
   "cell_type": "markdown",
   "metadata": {},
   "source": [
    "##### Iteración 2 -> Score: 0.718374705870142"
   ]
  },
  {
   "cell_type": "code",
   "execution_count": 395,
   "metadata": {},
   "outputs": [
    {
     "name": "stdout",
     "output_type": "stream",
     "text": [
      "Fitting 3 folds for each of 50 candidates, totalling 150 fits\n",
      "[CV 3/3] END bootstrap=False, max_depth=110, min_samples_leaf=4, min_samples_split=2, n_estimators=130;, score=0.701 total time=  13.5s\n",
      "[CV 2/3] END bootstrap=False, max_depth=110, min_samples_leaf=4, min_samples_split=2, n_estimators=130;, score=0.708 total time=  13.5s\n",
      "[CV 1/3] END bootstrap=False, max_depth=110, min_samples_leaf=4, min_samples_split=2, n_estimators=130;, score=0.700 total time=  13.6s\n",
      "[CV 2/3] END bootstrap=False, max_depth=None, min_samples_leaf=2, min_samples_split=2, n_estimators=130;, score=0.707 total time=  14.6s\n",
      "[CV 1/3] END bootstrap=False, max_depth=None, min_samples_leaf=2, min_samples_split=2, n_estimators=130;, score=0.695 total time=  14.6s\n",
      "[CV 3/3] END bootstrap=True, max_depth=100, min_samples_leaf=1, min_samples_split=2, n_estimators=230;, score=0.692 total time=  17.2s\n",
      "[CV 2/3] END bootstrap=True, max_depth=100, min_samples_leaf=1, min_samples_split=2, n_estimators=230;, score=0.707 total time=  17.3s\n",
      "[CV 1/3] END bootstrap=True, max_depth=100, min_samples_leaf=1, min_samples_split=2, n_estimators=230;, score=0.690 total time=  17.6s\n",
      "[CV 3/3] END bootstrap=False, max_depth=None, min_samples_leaf=2, min_samples_split=2, n_estimators=130;, score=0.697 total time=  15.5s\n",
      "[CV 1/3] END bootstrap=False, max_depth=100, min_samples_leaf=4, min_samples_split=5, n_estimators=180;, score=0.702 total time=  20.4s\n",
      "[CV 3/3] END bootstrap=False, max_depth=100, min_samples_leaf=4, min_samples_split=5, n_estimators=180;, score=0.702 total time=  20.4s\n",
      "[CV 2/3] END bootstrap=False, max_depth=100, min_samples_leaf=4, min_samples_split=5, n_estimators=180;, score=0.709 total time=  20.4s\n",
      "[CV 1/3] END bootstrap=False, max_depth=50, min_samples_leaf=4, min_samples_split=10, n_estimators=230;, score=0.701 total time=  25.8s\n",
      "[CV 2/3] END bootstrap=False, max_depth=50, min_samples_leaf=4, min_samples_split=10, n_estimators=230;, score=0.712 total time=  25.8s\n",
      "[CV 3/3] END bootstrap=False, max_depth=50, min_samples_leaf=4, min_samples_split=10, n_estimators=230;, score=0.701 total time=  25.8s\n",
      "[CV 1/3] END bootstrap=False, max_depth=110, min_samples_leaf=4, min_samples_split=2, n_estimators=230;, score=0.702 total time=  26.4s\n",
      "[CV 1/3] END bootstrap=True, max_depth=30, min_samples_leaf=1, min_samples_split=5, n_estimators=130;, score=0.689 total time=  11.1s\n",
      "[CV 2/3] END bootstrap=True, max_depth=30, min_samples_leaf=1, min_samples_split=5, n_estimators=130;, score=0.699 total time=  11.1s\n",
      "[CV 3/3] END bootstrap=True, max_depth=30, min_samples_leaf=1, min_samples_split=5, n_estimators=130;, score=0.691 total time=  10.9s\n",
      "[CV 2/3] END bootstrap=False, max_depth=110, min_samples_leaf=4, min_samples_split=2, n_estimators=230;, score=0.710 total time=  27.2s\n",
      "[CV 3/3] END bootstrap=False, max_depth=110, min_samples_leaf=4, min_samples_split=2, n_estimators=230;, score=0.702 total time=  26.9s\n",
      "[CV 1/3] END bootstrap=True, max_depth=90, min_samples_leaf=4, min_samples_split=2, n_estimators=180;, score=0.698 total time=  13.9s\n",
      "[CV 2/3] END bootstrap=True, max_depth=90, min_samples_leaf=4, min_samples_split=2, n_estimators=180;, score=0.708 total time=  14.0s\n",
      "[CV 2/3] END bootstrap=False, max_depth=None, min_samples_leaf=2, min_samples_split=2, n_estimators=230;, score=0.709 total time=  29.4s\n",
      "[CV 1/3] END bootstrap=False, max_depth=None, min_samples_leaf=2, min_samples_split=2, n_estimators=230;, score=0.698 total time=  30.1s\n",
      "[CV 3/3] END bootstrap=False, max_depth=None, min_samples_leaf=2, min_samples_split=2, n_estimators=230;, score=0.699 total time=  29.1s\n",
      "[CV 3/3] END bootstrap=True, max_depth=90, min_samples_leaf=4, min_samples_split=2, n_estimators=180;, score=0.700 total time=  13.8s\n",
      "[CV 1/3] END bootstrap=True, max_depth=60, min_samples_leaf=1, min_samples_split=10, n_estimators=130;, score=0.693 total time=  11.1s\n",
      "[CV 2/3] END bootstrap=True, max_depth=60, min_samples_leaf=1, min_samples_split=10, n_estimators=130;, score=0.705 total time=  11.3s\n",
      "[CV 3/3] END bootstrap=True, max_depth=60, min_samples_leaf=1, min_samples_split=10, n_estimators=130;, score=0.691 total time=  11.1s\n",
      "[CV 1/3] END bootstrap=False, max_depth=100, min_samples_leaf=1, min_samples_split=2, n_estimators=180;, score=0.694 total time=  24.8s\n",
      "[CV 1/3] END bootstrap=False, max_depth=None, min_samples_leaf=1, min_samples_split=5, n_estimators=130;, score=0.692 total time=  17.6s\n",
      "[CV 2/3] END bootstrap=False, max_depth=100, min_samples_leaf=1, min_samples_split=2, n_estimators=180;, score=0.704 total time=  24.6s\n",
      "[CV 2/3] END bootstrap=False, max_depth=None, min_samples_leaf=1, min_samples_split=5, n_estimators=130;, score=0.699 total time=  17.8s\n",
      "[CV 3/3] END bootstrap=False, max_depth=100, min_samples_leaf=1, min_samples_split=2, n_estimators=180;, score=0.698 total time=  24.4s\n",
      "[CV 3/3] END bootstrap=False, max_depth=None, min_samples_leaf=1, min_samples_split=5, n_estimators=130;, score=0.695 total time=  18.4s\n",
      "[CV 1/3] END bootstrap=False, max_depth=30, min_samples_leaf=4, min_samples_split=5, n_estimators=230;, score=0.702 total time=  28.5s\n",
      "[CV 2/3] END bootstrap=False, max_depth=30, min_samples_leaf=4, min_samples_split=5, n_estimators=230;, score=0.710 total time=  28.6s\n",
      "[CV 1/3] END bootstrap=False, max_depth=10, min_samples_leaf=2, min_samples_split=2, n_estimators=230;, score=0.701 total time=  19.2s\n",
      "[CV 3/3] END bootstrap=False, max_depth=30, min_samples_leaf=4, min_samples_split=5, n_estimators=230;, score=0.702 total time=  28.1s\n",
      "[CV 2/3] END bootstrap=False, max_depth=10, min_samples_leaf=2, min_samples_split=2, n_estimators=230;, score=0.714 total time=  18.8s\n",
      "[CV 1/3] END bootstrap=False, max_depth=110, min_samples_leaf=2, min_samples_split=2, n_estimators=230;, score=0.698 total time=  30.8s\n",
      "[CV 2/3] END bootstrap=False, max_depth=110, min_samples_leaf=2, min_samples_split=2, n_estimators=230;, score=0.709 total time=  30.6s\n",
      "[CV 3/3] END bootstrap=False, max_depth=110, min_samples_leaf=2, min_samples_split=2, n_estimators=230;, score=0.699 total time=  30.6s\n",
      "[CV 2/3] END bootstrap=True, max_depth=50, min_samples_leaf=4, min_samples_split=10, n_estimators=130;, score=0.708 total time=  10.0s\n",
      "[CV 1/3] END bootstrap=True, max_depth=50, min_samples_leaf=4, min_samples_split=10, n_estimators=130;, score=0.695 total time=  10.6s\n",
      "[CV 3/3] END bootstrap=True, max_depth=50, min_samples_leaf=4, min_samples_split=10, n_estimators=130;, score=0.699 total time=  10.0s\n",
      "[CV 3/3] END bootstrap=False, max_depth=10, min_samples_leaf=2, min_samples_split=2, n_estimators=230;, score=0.700 total time=  19.2s\n",
      "[CV 1/3] END bootstrap=False, max_depth=40, min_samples_leaf=2, min_samples_split=2, n_estimators=130;, score=0.695 total time=  17.8s\n",
      "[CV 1/3] END bootstrap=True, max_depth=90, min_samples_leaf=1, min_samples_split=5, n_estimators=230;, score=0.695 total time=  20.8s\n",
      "[CV 3/3] END bootstrap=True, max_depth=90, min_samples_leaf=1, min_samples_split=5, n_estimators=230;, score=0.694 total time=  20.1s\n",
      "[CV 2/3] END bootstrap=True, max_depth=90, min_samples_leaf=1, min_samples_split=5, n_estimators=230;, score=0.701 total time=  20.7s\n",
      "[CV 1/3] END bootstrap=False, max_depth=50, min_samples_leaf=1, min_samples_split=2, n_estimators=180;, score=0.694 total time=  25.8s\n",
      "[CV 2/3] END bootstrap=False, max_depth=50, min_samples_leaf=1, min_samples_split=2, n_estimators=180;, score=0.704 total time=  24.9s\n",
      "[CV 3/3] END bootstrap=False, max_depth=50, min_samples_leaf=1, min_samples_split=2, n_estimators=180;, score=0.698 total time=  25.5s\n",
      "[CV 2/3] END bootstrap=False, max_depth=40, min_samples_leaf=2, min_samples_split=2, n_estimators=130;, score=0.707 total time=  17.8s\n",
      "[CV 3/3] END bootstrap=False, max_depth=40, min_samples_leaf=2, min_samples_split=2, n_estimators=130;, score=0.697 total time=  17.4s\n",
      "[CV 1/3] END bootstrap=False, max_depth=100, min_samples_leaf=2, min_samples_split=10, n_estimators=130;, score=0.699 total time=  17.2s\n",
      "[CV 2/3] END bootstrap=False, max_depth=100, min_samples_leaf=2, min_samples_split=10, n_estimators=130;, score=0.708 total time=  17.4s\n",
      "[CV 3/3] END bootstrap=False, max_depth=100, min_samples_leaf=2, min_samples_split=10, n_estimators=130;, score=0.700 total time=  17.4s\n",
      "[CV 1/3] END bootstrap=False, max_depth=20, min_samples_leaf=1, min_samples_split=5, n_estimators=180;, score=0.699 total time=  24.0s\n",
      "[CV 1/3] END bootstrap=True, max_depth=100, min_samples_leaf=1, min_samples_split=10, n_estimators=130;, score=0.693 total time=  11.6s\n",
      "[CV 3/3] END bootstrap=False, max_depth=60, min_samples_leaf=1, min_samples_split=5, n_estimators=230;, score=0.697 total time=  31.9s\n",
      "[CV 2/3] END bootstrap=False, max_depth=60, min_samples_leaf=1, min_samples_split=5, n_estimators=230;, score=0.705 total time=  32.7s\n",
      "[CV 1/3] END bootstrap=False, max_depth=60, min_samples_leaf=1, min_samples_split=5, n_estimators=230;, score=0.694 total time=  32.9s\n",
      "[CV 2/3] END bootstrap=True, max_depth=100, min_samples_leaf=1, min_samples_split=10, n_estimators=130;, score=0.705 total time=  12.0s\n",
      "[CV 2/3] END bootstrap=False, max_depth=20, min_samples_leaf=1, min_samples_split=5, n_estimators=180;, score=0.703 total time=  23.9s\n",
      "[CV 3/3] END bootstrap=True, max_depth=100, min_samples_leaf=1, min_samples_split=10, n_estimators=130;, score=0.691 total time=  11.5s\n",
      "[CV 3/3] END bootstrap=False, max_depth=20, min_samples_leaf=1, min_samples_split=5, n_estimators=180;, score=0.698 total time=  24.2s\n",
      "[CV 3/3] END bootstrap=True, max_depth=None, min_samples_leaf=4, min_samples_split=5, n_estimators=230;, score=0.699 total time=  18.3s\n",
      "[CV 2/3] END bootstrap=True, max_depth=None, min_samples_leaf=4, min_samples_split=5, n_estimators=230;, score=0.710 total time=  18.6s\n",
      "[CV 1/3] END bootstrap=True, max_depth=None, min_samples_leaf=4, min_samples_split=5, n_estimators=230;, score=0.699 total time=  18.8s\n",
      "[CV 1/3] END bootstrap=False, max_depth=10, min_samples_leaf=4, min_samples_split=2, n_estimators=180;, score=0.702 total time=  14.8s\n",
      "[CV 2/3] END bootstrap=False, max_depth=10, min_samples_leaf=4, min_samples_split=2, n_estimators=180;, score=0.712 total time=  14.8s\n",
      "[CV 1/3] END bootstrap=False, max_depth=60, min_samples_leaf=1, min_samples_split=10, n_estimators=180;, score=0.695 total time=  25.7s\n",
      "[CV 2/3] END bootstrap=False, max_depth=60, min_samples_leaf=1, min_samples_split=10, n_estimators=180;, score=0.706 total time=  25.2s\n",
      "[CV 3/3] END bootstrap=False, max_depth=60, min_samples_leaf=1, min_samples_split=10, n_estimators=180;, score=0.694 total time=  24.9s\n",
      "[CV 3/3] END bootstrap=False, max_depth=10, min_samples_leaf=4, min_samples_split=2, n_estimators=180;, score=0.700 total time=  14.9s\n",
      "[CV 1/3] END bootstrap=False, max_depth=70, min_samples_leaf=1, min_samples_split=10, n_estimators=130;, score=0.693 total time=  18.3s\n",
      "[CV 2/3] END bootstrap=False, max_depth=70, min_samples_leaf=1, min_samples_split=10, n_estimators=130;, score=0.704 total time=  18.2s\n",
      "[CV 1/3] END bootstrap=False, max_depth=30, min_samples_leaf=4, min_samples_split=2, n_estimators=130;, score=0.701 total time=  16.6s\n",
      "[CV 3/3] END bootstrap=False, max_depth=70, min_samples_leaf=1, min_samples_split=10, n_estimators=130;, score=0.694 total time=  18.4s\n",
      "[CV 2/3] END bootstrap=False, max_depth=30, min_samples_leaf=4, min_samples_split=2, n_estimators=130;, score=0.709 total time=  16.2s\n",
      "[CV 3/3] END bootstrap=False, max_depth=30, min_samples_leaf=4, min_samples_split=2, n_estimators=130;, score=0.700 total time=  15.9s\n",
      "[CV 1/3] END bootstrap=False, max_depth=None, min_samples_leaf=4, min_samples_split=10, n_estimators=130;, score=0.698 total time=  16.3s\n",
      "[CV 1/3] END bootstrap=False, max_depth=30, min_samples_leaf=1, min_samples_split=5, n_estimators=180;, score=0.694 total time=  25.6s\n",
      "[CV 2/3] END bootstrap=False, max_depth=None, min_samples_leaf=4, min_samples_split=10, n_estimators=130;, score=0.711 total time=  16.2s\n",
      "[CV 3/3] END bootstrap=False, max_depth=None, min_samples_leaf=4, min_samples_split=10, n_estimators=130;, score=0.699 total time=  16.3s\n",
      "[CV 1/3] END bootstrap=True, max_depth=50, min_samples_leaf=1, min_samples_split=10, n_estimators=180;, score=0.695 total time=  16.2s\n",
      "[CV 2/3] END bootstrap=True, max_depth=50, min_samples_leaf=1, min_samples_split=10, n_estimators=180;, score=0.706 total time=  15.8s\n",
      "[CV 2/3] END bootstrap=False, max_depth=30, min_samples_leaf=1, min_samples_split=5, n_estimators=180;, score=0.703 total time=  25.5s\n",
      "[CV 3/3] END bootstrap=False, max_depth=30, min_samples_leaf=1, min_samples_split=5, n_estimators=180;, score=0.694 total time=  25.4s\n",
      "[CV 3/3] END bootstrap=True, max_depth=50, min_samples_leaf=1, min_samples_split=10, n_estimators=180;, score=0.692 total time=  15.7s\n",
      "[CV 2/3] END bootstrap=True, max_depth=60, min_samples_leaf=1, min_samples_split=5, n_estimators=230;, score=0.701 total time=  20.4s\n",
      "[CV 3/3] END bootstrap=True, max_depth=60, min_samples_leaf=1, min_samples_split=5, n_estimators=230;, score=0.694 total time=  20.7s\n",
      "[CV 1/3] END bootstrap=True, max_depth=60, min_samples_leaf=1, min_samples_split=5, n_estimators=230;, score=0.695 total time=  21.1s\n",
      "[CV 1/3] END bootstrap=False, max_depth=90, min_samples_leaf=4, min_samples_split=2, n_estimators=230;, score=0.702 total time=  29.1s\n",
      "[CV 2/3] END bootstrap=False, max_depth=90, min_samples_leaf=4, min_samples_split=2, n_estimators=230;, score=0.710 total time=  29.1s\n",
      "[CV 3/3] END bootstrap=False, max_depth=90, min_samples_leaf=4, min_samples_split=2, n_estimators=230;, score=0.702 total time=  28.8s\n",
      "[CV 2/3] END bootstrap=True, max_depth=None, min_samples_leaf=1, min_samples_split=2, n_estimators=130;, score=0.704 total time=  11.7s\n",
      "[CV 1/3] END bootstrap=True, max_depth=None, min_samples_leaf=1, min_samples_split=2, n_estimators=130;, score=0.686 total time=  11.9s\n",
      "[CV 1/3] END bootstrap=False, max_depth=30, min_samples_leaf=1, min_samples_split=5, n_estimators=230;, score=0.695 total time=  32.8s\n",
      "[CV 3/3] END bootstrap=True, max_depth=None, min_samples_leaf=1, min_samples_split=2, n_estimators=130;, score=0.690 total time=  12.0s\n",
      "[CV 2/3] END bootstrap=False, max_depth=30, min_samples_leaf=1, min_samples_split=5, n_estimators=230;, score=0.704 total time=  33.0s\n",
      "[CV 1/3] END bootstrap=True, max_depth=100, min_samples_leaf=4, min_samples_split=2, n_estimators=180;, score=0.698 total time=  14.9s\n",
      "[CV 2/3] END bootstrap=True, max_depth=100, min_samples_leaf=4, min_samples_split=2, n_estimators=180;, score=0.708 total time=  14.7s\n",
      "[CV 3/3] END bootstrap=True, max_depth=100, min_samples_leaf=4, min_samples_split=2, n_estimators=180;, score=0.700 total time=  14.8s\n",
      "[CV 1/3] END bootstrap=False, max_depth=30, min_samples_leaf=1, min_samples_split=10, n_estimators=130;, score=0.695 total time=  18.3s\n",
      "[CV 3/3] END bootstrap=False, max_depth=30, min_samples_leaf=1, min_samples_split=5, n_estimators=230;, score=0.695 total time=  32.6s\n",
      "[CV 2/3] END bootstrap=False, max_depth=30, min_samples_leaf=1, min_samples_split=10, n_estimators=130;, score=0.704 total time=  18.5s\n",
      "[CV 3/3] END bootstrap=False, max_depth=30, min_samples_leaf=1, min_samples_split=10, n_estimators=130;, score=0.694 total time=  18.5s\n",
      "[CV 1/3] END bootstrap=True, max_depth=None, min_samples_leaf=4, min_samples_split=2, n_estimators=180;, score=0.698 total time=  14.8s\n",
      "[CV 2/3] END bootstrap=True, max_depth=None, min_samples_leaf=4, min_samples_split=2, n_estimators=180;, score=0.708 total time=  14.8s\n",
      "[CV 3/3] END bootstrap=False, max_depth=20, min_samples_leaf=4, min_samples_split=2, n_estimators=180;, score=0.701 total time=  22.3s\n",
      "[CV 1/3] END bootstrap=False, max_depth=20, min_samples_leaf=4, min_samples_split=2, n_estimators=180;, score=0.701 total time=  22.9s\n",
      "[CV 2/3] END bootstrap=False, max_depth=20, min_samples_leaf=4, min_samples_split=2, n_estimators=180;, score=0.711 total time=  22.6s\n",
      "[CV 3/3] END bootstrap=True, max_depth=None, min_samples_leaf=4, min_samples_split=2, n_estimators=180;, score=0.700 total time=  14.9s\n",
      "[CV 1/3] END bootstrap=True, max_depth=None, min_samples_leaf=1, min_samples_split=10, n_estimators=230;, score=0.696 total time=  20.3s\n",
      "[CV 2/3] END bootstrap=True, max_depth=None, min_samples_leaf=1, min_samples_split=10, n_estimators=230;, score=0.707 total time=  20.6s\n",
      "[CV 3/3] END bootstrap=True, max_depth=None, min_samples_leaf=1, min_samples_split=10, n_estimators=230;, score=0.693 total time=  20.3s\n",
      "[CV 1/3] END bootstrap=True, max_depth=90, min_samples_leaf=4, min_samples_split=5, n_estimators=230;, score=0.699 total time=  18.4s\n",
      "[CV 2/3] END bootstrap=True, max_depth=90, min_samples_leaf=4, min_samples_split=5, n_estimators=230;, score=0.710 total time=  18.1s\n",
      "[CV 1/3] END bootstrap=False, max_depth=90, min_samples_leaf=4, min_samples_split=5, n_estimators=180;, score=0.702 total time=  22.7s\n",
      "[CV 2/3] END bootstrap=False, max_depth=90, min_samples_leaf=4, min_samples_split=5, n_estimators=180;, score=0.709 total time=  22.7s\n",
      "[CV 3/3] END bootstrap=False, max_depth=90, min_samples_leaf=4, min_samples_split=5, n_estimators=180;, score=0.702 total time=  22.5s\n",
      "[CV 3/3] END bootstrap=True, max_depth=90, min_samples_leaf=4, min_samples_split=5, n_estimators=230;, score=0.699 total time=  18.8s\n",
      "[CV 1/3] END bootstrap=False, max_depth=30, min_samples_leaf=4, min_samples_split=10, n_estimators=180;, score=0.702 total time=  23.5s\n",
      "[CV 1/3] END bootstrap=True, max_depth=None, min_samples_leaf=4, min_samples_split=5, n_estimators=180;, score=0.698 total time=  14.6s\n",
      "[CV 2/3] END bootstrap=False, max_depth=30, min_samples_leaf=4, min_samples_split=10, n_estimators=180;, score=0.712 total time=  22.8s\n",
      "[CV 3/3] END bootstrap=False, max_depth=30, min_samples_leaf=4, min_samples_split=10, n_estimators=180;, score=0.700 total time=  22.8s\n",
      "[CV 2/3] END bootstrap=True, max_depth=None, min_samples_leaf=4, min_samples_split=5, n_estimators=180;, score=0.708 total time=  14.9s\n",
      "[CV 1/3] END bootstrap=False, max_depth=None, min_samples_leaf=2, min_samples_split=10, n_estimators=180;, score=0.700 total time=  24.8s\n",
      "[CV 2/3] END bootstrap=False, max_depth=None, min_samples_leaf=2, min_samples_split=10, n_estimators=180;, score=0.710 total time=  24.6s\n",
      "[CV 3/3] END bootstrap=False, max_depth=None, min_samples_leaf=2, min_samples_split=10, n_estimators=180;, score=0.701 total time=  24.3s\n",
      "[CV 1/3] END bootstrap=True, max_depth=None, min_samples_leaf=2, min_samples_split=2, n_estimators=130;, score=0.698 total time=  11.7s\n",
      "[CV 2/3] END bootstrap=True, max_depth=None, min_samples_leaf=2, min_samples_split=2, n_estimators=130;, score=0.704 total time=  11.5s\n",
      "[CV 3/3] END bootstrap=True, max_depth=None, min_samples_leaf=4, min_samples_split=5, n_estimators=180;, score=0.700 total time=  14.8s\n",
      "[CV 3/3] END bootstrap=True, max_depth=None, min_samples_leaf=2, min_samples_split=2, n_estimators=130;, score=0.690 total time=  11.2s\n",
      "[CV 1/3] END bootstrap=True, max_depth=80, min_samples_leaf=1, min_samples_split=2, n_estimators=230;, score=0.690 total time=  20.3s\n",
      "[CV 2/3] END bootstrap=True, max_depth=80, min_samples_leaf=1, min_samples_split=2, n_estimators=230;, score=0.707 total time=  20.2s\n",
      "[CV 3/3] END bootstrap=True, max_depth=80, min_samples_leaf=1, min_samples_split=2, n_estimators=230;, score=0.692 total time=  20.3s\n",
      "[CV 1/3] END bootstrap=False, max_depth=None, min_samples_leaf=4, min_samples_split=2, n_estimators=230;, score=0.702 total time=  29.0s\n",
      "[CV 2/3] END bootstrap=False, max_depth=None, min_samples_leaf=4, min_samples_split=2, n_estimators=230;, score=0.710 total time=  28.7s\n",
      "[CV 3/3] END bootstrap=False, max_depth=None, min_samples_leaf=4, min_samples_split=2, n_estimators=230;, score=0.702 total time=  28.3s\n",
      "[CV 1/3] END bootstrap=False, max_depth=90, min_samples_leaf=4, min_samples_split=2, n_estimators=180;, score=0.702 total time=  22.6s\n",
      "[CV 2/3] END bootstrap=False, max_depth=90, min_samples_leaf=4, min_samples_split=2, n_estimators=180;, score=0.709 total time=  22.2s\n",
      "[CV 3/3] END bootstrap=False, max_depth=90, min_samples_leaf=4, min_samples_split=2, n_estimators=180;, score=0.702 total time=  19.7s\n",
      "[CV 1/3] END bootstrap=False, max_depth=80, min_samples_leaf=4, min_samples_split=5, n_estimators=230;, score=0.702 total time=  23.8s\n",
      "[CV 2/3] END bootstrap=False, max_depth=80, min_samples_leaf=4, min_samples_split=5, n_estimators=230;, score=0.710 total time=  23.1s\n",
      "[CV 3/3] END bootstrap=False, max_depth=80, min_samples_leaf=4, min_samples_split=5, n_estimators=230;, score=0.702 total time=  22.4s\n"
     ]
    },
    {
     "data": {
      "text/plain": [
       "{'n_estimators': 230,\n",
       " 'min_samples_split': 2,\n",
       " 'min_samples_leaf': 2,\n",
       " 'max_depth': 10,\n",
       " 'bootstrap': False}"
      ]
     },
     "execution_count": 395,
     "metadata": {},
     "output_type": "execute_result"
    }
   ],
   "source": [
    "rscv2 = RandomizedSearchCV(\n",
    "    estimator=rfc2,\n",
    "    param_distributions=rfc_hyperparameters,\n",
    "    cv=3, n_iter=50,\n",
    "    scoring='roc_auc', n_jobs=-1,\n",
    "    verbose=5, \n",
    "    random_state=SEED\n",
    ")\n",
    "\n",
    "rscv2.fit(x_train ,y_train.popular)\n",
    "rscv2.best_params_"
   ]
  },
  {
   "cell_type": "code",
   "execution_count": 396,
   "metadata": {},
   "outputs": [
    {
     "data": {
      "text/plain": [
       "0.718374705870142"
      ]
     },
     "execution_count": 396,
     "metadata": {},
     "output_type": "execute_result"
    }
   ],
   "source": [
    "rfc3 = RandomForestClassifier(\n",
    "    n_estimators=230,\n",
    "    min_samples_split=2,\n",
    "    min_samples_leaf=2,\n",
    "    max_depth=10,\n",
    "    bootstrap=False,\n",
    "    random_state=SEED\n",
    ")\n",
    "fit_and_score(rfc3, x_train, x_valid, y_train.popular, y_valid.popular)"
   ]
  },
  {
   "cell_type": "markdown",
   "metadata": {},
   "source": [
    "### Modelo Final -> Score: 0.7229515923613545"
   ]
  },
  {
   "cell_type": "markdown",
   "metadata": {},
   "source": [
    "Los resultados de la búsqueda dieron unos parámetros que hacían que el score fuera 0.718374705870142. Usando éstos parámetros que conseguí en una búsqueda previa a las últimas el score da más alto, por eso me quedo con ellos."
   ]
  },
  {
   "cell_type": "code",
   "execution_count": 397,
   "metadata": {},
   "outputs": [
    {
     "data": {
      "text/plain": [
       "0.7229515923613545"
      ]
     },
     "execution_count": 397,
     "metadata": {},
     "output_type": "execute_result"
    }
   ],
   "source": [
    "rfc_final = RandomForestClassifier(\n",
    "    n_estimators=230,\n",
    "    min_samples_split=5,\n",
    "    min_samples_leaf=4,\n",
    "    max_depth=30,\n",
    "    bootstrap=False,\n",
    "    random_state=SEED\n",
    ")\n",
    "fit_and_score(rfc_final, x_train, x_valid, y_train.popular, y_valid.popular)"
   ]
  }
 ],
 "metadata": {
  "interpreter": {
   "hash": "b0fa6594d8f4cbf19f97940f81e996739fb7646882a419484c72d19e05852a7e"
  },
  "kernelspec": {
   "display_name": "Python 3.9.12 64-bit",
   "language": "python",
   "name": "python3"
  },
  "language_info": {
   "codemirror_mode": {
    "name": "ipython",
    "version": 3
   },
   "file_extension": ".py",
   "mimetype": "text/x-python",
   "name": "python",
   "nbconvert_exporter": "python",
   "pygments_lexer": "ipython3",
   "version": "3.9.12"
  },
  "orig_nbformat": 4
 },
 "nbformat": 4,
 "nbformat_minor": 2
}
