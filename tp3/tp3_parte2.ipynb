{
 "cells": [
  {
   "cell_type": "code",
   "execution_count": 324,
   "metadata": {},
   "outputs": [],
   "source": [
    "import pandas as pd\n",
    "from sklearn.linear_model import LogisticRegression\n",
    "from sklearn.model_selection import train_test_split\n",
    "from sklearn.preprocessing import OneHotEncoder, MultiLabelBinarizer\n",
    "from sklearn.metrics import roc_auc_score, classification_report\n",
    "from sklearn.feature_extraction.text import CountVectorizer\n",
    "\n",
    "from typing import Dict, Any"
   ]
  },
  {
   "cell_type": "code",
   "execution_count": 325,
   "metadata": {},
   "outputs": [],
   "source": [
    "test = pd.read_parquet('test')\n",
    "train = pd.read_parquet('train')"
   ]
  },
  {
   "cell_type": "code",
   "execution_count": 326,
   "metadata": {},
   "outputs": [],
   "source": [
    "model = LogisticRegression()\n",
    "one_hot_encoder = OneHotEncoder()\n",
    "multilabel_binarizer = MultiLabelBinarizer()\n",
    "count_vectorizer = CountVectorizer(analyzer='word', stop_words='english', max_features=10)"
   ]
  },
  {
   "cell_type": "code",
   "execution_count": 327,
   "metadata": {},
   "outputs": [],
   "source": [
    "X_FEATURES = [\n",
    "    'timedelta', 'n_tokens_title', 'n_tokens_content',\n",
    "    'n_unique_tokens', 'n_non_stop_words', 'n_non_stop_unique_tokens',\n",
    "    'num_hrefs', 'num_self_hrefs', 'num_imgs', 'num_videos',\n",
    "    'average_token_length', 'num_keywords', 'data_channel_is_lifestyle',\n",
    "    'data_channel_is_entertainment', 'data_channel_is_bus',\n",
    "    'data_channel_is_socmed', 'data_channel_is_tech',\n",
    "    'data_channel_is_world', 'kw_min_min', 'kw_max_min', 'kw_avg_min',\n",
    "    'kw_min_max', 'kw_max_max', 'kw_avg_max', 'kw_min_avg', 'kw_max_avg',\n",
    "    'kw_avg_avg', 'self_reference_min_shares', 'self_reference_max_shares',\n",
    "    'self_reference_avg_sharess', 'weekday_is_monday', 'weekday_is_tuesday',\n",
    "    'weekday_is_wednesday', 'weekday_is_thursday', 'weekday_is_friday',\n",
    "    'weekday_is_saturday', 'weekday_is_sunday', 'is_weekend', 'LDA_00',\n",
    "    'LDA_01', 'LDA_02', 'LDA_03', 'LDA_04', 'global_subjectivity',\n",
    "    'global_sentiment_polarity', 'global_rate_positive_words',\n",
    "    'global_rate_negative_words', 'rate_positive_words',\n",
    "    'rate_negative_words', 'avg_positive_polarity', 'min_positive_polarity',\n",
    "    'max_positive_polarity', 'avg_negative_polarity',\n",
    "    'min_negative_polarity', 'max_negative_polarity', 'title_subjectivity',\n",
    "    'title_sentiment_polarity', 'abs_title_subjectivity',\n",
    "    'abs_title_sentiment_polarity', 'content', 'surprise1', 'surprise2',\n",
    "]\n",
    "\n",
    "Y_FEATURES = ['popular']"
   ]
  },
  {
   "cell_type": "markdown",
   "metadata": {},
   "source": [
    "Ordeno por el feature `timedelta`"
   ]
  },
  {
   "cell_type": "code",
   "execution_count": 328,
   "metadata": {},
   "outputs": [],
   "source": [
    "train = train.sort_values('timedelta', ascending=False)"
   ]
  },
  {
   "cell_type": "code",
   "execution_count": 329,
   "metadata": {},
   "outputs": [],
   "source": [
    "x_test = test[X_FEATURES]\n",
    "y_test = test[Y_FEATURES]"
   ]
  },
  {
   "cell_type": "markdown",
   "metadata": {},
   "source": [
    "Splitteo el set de entrenamiento en $20\\%$ `valid` y $80\\%$ `train`"
   ]
  },
  {
   "cell_type": "code",
   "execution_count": 330,
   "metadata": {},
   "outputs": [],
   "source": [
    "x_train, x_valid, y_train, y_valid = train_test_split(train[X_FEATURES], train[Y_FEATURES], test_size=0.2, random_state=10)\n",
    "\n",
    "def assert_proportion_of_dataset_partition_is(expected_proportion, dataset_to_check, complete_dataset):\n",
    "    assert(round((len(dataset_to_check) / len(complete_dataset)), 1) == expected_proportion)\n",
    "\n",
    "assert_proportion_of_dataset_partition_is(expected_proportion=.8, dataset_to_check=x_train, complete_dataset=train[X_FEATURES])\n",
    "assert_proportion_of_dataset_partition_is(expected_proportion=.2, dataset_to_check=x_valid, complete_dataset=train[X_FEATURES])\n",
    "assert_proportion_of_dataset_partition_is(expected_proportion=.8, dataset_to_check=y_train, complete_dataset=train[Y_FEATURES])\n",
    "assert_proportion_of_dataset_partition_is(expected_proportion=.2, dataset_to_check=y_valid, complete_dataset=train[Y_FEATURES])"
   ]
  },
  {
   "cell_type": "markdown",
   "metadata": {},
   "source": [
    "Me deshago de la feature `timedelta` para no entrenar con ella ya que [por si sola no sirve para predecir ](https://organizacinde-ea47838.slack.com/archives/C02E5FKDTDE/p1654617760733479)."
   ]
  },
  {
   "cell_type": "code",
   "execution_count": 331,
   "metadata": {},
   "outputs": [],
   "source": [
    "x_train = x_train.drop('timedelta', axis=1)\n",
    "x_valid = x_valid.drop('timedelta', axis=1)"
   ]
  },
  {
   "cell_type": "markdown",
   "metadata": {},
   "source": [
    "# Encoding"
   ]
  },
  {
   "cell_type": "markdown",
   "metadata": {},
   "source": [
    "Encodeo la feature categorica `surprise1` tanto en el `train` set como en el `valid` set."
   ]
  },
  {
   "cell_type": "code",
   "execution_count": 332,
   "metadata": {},
   "outputs": [],
   "source": [
    "encoded_surprise1_train = one_hot_encoder.fit_transform(x_train[['surprise1']]).todense().astype(int)\n",
    "encoded_surprise1_valid = one_hot_encoder.transform(x_valid[['surprise1']]).todense().astype(int)\n",
    "\n",
    "x_train['surprise1'] = encoded_surprise1_train\n",
    "x_valid['surprise1'] = encoded_surprise1_valid"
   ]
  },
  {
   "cell_type": "markdown",
   "metadata": {},
   "source": [
    "Encodeo la feature categorica `surprise2` tanto en el `x_train` set como en el `x_valid` set no sin antes reemplazar los strings vacíos por `\"unknown\"`."
   ]
  },
  {
   "cell_type": "code",
   "execution_count": 333,
   "metadata": {},
   "outputs": [],
   "source": [
    "x_train['surprise2'] = x_train['surprise2'].map(lambda x: 'unknown' if x == '' else x)\n",
    "x_valid['surprise2'] = x_valid['surprise2'].map(lambda x: 'unknown' if x == '' else x)\n",
    "\n",
    "encoded_surprise2_train = multilabel_binarizer.fit_transform(x_train['surprise2'])\n",
    "encoded_surprise2_valid = multilabel_binarizer.transform(x_valid['surprise2'])\n",
    "\n",
    "x_train['surprise2'] = encoded_surprise2_train\n",
    "x_valid['surprise2'] = encoded_surprise2_valid"
   ]
  },
  {
   "cell_type": "markdown",
   "metadata": {},
   "source": [
    "Encodeo la feature categorica `popular` tanto en el `y_train` set como en el `y_valid`."
   ]
  },
  {
   "cell_type": "code",
   "execution_count": 334,
   "metadata": {},
   "outputs": [],
   "source": [
    "encoded_y_train = one_hot_encoder.fit_transform(y_train[['popular']]).todense().astype(int)\n",
    "encoded_y_valid = one_hot_encoder.transform(y_valid[['popular']]).todense().astype(int)\n",
    "y_train['popular'] = encoded_y_train\n",
    "y_valid['popular'] = encoded_y_valid"
   ]
  },
  {
   "cell_type": "code",
   "execution_count": 335,
   "metadata": {},
   "outputs": [
    {
     "name": "stderr",
     "output_type": "stream",
     "text": [
      "/opt/homebrew/lib/python3.9/site-packages/sklearn/utils/deprecation.py:87: FutureWarning: Function get_feature_names is deprecated; get_feature_names is deprecated in 1.0 and will be removed in 1.2. Please use get_feature_names_out instead.\n",
      "  warnings.warn(msg, category=FutureWarning)\n",
      "/opt/homebrew/lib/python3.9/site-packages/sklearn/utils/deprecation.py:87: FutureWarning: Function get_feature_names is deprecated; get_feature_names is deprecated in 1.0 and will be removed in 1.2. Please use get_feature_names_out instead.\n",
      "  warnings.warn(msg, category=FutureWarning)\n"
     ]
    }
   ],
   "source": [
    "x_train['content'] = x_train['content'].fillna('')\n",
    "x_valid['content'] = x_valid['content'].fillna('')\n",
    "\n",
    "vectorized_x_train_content = count_vectorizer.fit_transform(x_train['content'].tolist()).toarray()\n",
    "x_train_content_word_count = pd.DataFrame(vectorized_x_train_content, columns=count_vectorizer.get_feature_names())\n",
    "\n",
    "vectorized_x_valid_content = count_vectorizer.transform(x_valid['content'].tolist()).toarray()\n",
    "x_valid_content_word_count = pd.DataFrame(vectorized_x_valid_content, columns=count_vectorizer.get_feature_names())\n",
    "\n",
    "x_train['content'] = vectorized_x_train_content\n",
    "x_valid['content'] = vectorized_x_valid_content\n",
    "\n",
    "x_train = pd.concat([x_train.reset_index(), x_train_content_word_count.reset_index()], axis=1)\n",
    "x_valid = pd.concat([x_valid.reset_index(), x_valid_content_word_count.reset_index()], axis=1)"
   ]
  },
  {
   "cell_type": "code",
   "execution_count": 336,
   "metadata": {},
   "outputs": [],
   "source": [
    "# x_train = x_train.join(x_train_content_word_count)\n",
    "# x_valid = x_valid.join(x_valid_content_word_count)"
   ]
  },
  {
   "cell_type": "code",
   "execution_count": 337,
   "metadata": {},
   "outputs": [],
   "source": [
    "x_train = x_train.fillna(0.0)\n",
    "x_valid = x_valid.fillna(0.0)"
   ]
  },
  {
   "cell_type": "code",
   "execution_count": 338,
   "metadata": {},
   "outputs": [
    {
     "name": "stderr",
     "output_type": "stream",
     "text": [
      "/opt/homebrew/lib/python3.9/site-packages/sklearn/linear_model/_logistic.py:444: ConvergenceWarning: lbfgs failed to converge (status=1):\n",
      "STOP: TOTAL NO. of ITERATIONS REACHED LIMIT.\n",
      "\n",
      "Increase the number of iterations (max_iter) or scale the data as shown in:\n",
      "    https://scikit-learn.org/stable/modules/preprocessing.html\n",
      "Please also refer to the documentation for alternative solver options:\n",
      "    https://scikit-learn.org/stable/modules/linear_model.html#logistic-regression\n",
      "  n_iter_i = _check_optimize_result(\n"
     ]
    },
    {
     "data": {
      "text/html": [
       "<style>#sk-container-id-12 {color: black;background-color: white;}#sk-container-id-12 pre{padding: 0;}#sk-container-id-12 div.sk-toggleable {background-color: white;}#sk-container-id-12 label.sk-toggleable__label {cursor: pointer;display: block;width: 100%;margin-bottom: 0;padding: 0.3em;box-sizing: border-box;text-align: center;}#sk-container-id-12 label.sk-toggleable__label-arrow:before {content: \"▸\";float: left;margin-right: 0.25em;color: #696969;}#sk-container-id-12 label.sk-toggleable__label-arrow:hover:before {color: black;}#sk-container-id-12 div.sk-estimator:hover label.sk-toggleable__label-arrow:before {color: black;}#sk-container-id-12 div.sk-toggleable__content {max-height: 0;max-width: 0;overflow: hidden;text-align: left;background-color: #f0f8ff;}#sk-container-id-12 div.sk-toggleable__content pre {margin: 0.2em;color: black;border-radius: 0.25em;background-color: #f0f8ff;}#sk-container-id-12 input.sk-toggleable__control:checked~div.sk-toggleable__content {max-height: 200px;max-width: 100%;overflow: auto;}#sk-container-id-12 input.sk-toggleable__control:checked~label.sk-toggleable__label-arrow:before {content: \"▾\";}#sk-container-id-12 div.sk-estimator input.sk-toggleable__control:checked~label.sk-toggleable__label {background-color: #d4ebff;}#sk-container-id-12 div.sk-label input.sk-toggleable__control:checked~label.sk-toggleable__label {background-color: #d4ebff;}#sk-container-id-12 input.sk-hidden--visually {border: 0;clip: rect(1px 1px 1px 1px);clip: rect(1px, 1px, 1px, 1px);height: 1px;margin: -1px;overflow: hidden;padding: 0;position: absolute;width: 1px;}#sk-container-id-12 div.sk-estimator {font-family: monospace;background-color: #f0f8ff;border: 1px dotted black;border-radius: 0.25em;box-sizing: border-box;margin-bottom: 0.5em;}#sk-container-id-12 div.sk-estimator:hover {background-color: #d4ebff;}#sk-container-id-12 div.sk-parallel-item::after {content: \"\";width: 100%;border-bottom: 1px solid gray;flex-grow: 1;}#sk-container-id-12 div.sk-label:hover label.sk-toggleable__label {background-color: #d4ebff;}#sk-container-id-12 div.sk-serial::before {content: \"\";position: absolute;border-left: 1px solid gray;box-sizing: border-box;top: 0;bottom: 0;left: 50%;z-index: 0;}#sk-container-id-12 div.sk-serial {display: flex;flex-direction: column;align-items: center;background-color: white;padding-right: 0.2em;padding-left: 0.2em;position: relative;}#sk-container-id-12 div.sk-item {position: relative;z-index: 1;}#sk-container-id-12 div.sk-parallel {display: flex;align-items: stretch;justify-content: center;background-color: white;position: relative;}#sk-container-id-12 div.sk-item::before, #sk-container-id-12 div.sk-parallel-item::before {content: \"\";position: absolute;border-left: 1px solid gray;box-sizing: border-box;top: 0;bottom: 0;left: 50%;z-index: -1;}#sk-container-id-12 div.sk-parallel-item {display: flex;flex-direction: column;z-index: 1;position: relative;background-color: white;}#sk-container-id-12 div.sk-parallel-item:first-child::after {align-self: flex-end;width: 50%;}#sk-container-id-12 div.sk-parallel-item:last-child::after {align-self: flex-start;width: 50%;}#sk-container-id-12 div.sk-parallel-item:only-child::after {width: 0;}#sk-container-id-12 div.sk-dashed-wrapped {border: 1px dashed gray;margin: 0 0.4em 0.5em 0.4em;box-sizing: border-box;padding-bottom: 0.4em;background-color: white;}#sk-container-id-12 div.sk-label label {font-family: monospace;font-weight: bold;display: inline-block;line-height: 1.2em;}#sk-container-id-12 div.sk-label-container {text-align: center;}#sk-container-id-12 div.sk-container {/* jupyter's `normalize.less` sets `[hidden] { display: none; }` but bootstrap.min.css set `[hidden] { display: none !important; }` so we also need the `!important` here to be able to override the default hidden behavior on the sphinx rendered scikit-learn.org. See: https://github.com/scikit-learn/scikit-learn/issues/21755 */display: inline-block !important;position: relative;}#sk-container-id-12 div.sk-text-repr-fallback {display: none;}</style><div id=\"sk-container-id-12\" class=\"sk-top-container\"><div class=\"sk-text-repr-fallback\"><pre>LogisticRegression()</pre><b>In a Jupyter environment, please rerun this cell to show the HTML representation or trust the notebook. <br />On GitHub, the HTML representation is unable to render, please try loading this page with nbviewer.org.</b></div><div class=\"sk-container\" hidden><div class=\"sk-item\"><div class=\"sk-estimator sk-toggleable\"><input class=\"sk-toggleable__control sk-hidden--visually\" id=\"sk-estimator-id-12\" type=\"checkbox\" checked><label for=\"sk-estimator-id-12\" class=\"sk-toggleable__label sk-toggleable__label-arrow\">LogisticRegression</label><div class=\"sk-toggleable__content\"><pre>LogisticRegression()</pre></div></div></div></div></div>"
      ],
      "text/plain": [
       "LogisticRegression()"
      ]
     },
     "execution_count": 338,
     "metadata": {},
     "output_type": "execute_result"
    }
   ],
   "source": [
    "model.fit(x_train, y_train['popular'])"
   ]
  },
  {
   "cell_type": "code",
   "execution_count": 339,
   "metadata": {},
   "outputs": [
    {
     "data": {
      "text/plain": [
       "array([1, 1, 1, ..., 1, 1, 1])"
      ]
     },
     "execution_count": 339,
     "metadata": {},
     "output_type": "execute_result"
    }
   ],
   "source": [
    "binary_predictions = model.predict(x_valid)\n",
    "binary_predictions"
   ]
  },
  {
   "cell_type": "code",
   "execution_count": 340,
   "metadata": {},
   "outputs": [
    {
     "name": "stdout",
     "output_type": "stream",
     "text": [
      "              precision    recall  f1-score   support\n",
      "\n",
      "           0       0.20      0.03      0.05      1446\n",
      "           1       0.80      0.97      0.87      5687\n",
      "\n",
      "    accuracy                           0.78      7133\n",
      "   macro avg       0.50      0.50      0.46      7133\n",
      "weighted avg       0.68      0.78      0.71      7133\n",
      "\n"
     ]
    }
   ],
   "source": [
    "print(classification_report(y_valid['popular'], binary_predictions))"
   ]
  },
  {
   "cell_type": "code",
   "execution_count": 341,
   "metadata": {},
   "outputs": [
    {
     "data": {
      "text/plain": [
       "array([0.77594105, 0.53512458, 0.72858575, ..., 0.78326306, 0.76108965,\n",
       "       0.82585208])"
      ]
     },
     "execution_count": 341,
     "metadata": {},
     "output_type": "execute_result"
    }
   ],
   "source": [
    "probability_predictions = model.predict_proba(x_valid)[:,1]\n",
    "probability_predictions"
   ]
  },
  {
   "cell_type": "code",
   "execution_count": 342,
   "metadata": {},
   "outputs": [
    {
     "data": {
      "text/plain": [
       "0.5921967574976876"
      ]
     },
     "execution_count": 342,
     "metadata": {},
     "output_type": "execute_result"
    }
   ],
   "source": [
    "roc_auc_score(y_valid['popular'], probability_predictions)"
   ]
  },
  {
   "cell_type": "code",
   "execution_count": 343,
   "metadata": {},
   "outputs": [
    {
     "ename": "IndexError",
     "evalue": "too many indices for array: array is 1-dimensional, but 2 were indexed",
     "output_type": "error",
     "traceback": [
      "\u001b[0;31m---------------------------------------------------------------------------\u001b[0m",
      "\u001b[0;31mIndexError\u001b[0m                                Traceback (most recent call last)",
      "\u001b[1;32m/Users/ivanlitteri/Projects/datos/tp3/tp3_parte2.ipynb Cell 27'\u001b[0m in \u001b[0;36m<cell line: 4>\u001b[0;34m()\u001b[0m\n\u001b[1;32m      <a href='vscode-notebook-cell:/Users/ivanlitteri/Projects/datos/tp3/tp3_parte2.ipynb#ch0000043?line=0'>1</a>\u001b[0m \u001b[39mimport\u001b[39;00m \u001b[39mscikitplot\u001b[39;00m \u001b[39mas\u001b[39;00m \u001b[39mskplt\u001b[39;00m\n\u001b[1;32m      <a href='vscode-notebook-cell:/Users/ivanlitteri/Projects/datos/tp3/tp3_parte2.ipynb#ch0000043?line=1'>2</a>\u001b[0m \u001b[39mimport\u001b[39;00m \u001b[39mmatplotlib\u001b[39;00m\u001b[39m.\u001b[39;00m\u001b[39mpyplot\u001b[39;00m \u001b[39mas\u001b[39;00m \u001b[39mplt\u001b[39;00m\n\u001b[0;32m----> <a href='vscode-notebook-cell:/Users/ivanlitteri/Projects/datos/tp3/tp3_parte2.ipynb#ch0000043?line=3'>4</a>\u001b[0m skplt\u001b[39m.\u001b[39;49mmetrics\u001b[39m.\u001b[39;49mplot_roc(y_valid, probability_predictions, classes_to_plot\u001b[39m=\u001b[39;49m\u001b[39m1\u001b[39;49m, plot_micro\u001b[39m=\u001b[39;49m\u001b[39mFalse\u001b[39;49;00m, plot_macro\u001b[39m=\u001b[39;49m\u001b[39mFalse\u001b[39;49;00m, figsize\u001b[39m=\u001b[39;49m(\u001b[39m10\u001b[39;49m,\u001b[39m10\u001b[39;49m))\n\u001b[1;32m      <a href='vscode-notebook-cell:/Users/ivanlitteri/Projects/datos/tp3/tp3_parte2.ipynb#ch0000043?line=4'>5</a>\u001b[0m plt\u001b[39m.\u001b[39mrcParams\u001b[39m.\u001b[39mupdate({\u001b[39m'\u001b[39m\u001b[39mtext.color\u001b[39m\u001b[39m'\u001b[39m: \u001b[39m\"\u001b[39m\u001b[39mblue\u001b[39m\u001b[39m\"\u001b[39m,\n\u001b[1;32m      <a href='vscode-notebook-cell:/Users/ivanlitteri/Projects/datos/tp3/tp3_parte2.ipynb#ch0000043?line=5'>6</a>\u001b[0m                      \u001b[39m'\u001b[39m\u001b[39maxes.labelcolor\u001b[39m\u001b[39m'\u001b[39m: \u001b[39m\"\u001b[39m\u001b[39mwhite\u001b[39m\u001b[39m\"\u001b[39m})\n\u001b[1;32m      <a href='vscode-notebook-cell:/Users/ivanlitteri/Projects/datos/tp3/tp3_parte2.ipynb#ch0000043?line=7'>8</a>\u001b[0m plt\u001b[39m.\u001b[39mshow()\n",
      "File \u001b[0;32m/opt/homebrew/lib/python3.9/site-packages/scikitplot/metrics.py:414\u001b[0m, in \u001b[0;36mplot_roc\u001b[0;34m(y_true, y_probas, title, plot_micro, plot_macro, classes_to_plot, ax, figsize, cmap, title_fontsize, text_fontsize)\u001b[0m\n\u001b[1;32m    <a href='file:///opt/homebrew/lib/python3.9/site-packages/scikitplot/metrics.py?line=411'>412</a>\u001b[0m indices_to_plot \u001b[39m=\u001b[39m np\u001b[39m.\u001b[39min1d(classes, classes_to_plot)\n\u001b[1;32m    <a href='file:///opt/homebrew/lib/python3.9/site-packages/scikitplot/metrics.py?line=412'>413</a>\u001b[0m \u001b[39mfor\u001b[39;00m i, to_plot \u001b[39min\u001b[39;00m \u001b[39menumerate\u001b[39m(indices_to_plot):\n\u001b[0;32m--> <a href='file:///opt/homebrew/lib/python3.9/site-packages/scikitplot/metrics.py?line=413'>414</a>\u001b[0m     fpr_dict[i], tpr_dict[i], _ \u001b[39m=\u001b[39m roc_curve(y_true, probas[:, i],\n\u001b[1;32m    <a href='file:///opt/homebrew/lib/python3.9/site-packages/scikitplot/metrics.py?line=414'>415</a>\u001b[0m                                             pos_label\u001b[39m=\u001b[39mclasses[i])\n\u001b[1;32m    <a href='file:///opt/homebrew/lib/python3.9/site-packages/scikitplot/metrics.py?line=415'>416</a>\u001b[0m     \u001b[39mif\u001b[39;00m to_plot:\n\u001b[1;32m    <a href='file:///opt/homebrew/lib/python3.9/site-packages/scikitplot/metrics.py?line=416'>417</a>\u001b[0m         roc_auc \u001b[39m=\u001b[39m auc(fpr_dict[i], tpr_dict[i])\n",
      "\u001b[0;31mIndexError\u001b[0m: too many indices for array: array is 1-dimensional, but 2 were indexed"
     ]
    },
    {
     "data": {
      "image/png": "[encoded data removed]",
      "text/plain": [
       "<Figure size 720x720 with 1 Axes>"
      ]
     },
     "metadata": {
      "needs_background": "light"
     },
     "output_type": "display_data"
    }
   ],
   "source": [
    "import scikitplot as skplt\n",
    "import matplotlib.pyplot as plt\n",
    "\n",
    "skplt.metrics.plot_roc(y_valid, probability_predictions, classes_to_plot=1, plot_micro=False, plot_macro=False, figsize=(10,10))\n",
    "plt.rcParams.update({'text.color': \"blue\",\n",
    "                     'axes.labelcolor': \"white\"})\n",
    "\n",
    "plt.show()"
   ]
  },
  {
   "cell_type": "markdown",
   "metadata": {},
   "source": [
    "# Búsqueda de Hiperparámetros"
   ]
  }
 ],
 "metadata": {
  "interpreter": {
   "hash": "ff5064364141eb148e5b989476545b1b3ee852d3af9a082c829b1ccc625c8429"
  },
  "kernelspec": {
   "display_name": "Python 3.9.13 ('base')",
   "language": "python",
   "name": "python3"
  },
  "language_info": {
   "codemirror_mode": {
    "name": "ipython",
    "version": 3
   },
   "file_extension": ".py",
   "mimetype": "text/x-python",
   "name": "python",
   "nbconvert_exporter": "python",
   "pygments_lexer": "ipython3",
   "version": "3.9.12"
  },
  "orig_nbformat": 4
 },
 "nbformat": 4,
 "nbformat_minor": 2
}
